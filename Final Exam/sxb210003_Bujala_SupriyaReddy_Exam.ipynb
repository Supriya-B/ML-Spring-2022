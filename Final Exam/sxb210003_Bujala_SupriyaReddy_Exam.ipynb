{
 "cells": [
  {
   "cell_type": "markdown",
   "id": "54329599",
   "metadata": {},
   "source": [
    "### Final Exam"
   ]
  },
  {
   "cell_type": "markdown",
   "id": "3300a327",
   "metadata": {},
   "source": [
    "### Clasification "
   ]
  },
  {
   "cell_type": "markdown",
   "id": "86cae975",
   "metadata": {},
   "source": [
    "#### Importing the needed libraries"
   ]
  },
  {
   "cell_type": "code",
   "execution_count": 1,
   "id": "f1ab8139",
   "metadata": {},
   "outputs": [],
   "source": [
    "import pandas as pd\n",
    "import numpy as np\n",
    "import matplotlib.pyplot as plt\n",
    "import seaborn as sns\n",
    "import shap\n",
    "import random\n",
    "from sklearn.linear_model import LogisticRegression,LinearRegression,Ridge,Lasso\n",
    "from sklearn.model_selection import train_test_split\n",
    "from sklearn.metrics import ConfusionMatrixDisplay, f1_score,roc_auc_score,accuracy_score,classification_report,confusion_matrix,mean_absolute_error,mean_squared_error,r2_score\n",
    "from sklearn.ensemble import GradientBoostingClassifier\n",
    "from sklearn.metrics import roc_auc_score,accuracy_score,f1_score,precision_score,recall_score\n",
    "from sklearn.tree import DecisionTreeClassifier\n",
    "from sklearn.metrics import roc_auc_score"
   ]
  },
  {
   "cell_type": "markdown",
   "id": "7a89e318",
   "metadata": {},
   "source": [
    "## Answer 1"
   ]
  },
  {
   "cell_type": "markdown",
   "id": "bfac96da",
   "metadata": {},
   "source": [
    "#### Load the data set exam_1_classification into \"data\""
   ]
  },
  {
   "cell_type": "code",
   "execution_count": 2,
   "id": "a72833d4",
   "metadata": {},
   "outputs": [],
   "source": [
    "data = pd.read_csv(\"exam_1_classification.csv\")"
   ]
  },
  {
   "cell_type": "markdown",
   "id": "0e77f332",
   "metadata": {},
   "source": [
    "#### Brief view of top few records"
   ]
  },
  {
   "cell_type": "code",
   "execution_count": 3,
   "id": "232ec2d2",
   "metadata": {
    "scrolled": false
   },
   "outputs": [
    {
     "data": {
      "text/html": [
       "<div>\n",
       "<style scoped>\n",
       "    .dataframe tbody tr th:only-of-type {\n",
       "        vertical-align: middle;\n",
       "    }\n",
       "\n",
       "    .dataframe tbody tr th {\n",
       "        vertical-align: top;\n",
       "    }\n",
       "\n",
       "    .dataframe thead th {\n",
       "        text-align: right;\n",
       "    }\n",
       "</style>\n",
       "<table border=\"1\" class=\"dataframe\">\n",
       "  <thead>\n",
       "    <tr style=\"text-align: right;\">\n",
       "      <th></th>\n",
       "      <th>col_0</th>\n",
       "      <th>col_1</th>\n",
       "      <th>col_2</th>\n",
       "      <th>col_3</th>\n",
       "      <th>col_4</th>\n",
       "      <th>col_5</th>\n",
       "      <th>col_6</th>\n",
       "      <th>col_7</th>\n",
       "      <th>col_8</th>\n",
       "      <th>col_9</th>\n",
       "      <th>...</th>\n",
       "      <th>col_11</th>\n",
       "      <th>col_12</th>\n",
       "      <th>col_13</th>\n",
       "      <th>col_14</th>\n",
       "      <th>col_15</th>\n",
       "      <th>col_16</th>\n",
       "      <th>col_17</th>\n",
       "      <th>col_18</th>\n",
       "      <th>col_19</th>\n",
       "      <th>y</th>\n",
       "    </tr>\n",
       "  </thead>\n",
       "  <tbody>\n",
       "    <tr>\n",
       "      <th>0</th>\n",
       "      <td>0.878396</td>\n",
       "      <td>10.781308</td>\n",
       "      <td>-0.945368</td>\n",
       "      <td>-0.749967</td>\n",
       "      <td>0.174117</td>\n",
       "      <td>4.213844</td>\n",
       "      <td>3.256131</td>\n",
       "      <td>1.747960</td>\n",
       "      <td>0.637369</td>\n",
       "      <td>0.895365</td>\n",
       "      <td>...</td>\n",
       "      <td>-5.530880</td>\n",
       "      <td>-1.085522</td>\n",
       "      <td>2.197708</td>\n",
       "      <td>-14.659071</td>\n",
       "      <td>7.975020</td>\n",
       "      <td>0.641365</td>\n",
       "      <td>-2.381690</td>\n",
       "      <td>-1.296122</td>\n",
       "      <td>2.718700</td>\n",
       "      <td>0</td>\n",
       "    </tr>\n",
       "    <tr>\n",
       "      <th>1</th>\n",
       "      <td>0.004703</td>\n",
       "      <td>0.004063</td>\n",
       "      <td>0.239743</td>\n",
       "      <td>-0.746037</td>\n",
       "      <td>-1.643112</td>\n",
       "      <td>-2.700096</td>\n",
       "      <td>0.481805</td>\n",
       "      <td>-0.827984</td>\n",
       "      <td>2.425517</td>\n",
       "      <td>-2.978290</td>\n",
       "      <td>...</td>\n",
       "      <td>-1.196145</td>\n",
       "      <td>1.486952</td>\n",
       "      <td>-0.984622</td>\n",
       "      <td>2.251100</td>\n",
       "      <td>-1.311260</td>\n",
       "      <td>-1.360329</td>\n",
       "      <td>0.216767</td>\n",
       "      <td>0.793985</td>\n",
       "      <td>-1.094206</td>\n",
       "      <td>0</td>\n",
       "    </tr>\n",
       "    <tr>\n",
       "      <th>2</th>\n",
       "      <td>1.300928</td>\n",
       "      <td>-5.272156</td>\n",
       "      <td>-2.140847</td>\n",
       "      <td>-2.209105</td>\n",
       "      <td>-0.544995</td>\n",
       "      <td>1.477861</td>\n",
       "      <td>3.206408</td>\n",
       "      <td>-1.131390</td>\n",
       "      <td>-3.161896</td>\n",
       "      <td>1.712217</td>\n",
       "      <td>...</td>\n",
       "      <td>3.316508</td>\n",
       "      <td>1.129793</td>\n",
       "      <td>-7.432333</td>\n",
       "      <td>11.023547</td>\n",
       "      <td>-2.158989</td>\n",
       "      <td>-0.481151</td>\n",
       "      <td>7.556961</td>\n",
       "      <td>1.505347</td>\n",
       "      <td>-8.704136</td>\n",
       "      <td>1</td>\n",
       "    </tr>\n",
       "    <tr>\n",
       "      <th>3</th>\n",
       "      <td>0.176676</td>\n",
       "      <td>0.379093</td>\n",
       "      <td>0.379983</td>\n",
       "      <td>-1.510225</td>\n",
       "      <td>-0.113457</td>\n",
       "      <td>1.295986</td>\n",
       "      <td>2.488324</td>\n",
       "      <td>1.340153</td>\n",
       "      <td>-0.777143</td>\n",
       "      <td>3.004764</td>\n",
       "      <td>...</td>\n",
       "      <td>2.710009</td>\n",
       "      <td>-5.879425</td>\n",
       "      <td>-1.809712</td>\n",
       "      <td>7.064204</td>\n",
       "      <td>-0.724669</td>\n",
       "      <td>1.045550</td>\n",
       "      <td>-0.319549</td>\n",
       "      <td>4.960117</td>\n",
       "      <td>10.630263</td>\n",
       "      <td>1</td>\n",
       "    </tr>\n",
       "    <tr>\n",
       "      <th>4</th>\n",
       "      <td>0.840204</td>\n",
       "      <td>-1.175762</td>\n",
       "      <td>-0.431576</td>\n",
       "      <td>2.836433</td>\n",
       "      <td>1.020046</td>\n",
       "      <td>0.330592</td>\n",
       "      <td>3.923244</td>\n",
       "      <td>-0.366859</td>\n",
       "      <td>-2.979769</td>\n",
       "      <td>2.683751</td>\n",
       "      <td>...</td>\n",
       "      <td>-0.775314</td>\n",
       "      <td>1.497336</td>\n",
       "      <td>-1.368875</td>\n",
       "      <td>-1.845289</td>\n",
       "      <td>3.516078</td>\n",
       "      <td>-1.068080</td>\n",
       "      <td>1.793182</td>\n",
       "      <td>-1.340107</td>\n",
       "      <td>-7.356670</td>\n",
       "      <td>1</td>\n",
       "    </tr>\n",
       "  </tbody>\n",
       "</table>\n",
       "<p>5 rows × 21 columns</p>\n",
       "</div>"
      ],
      "text/plain": [
       "      col_0      col_1     col_2     col_3     col_4     col_5     col_6  \\\n",
       "0  0.878396  10.781308 -0.945368 -0.749967  0.174117  4.213844  3.256131   \n",
       "1  0.004703   0.004063  0.239743 -0.746037 -1.643112 -2.700096  0.481805   \n",
       "2  1.300928  -5.272156 -2.140847 -2.209105 -0.544995  1.477861  3.206408   \n",
       "3  0.176676   0.379093  0.379983 -1.510225 -0.113457  1.295986  2.488324   \n",
       "4  0.840204  -1.175762 -0.431576  2.836433  1.020046  0.330592  3.923244   \n",
       "\n",
       "      col_7     col_8     col_9  ...    col_11    col_12    col_13     col_14  \\\n",
       "0  1.747960  0.637369  0.895365  ... -5.530880 -1.085522  2.197708 -14.659071   \n",
       "1 -0.827984  2.425517 -2.978290  ... -1.196145  1.486952 -0.984622   2.251100   \n",
       "2 -1.131390 -3.161896  1.712217  ...  3.316508  1.129793 -7.432333  11.023547   \n",
       "3  1.340153 -0.777143  3.004764  ...  2.710009 -5.879425 -1.809712   7.064204   \n",
       "4 -0.366859 -2.979769  2.683751  ... -0.775314  1.497336 -1.368875  -1.845289   \n",
       "\n",
       "     col_15    col_16    col_17    col_18     col_19  y  \n",
       "0  7.975020  0.641365 -2.381690 -1.296122   2.718700  0  \n",
       "1 -1.311260 -1.360329  0.216767  0.793985  -1.094206  0  \n",
       "2 -2.158989 -0.481151  7.556961  1.505347  -8.704136  1  \n",
       "3 -0.724669  1.045550 -0.319549  4.960117  10.630263  1  \n",
       "4  3.516078 -1.068080  1.793182 -1.340107  -7.356670  1  \n",
       "\n",
       "[5 rows x 21 columns]"
      ]
     },
     "execution_count": 3,
     "metadata": {},
     "output_type": "execute_result"
    }
   ],
   "source": [
    "data.head()"
   ]
  },
  {
   "cell_type": "markdown",
   "id": "e13fa724",
   "metadata": {},
   "source": [
    "The data appear to be standardized and the target labels are 0 or 1"
   ]
  },
  {
   "cell_type": "markdown",
   "id": "f9c81513",
   "metadata": {},
   "source": [
    "#### Split the \"data\" into X- explanatory variables and Y-target feature"
   ]
  },
  {
   "cell_type": "code",
   "execution_count": 4,
   "id": "cdfa7396",
   "metadata": {},
   "outputs": [],
   "source": [
    "X = data.drop(columns=['y'])\n",
    "Y = data.y"
   ]
  },
  {
   "cell_type": "code",
   "execution_count": 5,
   "id": "1067e149",
   "metadata": {},
   "outputs": [
    {
     "data": {
      "text/html": [
       "<div>\n",
       "<style scoped>\n",
       "    .dataframe tbody tr th:only-of-type {\n",
       "        vertical-align: middle;\n",
       "    }\n",
       "\n",
       "    .dataframe tbody tr th {\n",
       "        vertical-align: top;\n",
       "    }\n",
       "\n",
       "    .dataframe thead th {\n",
       "        text-align: right;\n",
       "    }\n",
       "</style>\n",
       "<table border=\"1\" class=\"dataframe\">\n",
       "  <thead>\n",
       "    <tr style=\"text-align: right;\">\n",
       "      <th></th>\n",
       "      <th>col_0</th>\n",
       "      <th>col_1</th>\n",
       "      <th>col_2</th>\n",
       "      <th>col_3</th>\n",
       "      <th>col_4</th>\n",
       "      <th>col_5</th>\n",
       "      <th>col_6</th>\n",
       "      <th>col_7</th>\n",
       "      <th>col_8</th>\n",
       "      <th>col_9</th>\n",
       "      <th>col_10</th>\n",
       "      <th>col_11</th>\n",
       "      <th>col_12</th>\n",
       "      <th>col_13</th>\n",
       "      <th>col_14</th>\n",
       "      <th>col_15</th>\n",
       "      <th>col_16</th>\n",
       "      <th>col_17</th>\n",
       "      <th>col_18</th>\n",
       "      <th>col_19</th>\n",
       "    </tr>\n",
       "  </thead>\n",
       "  <tbody>\n",
       "    <tr>\n",
       "      <th>0</th>\n",
       "      <td>0.878396</td>\n",
       "      <td>10.781308</td>\n",
       "      <td>-0.945368</td>\n",
       "      <td>-0.749967</td>\n",
       "      <td>0.174117</td>\n",
       "      <td>4.213844</td>\n",
       "      <td>3.256131</td>\n",
       "      <td>1.747960</td>\n",
       "      <td>0.637369</td>\n",
       "      <td>0.895365</td>\n",
       "      <td>1.158788</td>\n",
       "      <td>-5.530880</td>\n",
       "      <td>-1.085522</td>\n",
       "      <td>2.197708</td>\n",
       "      <td>-14.659071</td>\n",
       "      <td>7.975020</td>\n",
       "      <td>0.641365</td>\n",
       "      <td>-2.381690</td>\n",
       "      <td>-1.296122</td>\n",
       "      <td>2.718700</td>\n",
       "    </tr>\n",
       "    <tr>\n",
       "      <th>1</th>\n",
       "      <td>0.004703</td>\n",
       "      <td>0.004063</td>\n",
       "      <td>0.239743</td>\n",
       "      <td>-0.746037</td>\n",
       "      <td>-1.643112</td>\n",
       "      <td>-2.700096</td>\n",
       "      <td>0.481805</td>\n",
       "      <td>-0.827984</td>\n",
       "      <td>2.425517</td>\n",
       "      <td>-2.978290</td>\n",
       "      <td>-0.153856</td>\n",
       "      <td>-1.196145</td>\n",
       "      <td>1.486952</td>\n",
       "      <td>-0.984622</td>\n",
       "      <td>2.251100</td>\n",
       "      <td>-1.311260</td>\n",
       "      <td>-1.360329</td>\n",
       "      <td>0.216767</td>\n",
       "      <td>0.793985</td>\n",
       "      <td>-1.094206</td>\n",
       "    </tr>\n",
       "    <tr>\n",
       "      <th>2</th>\n",
       "      <td>1.300928</td>\n",
       "      <td>-5.272156</td>\n",
       "      <td>-2.140847</td>\n",
       "      <td>-2.209105</td>\n",
       "      <td>-0.544995</td>\n",
       "      <td>1.477861</td>\n",
       "      <td>3.206408</td>\n",
       "      <td>-1.131390</td>\n",
       "      <td>-3.161896</td>\n",
       "      <td>1.712217</td>\n",
       "      <td>0.896514</td>\n",
       "      <td>3.316508</td>\n",
       "      <td>1.129793</td>\n",
       "      <td>-7.432333</td>\n",
       "      <td>11.023547</td>\n",
       "      <td>-2.158989</td>\n",
       "      <td>-0.481151</td>\n",
       "      <td>7.556961</td>\n",
       "      <td>1.505347</td>\n",
       "      <td>-8.704136</td>\n",
       "    </tr>\n",
       "    <tr>\n",
       "      <th>3</th>\n",
       "      <td>0.176676</td>\n",
       "      <td>0.379093</td>\n",
       "      <td>0.379983</td>\n",
       "      <td>-1.510225</td>\n",
       "      <td>-0.113457</td>\n",
       "      <td>1.295986</td>\n",
       "      <td>2.488324</td>\n",
       "      <td>1.340153</td>\n",
       "      <td>-0.777143</td>\n",
       "      <td>3.004764</td>\n",
       "      <td>-0.879530</td>\n",
       "      <td>2.710009</td>\n",
       "      <td>-5.879425</td>\n",
       "      <td>-1.809712</td>\n",
       "      <td>7.064204</td>\n",
       "      <td>-0.724669</td>\n",
       "      <td>1.045550</td>\n",
       "      <td>-0.319549</td>\n",
       "      <td>4.960117</td>\n",
       "      <td>10.630263</td>\n",
       "    </tr>\n",
       "    <tr>\n",
       "      <th>4</th>\n",
       "      <td>0.840204</td>\n",
       "      <td>-1.175762</td>\n",
       "      <td>-0.431576</td>\n",
       "      <td>2.836433</td>\n",
       "      <td>1.020046</td>\n",
       "      <td>0.330592</td>\n",
       "      <td>3.923244</td>\n",
       "      <td>-0.366859</td>\n",
       "      <td>-2.979769</td>\n",
       "      <td>2.683751</td>\n",
       "      <td>-1.334537</td>\n",
       "      <td>-0.775314</td>\n",
       "      <td>1.497336</td>\n",
       "      <td>-1.368875</td>\n",
       "      <td>-1.845289</td>\n",
       "      <td>3.516078</td>\n",
       "      <td>-1.068080</td>\n",
       "      <td>1.793182</td>\n",
       "      <td>-1.340107</td>\n",
       "      <td>-7.356670</td>\n",
       "    </tr>\n",
       "    <tr>\n",
       "      <th>...</th>\n",
       "      <td>...</td>\n",
       "      <td>...</td>\n",
       "      <td>...</td>\n",
       "      <td>...</td>\n",
       "      <td>...</td>\n",
       "      <td>...</td>\n",
       "      <td>...</td>\n",
       "      <td>...</td>\n",
       "      <td>...</td>\n",
       "      <td>...</td>\n",
       "      <td>...</td>\n",
       "      <td>...</td>\n",
       "      <td>...</td>\n",
       "      <td>...</td>\n",
       "      <td>...</td>\n",
       "      <td>...</td>\n",
       "      <td>...</td>\n",
       "      <td>...</td>\n",
       "      <td>...</td>\n",
       "      <td>...</td>\n",
       "    </tr>\n",
       "    <tr>\n",
       "      <th>9995</th>\n",
       "      <td>-0.389474</td>\n",
       "      <td>3.449917</td>\n",
       "      <td>0.011536</td>\n",
       "      <td>-2.061789</td>\n",
       "      <td>-0.333034</td>\n",
       "      <td>2.367926</td>\n",
       "      <td>-1.804085</td>\n",
       "      <td>-0.053321</td>\n",
       "      <td>0.178154</td>\n",
       "      <td>-1.466303</td>\n",
       "      <td>-0.288238</td>\n",
       "      <td>-1.732671</td>\n",
       "      <td>-1.818311</td>\n",
       "      <td>0.362678</td>\n",
       "      <td>-2.118729</td>\n",
       "      <td>0.134583</td>\n",
       "      <td>1.245921</td>\n",
       "      <td>0.472815</td>\n",
       "      <td>0.625394</td>\n",
       "      <td>0.917012</td>\n",
       "    </tr>\n",
       "    <tr>\n",
       "      <th>9996</th>\n",
       "      <td>-0.872586</td>\n",
       "      <td>0.241332</td>\n",
       "      <td>-1.055799</td>\n",
       "      <td>-1.966629</td>\n",
       "      <td>1.083916</td>\n",
       "      <td>-1.969005</td>\n",
       "      <td>-0.048014</td>\n",
       "      <td>-0.196637</td>\n",
       "      <td>-0.218209</td>\n",
       "      <td>4.076696</td>\n",
       "      <td>1.374788</td>\n",
       "      <td>4.025984</td>\n",
       "      <td>-4.580127</td>\n",
       "      <td>-2.412662</td>\n",
       "      <td>10.294297</td>\n",
       "      <td>-2.085765</td>\n",
       "      <td>0.573666</td>\n",
       "      <td>0.257046</td>\n",
       "      <td>0.994980</td>\n",
       "      <td>7.197811</td>\n",
       "    </tr>\n",
       "    <tr>\n",
       "      <th>9997</th>\n",
       "      <td>0.412388</td>\n",
       "      <td>0.139148</td>\n",
       "      <td>0.139280</td>\n",
       "      <td>-1.573894</td>\n",
       "      <td>1.389947</td>\n",
       "      <td>0.172883</td>\n",
       "      <td>-1.332859</td>\n",
       "      <td>-0.067980</td>\n",
       "      <td>1.591418</td>\n",
       "      <td>-1.695460</td>\n",
       "      <td>0.800899</td>\n",
       "      <td>0.255114</td>\n",
       "      <td>-1.449319</td>\n",
       "      <td>-2.080074</td>\n",
       "      <td>2.954922</td>\n",
       "      <td>0.472429</td>\n",
       "      <td>0.554229</td>\n",
       "      <td>1.520341</td>\n",
       "      <td>0.998670</td>\n",
       "      <td>0.153579</td>\n",
       "    </tr>\n",
       "    <tr>\n",
       "      <th>9998</th>\n",
       "      <td>1.676835</td>\n",
       "      <td>-0.036261</td>\n",
       "      <td>-0.246196</td>\n",
       "      <td>-4.368508</td>\n",
       "      <td>1.239638</td>\n",
       "      <td>-2.230944</td>\n",
       "      <td>-3.894008</td>\n",
       "      <td>-2.718614</td>\n",
       "      <td>-0.080125</td>\n",
       "      <td>-0.064357</td>\n",
       "      <td>-1.143237</td>\n",
       "      <td>2.947710</td>\n",
       "      <td>-2.395601</td>\n",
       "      <td>-4.127714</td>\n",
       "      <td>14.087802</td>\n",
       "      <td>-7.637651</td>\n",
       "      <td>0.152329</td>\n",
       "      <td>-1.623591</td>\n",
       "      <td>-1.253764</td>\n",
       "      <td>3.085239</td>\n",
       "    </tr>\n",
       "    <tr>\n",
       "      <th>9999</th>\n",
       "      <td>-0.851352</td>\n",
       "      <td>3.778671</td>\n",
       "      <td>1.640506</td>\n",
       "      <td>4.249449</td>\n",
       "      <td>0.477860</td>\n",
       "      <td>-0.321519</td>\n",
       "      <td>4.473229</td>\n",
       "      <td>0.378685</td>\n",
       "      <td>3.182868</td>\n",
       "      <td>1.972727</td>\n",
       "      <td>-0.099113</td>\n",
       "      <td>-0.611329</td>\n",
       "      <td>-2.030431</td>\n",
       "      <td>-2.250563</td>\n",
       "      <td>-4.726819</td>\n",
       "      <td>12.154187</td>\n",
       "      <td>0.580728</td>\n",
       "      <td>-1.181522</td>\n",
       "      <td>-1.624722</td>\n",
       "      <td>-0.668930</td>\n",
       "    </tr>\n",
       "  </tbody>\n",
       "</table>\n",
       "<p>10000 rows × 20 columns</p>\n",
       "</div>"
      ],
      "text/plain": [
       "         col_0      col_1     col_2     col_3     col_4     col_5     col_6  \\\n",
       "0     0.878396  10.781308 -0.945368 -0.749967  0.174117  4.213844  3.256131   \n",
       "1     0.004703   0.004063  0.239743 -0.746037 -1.643112 -2.700096  0.481805   \n",
       "2     1.300928  -5.272156 -2.140847 -2.209105 -0.544995  1.477861  3.206408   \n",
       "3     0.176676   0.379093  0.379983 -1.510225 -0.113457  1.295986  2.488324   \n",
       "4     0.840204  -1.175762 -0.431576  2.836433  1.020046  0.330592  3.923244   \n",
       "...        ...        ...       ...       ...       ...       ...       ...   \n",
       "9995 -0.389474   3.449917  0.011536 -2.061789 -0.333034  2.367926 -1.804085   \n",
       "9996 -0.872586   0.241332 -1.055799 -1.966629  1.083916 -1.969005 -0.048014   \n",
       "9997  0.412388   0.139148  0.139280 -1.573894  1.389947  0.172883 -1.332859   \n",
       "9998  1.676835  -0.036261 -0.246196 -4.368508  1.239638 -2.230944 -3.894008   \n",
       "9999 -0.851352   3.778671  1.640506  4.249449  0.477860 -0.321519  4.473229   \n",
       "\n",
       "         col_7     col_8     col_9    col_10    col_11    col_12    col_13  \\\n",
       "0     1.747960  0.637369  0.895365  1.158788 -5.530880 -1.085522  2.197708   \n",
       "1    -0.827984  2.425517 -2.978290 -0.153856 -1.196145  1.486952 -0.984622   \n",
       "2    -1.131390 -3.161896  1.712217  0.896514  3.316508  1.129793 -7.432333   \n",
       "3     1.340153 -0.777143  3.004764 -0.879530  2.710009 -5.879425 -1.809712   \n",
       "4    -0.366859 -2.979769  2.683751 -1.334537 -0.775314  1.497336 -1.368875   \n",
       "...        ...       ...       ...       ...       ...       ...       ...   \n",
       "9995 -0.053321  0.178154 -1.466303 -0.288238 -1.732671 -1.818311  0.362678   \n",
       "9996 -0.196637 -0.218209  4.076696  1.374788  4.025984 -4.580127 -2.412662   \n",
       "9997 -0.067980  1.591418 -1.695460  0.800899  0.255114 -1.449319 -2.080074   \n",
       "9998 -2.718614 -0.080125 -0.064357 -1.143237  2.947710 -2.395601 -4.127714   \n",
       "9999  0.378685  3.182868  1.972727 -0.099113 -0.611329 -2.030431 -2.250563   \n",
       "\n",
       "         col_14     col_15    col_16    col_17    col_18     col_19  \n",
       "0    -14.659071   7.975020  0.641365 -2.381690 -1.296122   2.718700  \n",
       "1      2.251100  -1.311260 -1.360329  0.216767  0.793985  -1.094206  \n",
       "2     11.023547  -2.158989 -0.481151  7.556961  1.505347  -8.704136  \n",
       "3      7.064204  -0.724669  1.045550 -0.319549  4.960117  10.630263  \n",
       "4     -1.845289   3.516078 -1.068080  1.793182 -1.340107  -7.356670  \n",
       "...         ...        ...       ...       ...       ...        ...  \n",
       "9995  -2.118729   0.134583  1.245921  0.472815  0.625394   0.917012  \n",
       "9996  10.294297  -2.085765  0.573666  0.257046  0.994980   7.197811  \n",
       "9997   2.954922   0.472429  0.554229  1.520341  0.998670   0.153579  \n",
       "9998  14.087802  -7.637651  0.152329 -1.623591 -1.253764   3.085239  \n",
       "9999  -4.726819  12.154187  0.580728 -1.181522 -1.624722  -0.668930  \n",
       "\n",
       "[10000 rows x 20 columns]"
      ]
     },
     "execution_count": 5,
     "metadata": {},
     "output_type": "execute_result"
    }
   ],
   "source": [
    "X"
   ]
  },
  {
   "cell_type": "code",
   "execution_count": 6,
   "id": "15256857",
   "metadata": {
    "scrolled": true
   },
   "outputs": [
    {
     "data": {
      "text/plain": [
       "0       0\n",
       "1       0\n",
       "2       1\n",
       "3       1\n",
       "4       1\n",
       "       ..\n",
       "9995    0\n",
       "9996    1\n",
       "9997    0\n",
       "9998    1\n",
       "9999    0\n",
       "Name: y, Length: 10000, dtype: int64"
      ]
     },
     "execution_count": 6,
     "metadata": {},
     "output_type": "execute_result"
    }
   ],
   "source": [
    "Y"
   ]
  },
  {
   "cell_type": "markdown",
   "id": "de8764ca",
   "metadata": {},
   "source": [
    "## Answer 2"
   ]
  },
  {
   "cell_type": "markdown",
   "id": "44a6bd8f",
   "metadata": {},
   "source": [
    "#### Splitting the X and Y of \"data\" into 80% training and 20% test data"
   ]
  },
  {
   "cell_type": "code",
   "execution_count": 7,
   "id": "624dc0c2",
   "metadata": {},
   "outputs": [],
   "source": [
    "from sklearn.model_selection import train_test_split"
   ]
  },
  {
   "cell_type": "code",
   "execution_count": 8,
   "id": "69db083d",
   "metadata": {},
   "outputs": [],
   "source": [
    "X_train, X_test, Y_train, Y_test = train_test_split(X, Y, test_size=0.2, shuffle=True,random_state=0)"
   ]
  },
  {
   "cell_type": "code",
   "execution_count": 9,
   "id": "63108786",
   "metadata": {},
   "outputs": [],
   "source": [
    "from sklearn.tree import DecisionTreeClassifier"
   ]
  },
  {
   "cell_type": "markdown",
   "id": "b5a09907",
   "metadata": {},
   "source": [
    "#### Training the Decision Tree Classifier Model with random_state = 0 and deafult parameters"
   ]
  },
  {
   "cell_type": "code",
   "execution_count": 10,
   "id": "050d459c",
   "metadata": {},
   "outputs": [],
   "source": [
    "dtc = DecisionTreeClassifier(random_state=0)\n"
   ]
  },
  {
   "cell_type": "code",
   "execution_count": 11,
   "id": "01d6bf71",
   "metadata": {
    "scrolled": true
   },
   "outputs": [
    {
     "data": {
      "text/plain": [
       "array([0, 1, 0, ..., 0, 0, 1], dtype=int64)"
      ]
     },
     "execution_count": 11,
     "metadata": {},
     "output_type": "execute_result"
    }
   ],
   "source": [
    "dtc.fit(X_train,Y_train)\n",
    "y_pred_train = dtc.predict(X_train)\n",
    "y_unconst = dtc.predict(X_test)\n",
    "y_unconst\n"
   ]
  },
  {
   "cell_type": "markdown",
   "id": "e86076bc",
   "metadata": {},
   "source": [
    "#### Displaying the Confusion matrix for train dataset"
   ]
  },
  {
   "cell_type": "code",
   "execution_count": 12,
   "id": "60638513",
   "metadata": {
    "scrolled": true
   },
   "outputs": [
    {
     "name": "stdout",
     "output_type": "stream",
     "text": [
      "[[3997    0]\n",
      " [   0 4003]]\n"
     ]
    },
    {
     "data": {
      "image/png": "[encoded data removed]",
      "text/plain": [
       "<Figure size 432x288 with 2 Axes>"
      ]
     },
     "metadata": {
      "needs_background": "light"
     },
     "output_type": "display_data"
    }
   ],
   "source": [
    "disp_train = ConfusionMatrixDisplay.from_estimator(\n",
    "        dtc,\n",
    "        X_train,\n",
    "        Y_train,\n",
    "        cmap=plt.cm.Greens)\n",
    "\n",
    "print(disp_train.confusion_matrix)"
   ]
  },
  {
   "cell_type": "markdown",
   "id": "814d736b",
   "metadata": {},
   "source": [
    "#### Classification Report for train dataset"
   ]
  },
  {
   "cell_type": "code",
   "execution_count": 13,
   "id": "516a94cc",
   "metadata": {
    "scrolled": true
   },
   "outputs": [
    {
     "name": "stdout",
     "output_type": "stream",
     "text": [
      "              precision    recall  f1-score   support\n",
      "\n",
      "           0       1.00      1.00      1.00      3997\n",
      "           1       1.00      1.00      1.00      4003\n",
      "\n",
      "    accuracy                           1.00      8000\n",
      "   macro avg       1.00      1.00      1.00      8000\n",
      "weighted avg       1.00      1.00      1.00      8000\n",
      "\n"
     ]
    }
   ],
   "source": [
    "print(classification_report(Y_train, y_pred_train))"
   ]
  },
  {
   "cell_type": "markdown",
   "id": "07d73695",
   "metadata": {},
   "source": [
    "#### Summary of metrics on the train dataset"
   ]
  },
  {
   "cell_type": "code",
   "execution_count": 14,
   "id": "ce64deeb",
   "metadata": {},
   "outputs": [
    {
     "data": {
      "text/html": [
       "<div>\n",
       "<style scoped>\n",
       "    .dataframe tbody tr th:only-of-type {\n",
       "        vertical-align: middle;\n",
       "    }\n",
       "\n",
       "    .dataframe tbody tr th {\n",
       "        vertical-align: top;\n",
       "    }\n",
       "\n",
       "    .dataframe thead th {\n",
       "        text-align: right;\n",
       "    }\n",
       "</style>\n",
       "<table border=\"1\" class=\"dataframe\">\n",
       "  <thead>\n",
       "    <tr style=\"text-align: right;\">\n",
       "      <th></th>\n",
       "      <th>Gradient Boosting with default parameters</th>\n",
       "    </tr>\n",
       "  </thead>\n",
       "  <tbody>\n",
       "    <tr>\n",
       "      <th>Accuracy Score</th>\n",
       "      <td>1.0</td>\n",
       "    </tr>\n",
       "    <tr>\n",
       "      <th>Precision Score</th>\n",
       "      <td>1.0</td>\n",
       "    </tr>\n",
       "    <tr>\n",
       "      <th>Recall Score</th>\n",
       "      <td>1.0</td>\n",
       "    </tr>\n",
       "  </tbody>\n",
       "</table>\n",
       "</div>"
      ],
      "text/plain": [
       "                 Gradient Boosting with default parameters\n",
       "Accuracy Score                                         1.0\n",
       "Precision Score                                        1.0\n",
       "Recall Score                                           1.0"
      ]
     },
     "execution_count": 14,
     "metadata": {},
     "output_type": "execute_result"
    }
   ],
   "source": [
    "result_train = pd.DataFrame({\"Gradient Boosting with default parameters\":[accuracy_score(Y_train, y_pred_train),\n",
    "                                                                  precision_score(Y_train, y_pred_train),\n",
    "                                                                  recall_score(Y_train, y_pred_train)]},index =['Accuracy Score','Precision Score','Recall Score'])\n",
    "                                                                                                        \n",
    "result_train"
   ]
  },
  {
   "cell_type": "markdown",
   "id": "b9121cde",
   "metadata": {},
   "source": [
    "#### Displaying the Confusion matrix for test dataset"
   ]
  },
  {
   "cell_type": "code",
   "execution_count": 15,
   "id": "880a1120",
   "metadata": {},
   "outputs": [
    {
     "name": "stdout",
     "output_type": "stream",
     "text": [
      "[[877 132]\n",
      " [144 847]]\n"
     ]
    },
    {
     "data": {
      "image/png": "[encoded data removed]",
      "text/plain": [
       "<Figure size 432x288 with 2 Axes>"
      ]
     },
     "metadata": {
      "needs_background": "light"
     },
     "output_type": "display_data"
    }
   ],
   "source": [
    "disp_test = ConfusionMatrixDisplay.from_estimator(\n",
    "        dtc,\n",
    "        X_test,\n",
    "        Y_test,\n",
    "        cmap=plt.cm.Greens)\n",
    "\n",
    "print(disp_test.confusion_matrix)"
   ]
  },
  {
   "cell_type": "markdown",
   "id": "cc5dfe81",
   "metadata": {},
   "source": [
    "#### Classification Report for test dataset"
   ]
  },
  {
   "cell_type": "code",
   "execution_count": 16,
   "id": "85a015dc",
   "metadata": {},
   "outputs": [
    {
     "name": "stdout",
     "output_type": "stream",
     "text": [
      "              precision    recall  f1-score   support\n",
      "\n",
      "           0       0.86      0.87      0.86      1009\n",
      "           1       0.87      0.85      0.86       991\n",
      "\n",
      "    accuracy                           0.86      2000\n",
      "   macro avg       0.86      0.86      0.86      2000\n",
      "weighted avg       0.86      0.86      0.86      2000\n",
      "\n"
     ]
    }
   ],
   "source": [
    "print(classification_report(Y_test, y_unconst))"
   ]
  },
  {
   "cell_type": "markdown",
   "id": "fafe01b7",
   "metadata": {},
   "source": [
    "#### Summary of metrics on the test dataset"
   ]
  },
  {
   "cell_type": "code",
   "execution_count": 17,
   "id": "7ee8d39f",
   "metadata": {},
   "outputs": [
    {
     "data": {
      "text/html": [
       "<div>\n",
       "<style scoped>\n",
       "    .dataframe tbody tr th:only-of-type {\n",
       "        vertical-align: middle;\n",
       "    }\n",
       "\n",
       "    .dataframe tbody tr th {\n",
       "        vertical-align: top;\n",
       "    }\n",
       "\n",
       "    .dataframe thead th {\n",
       "        text-align: right;\n",
       "    }\n",
       "</style>\n",
       "<table border=\"1\" class=\"dataframe\">\n",
       "  <thead>\n",
       "    <tr style=\"text-align: right;\">\n",
       "      <th></th>\n",
       "      <th>Gradient Boosting with default parameters</th>\n",
       "    </tr>\n",
       "  </thead>\n",
       "  <tbody>\n",
       "    <tr>\n",
       "      <th>Accuracy Score</th>\n",
       "      <td>0.862000</td>\n",
       "    </tr>\n",
       "    <tr>\n",
       "      <th>Precision Score</th>\n",
       "      <td>0.865169</td>\n",
       "    </tr>\n",
       "    <tr>\n",
       "      <th>Recall Score</th>\n",
       "      <td>0.854692</td>\n",
       "    </tr>\n",
       "  </tbody>\n",
       "</table>\n",
       "</div>"
      ],
      "text/plain": [
       "                 Gradient Boosting with default parameters\n",
       "Accuracy Score                                    0.862000\n",
       "Precision Score                                   0.865169\n",
       "Recall Score                                      0.854692"
      ]
     },
     "execution_count": 17,
     "metadata": {},
     "output_type": "execute_result"
    }
   ],
   "source": [
    "result_test = pd.DataFrame({\"Gradient Boosting with default parameters\":[accuracy_score(Y_test, y_unconst),\n",
    "                                                                  precision_score(Y_test, y_unconst),\n",
    "                                                                  recall_score(Y_test, y_unconst)]},index =['Accuracy Score','Precision Score','Recall Score'])\n",
    "                                                                                                        \n",
    "result_test"
   ]
  },
  {
   "cell_type": "markdown",
   "id": "dc0f52f2",
   "metadata": {},
   "source": [
    "Reasons for low performance (accuracy score of 0.86 on test data set compared to an accuracy score of 1.0 on training data set) are as follows:\n",
    "\n",
    "1 . The distribution of data in the test set is very different from the one of the training set\n",
    "\n",
    "2 . The  Decision Tree Classifier model is optimized for the train data set"
   ]
  },
  {
   "cell_type": "markdown",
   "id": "95ab9fcc",
   "metadata": {},
   "source": [
    "## Answer 3"
   ]
  },
  {
   "cell_type": "markdown",
   "id": "f57654c7",
   "metadata": {},
   "source": [
    "Choosing the metrics max_depth =4 , ccp_alpha = 0.015, criterion = entropy"
   ]
  },
  {
   "cell_type": "code",
   "execution_count": 18,
   "id": "2b14765f",
   "metadata": {},
   "outputs": [],
   "source": [
    "dtc_tuned = DecisionTreeClassifier(random_state=0, \n",
    "                             criterion=\"entropy\",\n",
    "                             max_depth=4,\n",
    "                             ccp_alpha=0.015)\n"
   ]
  },
  {
   "cell_type": "code",
   "execution_count": 19,
   "id": "a52a1592",
   "metadata": {},
   "outputs": [],
   "source": [
    "dtc_tuned.fit(X_train,Y_train)\n",
    "y_predn_train = dtc_tuned.predict(X_train)\n",
    "y_predn_test = dtc_tuned.predict(X_test)\n"
   ]
  },
  {
   "cell_type": "markdown",
   "id": "13936926",
   "metadata": {},
   "source": [
    "Confusion matrix on train dataset"
   ]
  },
  {
   "cell_type": "code",
   "execution_count": 20,
   "id": "ff650b41",
   "metadata": {},
   "outputs": [
    {
     "name": "stdout",
     "output_type": "stream",
     "text": [
      "[[3409  588]\n",
      " [ 661 3342]]\n"
     ]
    },
    {
     "data": {
      "image/png": "[encoded data removed]",
      "text/plain": [
       "<Figure size 432x288 with 2 Axes>"
      ]
     },
     "metadata": {
      "needs_background": "light"
     },
     "output_type": "display_data"
    }
   ],
   "source": [
    "disp_train_tuned = ConfusionMatrixDisplay.from_estimator(\n",
    "        dtc_tuned,\n",
    "        X_train,\n",
    "        Y_train,\n",
    "        cmap=plt.cm.Greens)\n",
    "\n",
    "print(disp_train_tuned.confusion_matrix)"
   ]
  },
  {
   "cell_type": "markdown",
   "id": "0f98967b",
   "metadata": {},
   "source": [
    "Classification report on train dataset"
   ]
  },
  {
   "cell_type": "code",
   "execution_count": 21,
   "id": "69e19145",
   "metadata": {},
   "outputs": [
    {
     "name": "stdout",
     "output_type": "stream",
     "text": [
      "              precision    recall  f1-score   support\n",
      "\n",
      "           0       0.84      0.85      0.85      3997\n",
      "           1       0.85      0.83      0.84      4003\n",
      "\n",
      "    accuracy                           0.84      8000\n",
      "   macro avg       0.84      0.84      0.84      8000\n",
      "weighted avg       0.84      0.84      0.84      8000\n",
      "\n"
     ]
    }
   ],
   "source": [
    "print(classification_report(Y_train, y_predn_train))"
   ]
  },
  {
   "cell_type": "markdown",
   "id": "f25f5105",
   "metadata": {},
   "source": [
    "Summary of metrics on train dataset"
   ]
  },
  {
   "cell_type": "code",
   "execution_count": 22,
   "id": "f7df1822",
   "metadata": {},
   "outputs": [
    {
     "data": {
      "text/html": [
       "<div>\n",
       "<style scoped>\n",
       "    .dataframe tbody tr th:only-of-type {\n",
       "        vertical-align: middle;\n",
       "    }\n",
       "\n",
       "    .dataframe tbody tr th {\n",
       "        vertical-align: top;\n",
       "    }\n",
       "\n",
       "    .dataframe thead th {\n",
       "        text-align: right;\n",
       "    }\n",
       "</style>\n",
       "<table border=\"1\" class=\"dataframe\">\n",
       "  <thead>\n",
       "    <tr style=\"text-align: right;\">\n",
       "      <th></th>\n",
       "      <th>Gradient Boosting with default parameters</th>\n",
       "    </tr>\n",
       "  </thead>\n",
       "  <tbody>\n",
       "    <tr>\n",
       "      <th>Accuracy Score</th>\n",
       "      <td>0.843875</td>\n",
       "    </tr>\n",
       "    <tr>\n",
       "      <th>Precision Score</th>\n",
       "      <td>0.850382</td>\n",
       "    </tr>\n",
       "    <tr>\n",
       "      <th>Recall Score</th>\n",
       "      <td>0.834874</td>\n",
       "    </tr>\n",
       "  </tbody>\n",
       "</table>\n",
       "</div>"
      ],
      "text/plain": [
       "                 Gradient Boosting with default parameters\n",
       "Accuracy Score                                    0.843875\n",
       "Precision Score                                   0.850382\n",
       "Recall Score                                      0.834874"
      ]
     },
     "execution_count": 22,
     "metadata": {},
     "output_type": "execute_result"
    }
   ],
   "source": [
    "result_train_tuned = pd.DataFrame({\"Gradient Boosting with default parameters\":[accuracy_score(Y_train, y_predn_train),\n",
    "                                                                  precision_score(Y_train, y_predn_train),\n",
    "                                                                  recall_score(Y_train, y_predn_train)]},index =['Accuracy Score','Precision Score','Recall Score'])\n",
    "                                                                                                        \n",
    "result_train_tuned"
   ]
  },
  {
   "cell_type": "markdown",
   "id": "c048cc3e",
   "metadata": {},
   "source": [
    "Confusion matrix on test dataset"
   ]
  },
  {
   "cell_type": "code",
   "execution_count": 23,
   "id": "42184434",
   "metadata": {},
   "outputs": [
    {
     "name": "stdout",
     "output_type": "stream",
     "text": [
      "[[871 138]\n",
      " [183 808]]\n"
     ]
    },
    {
     "data": {
      "image/png": "[encoded data removed]",
      "text/plain": [
       "<Figure size 432x288 with 2 Axes>"
      ]
     },
     "metadata": {
      "needs_background": "light"
     },
     "output_type": "display_data"
    }
   ],
   "source": [
    "disp_test_tuned = ConfusionMatrixDisplay.from_estimator(\n",
    "        dtc_tuned,\n",
    "        X_test,\n",
    "        Y_test,\n",
    "        cmap=plt.cm.Greens)\n",
    "\n",
    "print(disp_test_tuned.confusion_matrix)"
   ]
  },
  {
   "cell_type": "markdown",
   "id": "aa131288",
   "metadata": {},
   "source": [
    "Classification report on test dataset"
   ]
  },
  {
   "cell_type": "code",
   "execution_count": 24,
   "id": "f8216f01",
   "metadata": {},
   "outputs": [
    {
     "name": "stdout",
     "output_type": "stream",
     "text": [
      "              precision    recall  f1-score   support\n",
      "\n",
      "           0       0.83      0.86      0.84      1009\n",
      "           1       0.85      0.82      0.83       991\n",
      "\n",
      "    accuracy                           0.84      2000\n",
      "   macro avg       0.84      0.84      0.84      2000\n",
      "weighted avg       0.84      0.84      0.84      2000\n",
      "\n"
     ]
    }
   ],
   "source": [
    "print(classification_report(Y_test, y_predn_test))"
   ]
  },
  {
   "cell_type": "markdown",
   "id": "0c04ff96",
   "metadata": {},
   "source": [
    "Summary of metrics on test dataset"
   ]
  },
  {
   "cell_type": "code",
   "execution_count": 25,
   "id": "4c936763",
   "metadata": {},
   "outputs": [
    {
     "data": {
      "text/html": [
       "<div>\n",
       "<style scoped>\n",
       "    .dataframe tbody tr th:only-of-type {\n",
       "        vertical-align: middle;\n",
       "    }\n",
       "\n",
       "    .dataframe tbody tr th {\n",
       "        vertical-align: top;\n",
       "    }\n",
       "\n",
       "    .dataframe thead th {\n",
       "        text-align: right;\n",
       "    }\n",
       "</style>\n",
       "<table border=\"1\" class=\"dataframe\">\n",
       "  <thead>\n",
       "    <tr style=\"text-align: right;\">\n",
       "      <th></th>\n",
       "      <th>Gradient Boosting with default parameters</th>\n",
       "    </tr>\n",
       "  </thead>\n",
       "  <tbody>\n",
       "    <tr>\n",
       "      <th>Accuracy Score</th>\n",
       "      <td>0.839500</td>\n",
       "    </tr>\n",
       "    <tr>\n",
       "      <th>Precision Score</th>\n",
       "      <td>0.854123</td>\n",
       "    </tr>\n",
       "    <tr>\n",
       "      <th>Recall Score</th>\n",
       "      <td>0.815338</td>\n",
       "    </tr>\n",
       "  </tbody>\n",
       "</table>\n",
       "</div>"
      ],
      "text/plain": [
       "                 Gradient Boosting with default parameters\n",
       "Accuracy Score                                    0.839500\n",
       "Precision Score                                   0.854123\n",
       "Recall Score                                      0.815338"
      ]
     },
     "execution_count": 25,
     "metadata": {},
     "output_type": "execute_result"
    }
   ],
   "source": [
    "result_test_tuned = pd.DataFrame({\"Gradient Boosting with default parameters\":[accuracy_score(Y_test, y_predn_test),\n",
    "                                                                  precision_score(Y_test, y_predn_test),\n",
    "                                                                  recall_score(Y_test, y_predn_test)]},index =['Accuracy Score','Precision Score','Recall Score'])\n",
    "                                                                                                        \n",
    "result_test_tuned"
   ]
  },
  {
   "cell_type": "markdown",
   "id": "c9c7ffcf",
   "metadata": {},
   "source": [
    "Reason for choosing the above parameters :"
   ]
  },
  {
   "cell_type": "markdown",
   "id": "e7caae12",
   "metadata": {},
   "source": [
    "The parameters Criterion=Entropy, ccp_alpha = 0.015 and max_depth = 4 helped to provide accuracy of 0.84 on test data set . The accuracy on train is also around 0.84. The model is not overfitting on the train data.\n",
    "\n",
    "Possible Reasons:\n",
    "\n",
    "1 . Entropy measure is the impurity measure -splits a node such that it gives the most amount of information gain. \n",
    "\n",
    "2 . Setting the max_depth = 4 will limit the tree growth .If max_depth = None, the tree will capture more information about the data causes overfitting. It will not generalize well on test set.\n",
    "\n",
    "3. ccp_alpha = 0.015, will maximize the test accuracy"
   ]
  },
  {
   "cell_type": "markdown",
   "id": "df311757",
   "metadata": {},
   "source": [
    "## Regression"
   ]
  },
  {
   "cell_type": "markdown",
   "id": "20436a2a",
   "metadata": {},
   "source": [
    "## Answer 4"
   ]
  },
  {
   "cell_type": "markdown",
   "id": "29abbe20",
   "metadata": {},
   "source": [
    "Load the regrssion data "
   ]
  },
  {
   "cell_type": "code",
   "execution_count": 26,
   "id": "7a2d4591",
   "metadata": {},
   "outputs": [],
   "source": [
    "task = pd.read_csv(\"exam_1_regression.csv\")"
   ]
  },
  {
   "cell_type": "code",
   "execution_count": 27,
   "id": "d24a7f4b",
   "metadata": {
    "scrolled": true
   },
   "outputs": [
    {
     "data": {
      "text/html": [
       "<div>\n",
       "<style scoped>\n",
       "    .dataframe tbody tr th:only-of-type {\n",
       "        vertical-align: middle;\n",
       "    }\n",
       "\n",
       "    .dataframe tbody tr th {\n",
       "        vertical-align: top;\n",
       "    }\n",
       "\n",
       "    .dataframe thead th {\n",
       "        text-align: right;\n",
       "    }\n",
       "</style>\n",
       "<table border=\"1\" class=\"dataframe\">\n",
       "  <thead>\n",
       "    <tr style=\"text-align: right;\">\n",
       "      <th></th>\n",
       "      <th>MedInc</th>\n",
       "      <th>HouseAge</th>\n",
       "      <th>AveRooms</th>\n",
       "      <th>AveBedrms</th>\n",
       "      <th>Population</th>\n",
       "      <th>AveOccup</th>\n",
       "      <th>Latitude</th>\n",
       "      <th>Longitude</th>\n",
       "      <th>y</th>\n",
       "    </tr>\n",
       "  </thead>\n",
       "  <tbody>\n",
       "    <tr>\n",
       "      <th>0</th>\n",
       "      <td>8.3252</td>\n",
       "      <td>41.0</td>\n",
       "      <td>6.984127</td>\n",
       "      <td>1.023810</td>\n",
       "      <td>322.0</td>\n",
       "      <td>2.555556</td>\n",
       "      <td>37.88</td>\n",
       "      <td>-122.23</td>\n",
       "      <td>4.526</td>\n",
       "    </tr>\n",
       "    <tr>\n",
       "      <th>1</th>\n",
       "      <td>8.3014</td>\n",
       "      <td>21.0</td>\n",
       "      <td>6.238137</td>\n",
       "      <td>0.971880</td>\n",
       "      <td>2401.0</td>\n",
       "      <td>2.109842</td>\n",
       "      <td>37.86</td>\n",
       "      <td>-122.22</td>\n",
       "      <td>3.585</td>\n",
       "    </tr>\n",
       "    <tr>\n",
       "      <th>2</th>\n",
       "      <td>7.2574</td>\n",
       "      <td>52.0</td>\n",
       "      <td>8.288136</td>\n",
       "      <td>1.073446</td>\n",
       "      <td>496.0</td>\n",
       "      <td>2.802260</td>\n",
       "      <td>37.85</td>\n",
       "      <td>-122.24</td>\n",
       "      <td>3.521</td>\n",
       "    </tr>\n",
       "    <tr>\n",
       "      <th>3</th>\n",
       "      <td>5.6431</td>\n",
       "      <td>52.0</td>\n",
       "      <td>5.817352</td>\n",
       "      <td>1.073059</td>\n",
       "      <td>558.0</td>\n",
       "      <td>2.547945</td>\n",
       "      <td>37.85</td>\n",
       "      <td>-122.25</td>\n",
       "      <td>3.413</td>\n",
       "    </tr>\n",
       "    <tr>\n",
       "      <th>4</th>\n",
       "      <td>3.8462</td>\n",
       "      <td>52.0</td>\n",
       "      <td>6.281853</td>\n",
       "      <td>1.081081</td>\n",
       "      <td>565.0</td>\n",
       "      <td>2.181467</td>\n",
       "      <td>37.85</td>\n",
       "      <td>-122.25</td>\n",
       "      <td>3.422</td>\n",
       "    </tr>\n",
       "  </tbody>\n",
       "</table>\n",
       "</div>"
      ],
      "text/plain": [
       "   MedInc  HouseAge  AveRooms  AveBedrms  Population  AveOccup  Latitude  \\\n",
       "0  8.3252      41.0  6.984127   1.023810       322.0  2.555556     37.88   \n",
       "1  8.3014      21.0  6.238137   0.971880      2401.0  2.109842     37.86   \n",
       "2  7.2574      52.0  8.288136   1.073446       496.0  2.802260     37.85   \n",
       "3  5.6431      52.0  5.817352   1.073059       558.0  2.547945     37.85   \n",
       "4  3.8462      52.0  6.281853   1.081081       565.0  2.181467     37.85   \n",
       "\n",
       "   Longitude      y  \n",
       "0    -122.23  4.526  \n",
       "1    -122.22  3.585  \n",
       "2    -122.24  3.521  \n",
       "3    -122.25  3.413  \n",
       "4    -122.25  3.422  "
      ]
     },
     "execution_count": 27,
     "metadata": {},
     "output_type": "execute_result"
    }
   ],
   "source": [
    "task.head()"
   ]
  },
  {
   "cell_type": "markdown",
   "id": "29277507",
   "metadata": {},
   "source": [
    "Xt and Yt are the explanatory and target variables respectively"
   ]
  },
  {
   "cell_type": "code",
   "execution_count": 28,
   "id": "dd690466",
   "metadata": {},
   "outputs": [],
   "source": [
    "Xt = task.drop(columns=['y'])\n",
    "Yt = task.y"
   ]
  },
  {
   "cell_type": "markdown",
   "id": "c62f3072",
   "metadata": {},
   "source": [
    "Splitting the data into 80% tarining and 20% test at random_state = 0"
   ]
  },
  {
   "cell_type": "code",
   "execution_count": 29,
   "id": "d64519fc",
   "metadata": {},
   "outputs": [],
   "source": [
    "X_tr, X_tst, Y_tr, Y_tst = train_test_split(Xt, Yt, test_size=0.2, shuffle=True,random_state=0)"
   ]
  },
  {
   "cell_type": "markdown",
   "id": "13b29cbc",
   "metadata": {},
   "source": [
    "Fitting the linear regression model"
   ]
  },
  {
   "cell_type": "code",
   "execution_count": 30,
   "id": "df6e95d9",
   "metadata": {},
   "outputs": [],
   "source": [
    "linreg = LinearRegression()\n",
    "\n",
    "linreg.fit(X_tr,Y_tr)\n",
    "prediction_train = linreg.predict(X_tr)\n",
    "prediction_tst = linreg.predict(X_tst)\n"
   ]
  },
  {
   "cell_type": "markdown",
   "id": "8ede9201",
   "metadata": {},
   "source": [
    "## Answer 5"
   ]
  },
  {
   "cell_type": "markdown",
   "id": "b469eeff",
   "metadata": {},
   "source": [
    "Summary of metrics on training data"
   ]
  },
  {
   "cell_type": "code",
   "execution_count": 31,
   "id": "024aac3e",
   "metadata": {},
   "outputs": [
    {
     "data": {
      "text/html": [
       "<div>\n",
       "<style scoped>\n",
       "    .dataframe tbody tr th:only-of-type {\n",
       "        vertical-align: middle;\n",
       "    }\n",
       "\n",
       "    .dataframe tbody tr th {\n",
       "        vertical-align: top;\n",
       "    }\n",
       "\n",
       "    .dataframe thead th {\n",
       "        text-align: right;\n",
       "    }\n",
       "</style>\n",
       "<table border=\"1\" class=\"dataframe\">\n",
       "  <thead>\n",
       "    <tr style=\"text-align: right;\">\n",
       "      <th></th>\n",
       "      <th>Gradient Boosting with default parameters</th>\n",
       "    </tr>\n",
       "  </thead>\n",
       "  <tbody>\n",
       "    <tr>\n",
       "      <th>R-Squared</th>\n",
       "      <td>0.608897</td>\n",
       "    </tr>\n",
       "    <tr>\n",
       "      <th>Mean Absolute Error</th>\n",
       "      <td>0.530874</td>\n",
       "    </tr>\n",
       "    <tr>\n",
       "      <th>MSE</th>\n",
       "      <td>0.523441</td>\n",
       "    </tr>\n",
       "  </tbody>\n",
       "</table>\n",
       "</div>"
      ],
      "text/plain": [
       "                     Gradient Boosting with default parameters\n",
       "R-Squared                                             0.608897\n",
       "Mean Absolute Error                                   0.530874\n",
       "MSE                                                   0.523441"
      ]
     },
     "execution_count": 31,
     "metadata": {},
     "output_type": "execute_result"
    }
   ],
   "source": [
    "result_linreg_tr = pd.DataFrame({\"Gradient Boosting with default parameters\":[r2_score(Y_tr, prediction_train),\n",
    "                                                                  mean_absolute_error(Y_tr, prediction_train),\n",
    "                                                                  mean_squared_error(Y_tr, prediction_train)]},index =['R-Squared','Mean Absolute Error','MSE'])\n",
    "                                                                                                        \n",
    "result_linreg_tr"
   ]
  },
  {
   "cell_type": "markdown",
   "id": "e54a83be",
   "metadata": {},
   "source": [
    "Summary of metrics on test data"
   ]
  },
  {
   "cell_type": "code",
   "execution_count": 32,
   "id": "1dabe928",
   "metadata": {
    "scrolled": true
   },
   "outputs": [
    {
     "data": {
      "text/html": [
       "<div>\n",
       "<style scoped>\n",
       "    .dataframe tbody tr th:only-of-type {\n",
       "        vertical-align: middle;\n",
       "    }\n",
       "\n",
       "    .dataframe tbody tr th {\n",
       "        vertical-align: top;\n",
       "    }\n",
       "\n",
       "    .dataframe thead th {\n",
       "        text-align: right;\n",
       "    }\n",
       "</style>\n",
       "<table border=\"1\" class=\"dataframe\">\n",
       "  <thead>\n",
       "    <tr style=\"text-align: right;\">\n",
       "      <th></th>\n",
       "      <th>Gradient Boosting with default parameters</th>\n",
       "    </tr>\n",
       "  </thead>\n",
       "  <tbody>\n",
       "    <tr>\n",
       "      <th>R-Squared</th>\n",
       "      <td>0.594323</td>\n",
       "    </tr>\n",
       "    <tr>\n",
       "      <th>Mean Absolute Error</th>\n",
       "      <td>0.535126</td>\n",
       "    </tr>\n",
       "    <tr>\n",
       "      <th>MSE</th>\n",
       "      <td>0.528984</td>\n",
       "    </tr>\n",
       "  </tbody>\n",
       "</table>\n",
       "</div>"
      ],
      "text/plain": [
       "                     Gradient Boosting with default parameters\n",
       "R-Squared                                             0.594323\n",
       "Mean Absolute Error                                   0.535126\n",
       "MSE                                                   0.528984"
      ]
     },
     "execution_count": 32,
     "metadata": {},
     "output_type": "execute_result"
    }
   ],
   "source": [
    "result_linreg_tst = pd.DataFrame({\"Gradient Boosting with default parameters\":[r2_score(Y_tst, prediction_tst),\n",
    "                                                                  mean_absolute_error(Y_tst, prediction_tst),\n",
    "                                                                  mean_squared_error(Y_tst, prediction_tst)]},index =['R-Squared','Mean Absolute Error','MSE'])\n",
    "                                                                                                        \n",
    "result_linreg_tst"
   ]
  },
  {
   "cell_type": "markdown",
   "id": "93eb4726",
   "metadata": {},
   "source": [
    "The absolute values of coefficients sorted in an order are given below:"
   ]
  },
  {
   "cell_type": "code",
   "execution_count": 33,
   "id": "5e26fcc2",
   "metadata": {
    "scrolled": true
   },
   "outputs": [
    {
     "data": {
      "text/plain": [
       "array([7.56192502e-06, 4.74516383e-03, 9.29324337e-03, 9.86433739e-02,\n",
       "       4.21449336e-01, 4.33333407e-01, 4.34166041e-01, 5.93215487e-01])"
      ]
     },
     "execution_count": 33,
     "metadata": {},
     "output_type": "execute_result"
    }
   ],
   "source": [
    "np.sort(np.abs(linreg.coef_))"
   ]
  },
  {
   "cell_type": "markdown",
   "id": "798ab101",
   "metadata": {},
   "source": [
    "## Answer 6"
   ]
  },
  {
   "cell_type": "markdown",
   "id": "043047d4",
   "metadata": {},
   "source": [
    "Displaying the coefficients "
   ]
  },
  {
   "cell_type": "code",
   "execution_count": 34,
   "id": "b5755225",
   "metadata": {
    "scrolled": true
   },
   "outputs": [
    {
     "data": {
      "text/plain": [
       "array([ 4.33333407e-01,  9.29324337e-03, -9.86433739e-02,  5.93215487e-01,\n",
       "       -7.56192502e-06, -4.74516383e-03, -4.21449336e-01, -4.34166041e-01])"
      ]
     },
     "execution_count": 34,
     "metadata": {},
     "output_type": "execute_result"
    }
   ],
   "source": [
    "linreg.coef_"
   ]
  },
  {
   "cell_type": "markdown",
   "id": "11b055a8",
   "metadata": {},
   "source": [
    "we see that the AveRoooms coefficient is negative (-9.86433739e-02), it implies that on an average as rooms increase, y decreases."
   ]
  },
  {
   "cell_type": "code",
   "execution_count": 41,
   "id": "ce379ae9",
   "metadata": {},
   "outputs": [
    {
     "name": "stdout",
     "output_type": "stream",
     "text": [
      "AveBedrms  column coeficient is  0.59\n",
      "Longitude  column coeficient is  -0.43\n",
      "MedInc  column coeficient is  0.43\n",
      "Latitude  column coeficient is  -0.42\n",
      "AveRooms  column coeficient is  -0.1\n",
      "HouseAge  column coeficient is  0.01\n",
      "AveOccup  column coeficient is  -0.0\n",
      "Population  column coeficient is  -0.0\n"
     ]
    }
   ],
   "source": [
    "coef_dict = dict(zip(X_tst.columns,linreg.coef_))\n",
    "sorted_tuples = sorted(coef_dict.items(), key=lambda item: abs(item[1]), reverse=True)\n",
    "for tup in sorted_tuples:\n",
    "    print(tup[0],\" column coeficient is \", round(tup[1],2))"
   ]
  },
  {
   "cell_type": "code",
   "execution_count": null,
   "id": "6d23353d",
   "metadata": {},
   "outputs": [],
   "source": []
  }
 ],
 "metadata": {
  "kernelspec": {
   "display_name": "Python 3",
   "language": "python",
   "name": "python3"
  },
  "language_info": {
   "codemirror_mode": {
    "name": "ipython",
    "version": 3
   },
   "file_extension": ".py",
   "mimetype": "text/x-python",
   "name": "python",
   "nbconvert_exporter": "python",
   "pygments_lexer": "ipython3",
   "version": "3.8.8"
  }
 },
 "nbformat": 4,
 "nbformat_minor": 5
}
