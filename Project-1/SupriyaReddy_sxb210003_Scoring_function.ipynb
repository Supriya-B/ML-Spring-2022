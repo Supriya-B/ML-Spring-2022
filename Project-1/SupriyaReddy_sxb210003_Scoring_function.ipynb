{
 "cells": [
  {
   "cell_type": "markdown",
   "id": "f6d5011b",
   "metadata": {},
   "source": [
    "## scoring function"
   ]
  },
  {
   "cell_type": "code",
   "execution_count": 1,
   "id": "b53075dc",
   "metadata": {},
   "outputs": [],
   "source": [
    "def scoring(data):\n",
    "    from sklearn.preprocessing import LabelEncoder\n",
    "    import category_encoders as ce\n",
    "    from copy import deepcopy\n",
    "    from sklearn.preprocessing import MinMaxScaler\n",
    "    import pickle\n",
    "    from sklearn.tree import DecisionTreeClassifier\n",
    "    \n",
    "    X = data.copy()\n",
    "    \n",
    "    def currencyCleaning(x):\n",
    "        x = x[1:].replace(',','')\n",
    "        return x\n",
    "    data['DisbursementGross'] = data['DisbursementGross'].apply(currencyCleaning).astype(float).astype(int)\n",
    "    data['SBA_Appv'] = data['SBA_Appv'].apply(currencyCleaning).astype(float).astype(int)\n",
    "    data['BalanceGross'] = data['BalanceGross'].apply(currencyCleaning).astype(float).astype(int)\n",
    "    data['GrAppv'] = data['GrAppv'].apply(currencyCleaning).astype(float).astype(int)\n",
    "\n",
    "    data = data[data.NAICS != 0]\n",
    "    data = data[(data.NewExist == 1.0) | (data.NewExist == 2.0)]\n",
    "    data = data[(data.RevLineCr == 'Y') | (data.RevLineCr == 'N')]\n",
    "    data = data[(data.LowDoc == 'Y') | (data.LowDoc == 'N')]\n",
    "    data[\"Zip\"] = data[\"Zip\"].apply(str)\n",
    "    \n",
    "    \n",
    "    \n",
    "    \n",
    "    loaded_scalers = pickle.load(open('scalers.sav', 'rb'))\n",
    "    loaded_encoders = pickle.load(open('categorical_encoders.sav', 'rb'))\n",
    "    loaded_model = pickle.load(open('decision_tree_model.sav', 'rb'))\n",
    "    \n",
    "    \n",
    "    cols_to_drop = []\n",
    "    cat_encoders = {}\n",
    "    for col in data.drop(columns=['MIS_Status']).columns:\n",
    "        if data[col].dtype == 'object':\n",
    "            print(\"Target Encode scaling of \", col)\n",
    "            enc = loaded_encoders[col][0]\n",
    "            data[col+\"_trg\"] = enc.transform(data[[col]])\n",
    "            cat_encoders[col] = [deepcopy(enc),\"trg\"]\n",
    "            cols_to_drop.append(col)\n",
    "            \n",
    "    num_scalers = {}\n",
    "    '''Scale only original columns'''\n",
    "    for col in data.drop(columns=['MIS_Status']).columns[0:19]:\n",
    "      if pd.api.types.is_numeric_dtype(data[col].dtype):\n",
    "        print(\"MinMax scale of \", col)\n",
    "        scaler = loaded_scalers[col][0]\n",
    "        data[col+\"_sc\"] = scaler.transform(data[[col]])\n",
    "    \n",
    "        num_scalers[col] = [deepcopy(scaler),\"MinMax\"]\n",
    "        cols_to_drop.append(col)\n",
    "    \n",
    "    X = data.drop(columns=['MIS_Status']+cols_to_drop)\n",
    "    Y = data.MIS_Status\n",
    "    \n",
    "    y_predicted = loaded_model.predict(X)\n",
    "\n",
    "    return list(y_predicted)"
   ]
  },
  {
   "cell_type": "code",
   "execution_count": 2,
   "id": "c3cd454e",
   "metadata": {},
   "outputs": [],
   "source": [
    "import pandas as pd"
   ]
  },
  {
   "cell_type": "markdown",
   "id": "5dfc889d",
   "metadata": {},
   "source": [
    "The function\"Currency Cleaning\" has been written to deal with \"Object\" data type for Disbursement gross, Balance gross, GrAppv, SBA_Appv--convert them to float/int."
   ]
  },
  {
   "cell_type": "code",
   "execution_count": null,
   "id": "e0e536f9",
   "metadata": {},
   "outputs": [],
   "source": []
  }
 ],
 "metadata": {
  "kernelspec": {
   "display_name": "Python 3",
   "language": "python",
   "name": "python3"
  },
  "language_info": {
   "codemirror_mode": {
    "name": "ipython",
    "version": 3
   },
   "file_extension": ".py",
   "mimetype": "text/x-python",
   "name": "python",
   "nbconvert_exporter": "python",
   "pygments_lexer": "ipython3",
   "version": "3.8.8"
  }
 },
 "nbformat": 4,
 "nbformat_minor": 5
}
