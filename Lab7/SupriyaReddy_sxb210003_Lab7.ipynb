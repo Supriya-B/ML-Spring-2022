{
 "cells": [
  {
   "cell_type": "markdown",
   "id": "44e792c9",
   "metadata": {},
   "source": [
    "# Lab-7-Starter\n",
    "\n",
    "Rename notebook to include your name and ID.  \n",
    "Submit into **eLearning** and Github (optional)"
   ]
  },
  {
   "cell_type": "markdown",
   "id": "d85f6127",
   "metadata": {},
   "source": [
    "## Load data\n",
    "\n",
    "Load data from provided dataset (on eLearning).  \n",
    "Target column is `y` and it is last column in the dataset."
   ]
  },
  {
   "cell_type": "code",
   "execution_count": 1,
   "id": "6fae0fbb",
   "metadata": {},
   "outputs": [],
   "source": [
    "import pandas as pd"
   ]
  },
  {
   "cell_type": "code",
   "execution_count": 2,
   "id": "80a0aa59",
   "metadata": {},
   "outputs": [],
   "source": [
    "data = pd.read_csv(\"./lab_7_data.csv\")"
   ]
  },
  {
   "cell_type": "code",
   "execution_count": 3,
   "id": "fbdeaf2e",
   "metadata": {},
   "outputs": [
    {
     "data": {
      "text/html": [
       "<div>\n",
       "<style scoped>\n",
       "    .dataframe tbody tr th:only-of-type {\n",
       "        vertical-align: middle;\n",
       "    }\n",
       "\n",
       "    .dataframe tbody tr th {\n",
       "        vertical-align: top;\n",
       "    }\n",
       "\n",
       "    .dataframe thead th {\n",
       "        text-align: right;\n",
       "    }\n",
       "</style>\n",
       "<table border=\"1\" class=\"dataframe\">\n",
       "  <thead>\n",
       "    <tr style=\"text-align: right;\">\n",
       "      <th></th>\n",
       "      <th>col_0</th>\n",
       "      <th>col_1</th>\n",
       "      <th>col_2</th>\n",
       "      <th>col_3</th>\n",
       "      <th>col_4</th>\n",
       "      <th>col_5</th>\n",
       "      <th>col_6</th>\n",
       "      <th>col_7</th>\n",
       "      <th>col_8</th>\n",
       "      <th>col_9</th>\n",
       "      <th>...</th>\n",
       "      <th>col_191</th>\n",
       "      <th>col_192</th>\n",
       "      <th>col_193</th>\n",
       "      <th>col_194</th>\n",
       "      <th>col_195</th>\n",
       "      <th>col_196</th>\n",
       "      <th>col_197</th>\n",
       "      <th>col_198</th>\n",
       "      <th>col_199</th>\n",
       "      <th>y</th>\n",
       "    </tr>\n",
       "  </thead>\n",
       "  <tbody>\n",
       "    <tr>\n",
       "      <th>0</th>\n",
       "      <td>0.416251</td>\n",
       "      <td>0.187764</td>\n",
       "      <td>1.392731</td>\n",
       "      <td>0.302238</td>\n",
       "      <td>-0.053183</td>\n",
       "      <td>-1.598608</td>\n",
       "      <td>1.441321</td>\n",
       "      <td>-0.033600</td>\n",
       "      <td>-0.163162</td>\n",
       "      <td>0.016415</td>\n",
       "      <td>...</td>\n",
       "      <td>-1.129246</td>\n",
       "      <td>-1.874810</td>\n",
       "      <td>-0.599429</td>\n",
       "      <td>1.416135</td>\n",
       "      <td>-0.176389</td>\n",
       "      <td>-0.431767</td>\n",
       "      <td>1.300498</td>\n",
       "      <td>1.531078</td>\n",
       "      <td>-0.880436</td>\n",
       "      <td>0</td>\n",
       "    </tr>\n",
       "    <tr>\n",
       "      <th>1</th>\n",
       "      <td>-0.890983</td>\n",
       "      <td>-0.794026</td>\n",
       "      <td>0.251547</td>\n",
       "      <td>0.010026</td>\n",
       "      <td>-3.302863</td>\n",
       "      <td>-0.634802</td>\n",
       "      <td>-0.650848</td>\n",
       "      <td>-0.247151</td>\n",
       "      <td>-0.455664</td>\n",
       "      <td>1.074897</td>\n",
       "      <td>...</td>\n",
       "      <td>1.033471</td>\n",
       "      <td>-0.146153</td>\n",
       "      <td>-1.416427</td>\n",
       "      <td>-1.756438</td>\n",
       "      <td>-0.383269</td>\n",
       "      <td>-0.387179</td>\n",
       "      <td>-1.178079</td>\n",
       "      <td>0.731939</td>\n",
       "      <td>-0.794590</td>\n",
       "      <td>0</td>\n",
       "    </tr>\n",
       "    <tr>\n",
       "      <th>2</th>\n",
       "      <td>-0.143477</td>\n",
       "      <td>-0.216075</td>\n",
       "      <td>0.932037</td>\n",
       "      <td>0.671241</td>\n",
       "      <td>0.175003</td>\n",
       "      <td>0.640659</td>\n",
       "      <td>-1.138888</td>\n",
       "      <td>-1.394558</td>\n",
       "      <td>-1.135144</td>\n",
       "      <td>0.930762</td>\n",
       "      <td>...</td>\n",
       "      <td>-0.687676</td>\n",
       "      <td>-1.797068</td>\n",
       "      <td>0.217285</td>\n",
       "      <td>-0.120996</td>\n",
       "      <td>1.451940</td>\n",
       "      <td>0.709817</td>\n",
       "      <td>0.057776</td>\n",
       "      <td>-0.506289</td>\n",
       "      <td>1.672958</td>\n",
       "      <td>1</td>\n",
       "    </tr>\n",
       "    <tr>\n",
       "      <th>3</th>\n",
       "      <td>-1.134521</td>\n",
       "      <td>-0.038174</td>\n",
       "      <td>-1.332362</td>\n",
       "      <td>0.731847</td>\n",
       "      <td>-0.139031</td>\n",
       "      <td>-1.840960</td>\n",
       "      <td>0.951646</td>\n",
       "      <td>-0.904985</td>\n",
       "      <td>-1.168059</td>\n",
       "      <td>0.217766</td>\n",
       "      <td>...</td>\n",
       "      <td>-0.798943</td>\n",
       "      <td>0.713069</td>\n",
       "      <td>-0.535899</td>\n",
       "      <td>-0.256444</td>\n",
       "      <td>-0.084702</td>\n",
       "      <td>0.257521</td>\n",
       "      <td>0.686006</td>\n",
       "      <td>-0.908159</td>\n",
       "      <td>-1.131168</td>\n",
       "      <td>1</td>\n",
       "    </tr>\n",
       "    <tr>\n",
       "      <th>4</th>\n",
       "      <td>2.142828</td>\n",
       "      <td>2.214348</td>\n",
       "      <td>-0.322788</td>\n",
       "      <td>-0.811791</td>\n",
       "      <td>-0.418127</td>\n",
       "      <td>0.203688</td>\n",
       "      <td>-0.219648</td>\n",
       "      <td>0.050074</td>\n",
       "      <td>0.416546</td>\n",
       "      <td>-0.482434</td>\n",
       "      <td>...</td>\n",
       "      <td>1.397517</td>\n",
       "      <td>0.764536</td>\n",
       "      <td>-0.906014</td>\n",
       "      <td>-0.433268</td>\n",
       "      <td>-0.315009</td>\n",
       "      <td>-0.253783</td>\n",
       "      <td>1.702297</td>\n",
       "      <td>-0.904033</td>\n",
       "      <td>-1.016026</td>\n",
       "      <td>0</td>\n",
       "    </tr>\n",
       "  </tbody>\n",
       "</table>\n",
       "<p>5 rows × 201 columns</p>\n",
       "</div>"
      ],
      "text/plain": [
       "      col_0     col_1     col_2     col_3     col_4     col_5     col_6  \\\n",
       "0  0.416251  0.187764  1.392731  0.302238 -0.053183 -1.598608  1.441321   \n",
       "1 -0.890983 -0.794026  0.251547  0.010026 -3.302863 -0.634802 -0.650848   \n",
       "2 -0.143477 -0.216075  0.932037  0.671241  0.175003  0.640659 -1.138888   \n",
       "3 -1.134521 -0.038174 -1.332362  0.731847 -0.139031 -1.840960  0.951646   \n",
       "4  2.142828  2.214348 -0.322788 -0.811791 -0.418127  0.203688 -0.219648   \n",
       "\n",
       "      col_7     col_8     col_9  ...   col_191   col_192   col_193   col_194  \\\n",
       "0 -0.033600 -0.163162  0.016415  ... -1.129246 -1.874810 -0.599429  1.416135   \n",
       "1 -0.247151 -0.455664  1.074897  ...  1.033471 -0.146153 -1.416427 -1.756438   \n",
       "2 -1.394558 -1.135144  0.930762  ... -0.687676 -1.797068  0.217285 -0.120996   \n",
       "3 -0.904985 -1.168059  0.217766  ... -0.798943  0.713069 -0.535899 -0.256444   \n",
       "4  0.050074  0.416546 -0.482434  ...  1.397517  0.764536 -0.906014 -0.433268   \n",
       "\n",
       "    col_195   col_196   col_197   col_198   col_199  y  \n",
       "0 -0.176389 -0.431767  1.300498  1.531078 -0.880436  0  \n",
       "1 -0.383269 -0.387179 -1.178079  0.731939 -0.794590  0  \n",
       "2  1.451940  0.709817  0.057776 -0.506289  1.672958  1  \n",
       "3 -0.084702  0.257521  0.686006 -0.908159 -1.131168  1  \n",
       "4 -0.315009 -0.253783  1.702297 -0.904033 -1.016026  0  \n",
       "\n",
       "[5 rows x 201 columns]"
      ]
     },
     "execution_count": 3,
     "metadata": {},
     "output_type": "execute_result"
    }
   ],
   "source": [
    "data.head()"
   ]
  },
  {
   "cell_type": "markdown",
   "id": "d60fbaf4",
   "metadata": {},
   "source": [
    "## Question 1\n",
    "\n",
    "Use PCA to reduce the size of the feature space while retaining 90% of the explained variance. What is the size of the transformed feature space? (Number of features in the reduced dataset)\n",
    "\n",
    "You should keep target column `y` as is (don't include in PCA)"
   ]
  },
  {
   "cell_type": "code",
   "execution_count": 4,
   "id": "b87d030d",
   "metadata": {},
   "outputs": [],
   "source": [
    "from sklearn.linear_model import LogisticRegression\n",
    "from sklearn.decomposition import PCA"
   ]
  },
  {
   "cell_type": "code",
   "execution_count": 5,
   "id": "24eeea53",
   "metadata": {},
   "outputs": [],
   "source": [
    "pca = PCA(n_components=125)\n",
    "lr = LogisticRegression(multi_class='auto', solver='liblinear')"
   ]
  },
  {
   "cell_type": "code",
   "execution_count": 6,
   "id": "7b75b9b6",
   "metadata": {},
   "outputs": [
    {
     "data": {
      "text/plain": [
       "LogisticRegression(solver='liblinear')"
      ]
     },
     "execution_count": 6,
     "metadata": {},
     "output_type": "execute_result"
    }
   ],
   "source": [
    "data_X = data.drop(columns = ['y'])\n",
    "data_Y = data['y']\n",
    "X_pca = pca.fit_transform(data_X)\n",
    "lr.fit(X_pca,data_Y)"
   ]
  },
  {
   "cell_type": "code",
   "execution_count": 7,
   "id": "d9f2b5ab",
   "metadata": {},
   "outputs": [
    {
     "data": {
      "text/plain": [
       "array([60.70071862, 39.9107014 , 34.96853387, 23.43382496, 17.38092425,\n",
       "        9.79131193,  7.81479038,  6.82491838,  5.92681801,  5.50699275,\n",
       "        4.91285667,  4.07127084,  3.60957174,  2.82107349,  2.51150639,\n",
       "        2.00321088,  1.94831265,  1.88326147,  1.85930461,  1.83349631,\n",
       "        1.80515361,  1.78275936,  1.75221978,  1.74742436,  1.73333844,\n",
       "        1.70942745,  1.70489767,  1.67935236,  1.67249995,  1.65831583,\n",
       "        1.63926707,  1.61864026,  1.60413436,  1.58860926,  1.5861431 ,\n",
       "        1.55851254,  1.54273011,  1.5361435 ,  1.52617298,  1.51624355,\n",
       "        1.50095032,  1.49407807,  1.48938686,  1.47902583,  1.47093863,\n",
       "        1.46845424,  1.44882167,  1.43408533,  1.42887317,  1.40587646,\n",
       "        1.39269912,  1.38573148,  1.38000305,  1.37142953,  1.36839874,\n",
       "        1.34101989,  1.33437544,  1.32417147,  1.31209006,  1.29769025,\n",
       "        1.29379489,  1.28745571,  1.28362273,  1.2690893 ,  1.25819211,\n",
       "        1.24822878,  1.23699863,  1.21883368,  1.21137028,  1.20042359,\n",
       "        1.19168628,  1.17871292,  1.17211092,  1.16151143,  1.16129604,\n",
       "        1.15380074,  1.14706414,  1.1330863 ,  1.12835824,  1.11873104,\n",
       "        1.10885082,  1.10257219,  1.09239409,  1.08635126,  1.07323635,\n",
       "        1.06810313,  1.05726292,  1.03536197,  1.03097033,  1.02225059,\n",
       "        1.00951849,  1.00748121,  0.99905176,  0.99321604,  0.98165391,\n",
       "        0.97289722,  0.9618272 ,  0.95026116,  0.93891062,  0.93040262,\n",
       "        0.92569448,  0.92032207,  0.917028  ,  0.91099192,  0.90529479,\n",
       "        0.89743445,  0.88704369,  0.88164414,  0.87364931,  0.86414242,\n",
       "        0.85658468,  0.84933817,  0.84142507,  0.83149672,  0.81387933,\n",
       "        0.81024007,  0.8074011 ,  0.80013201,  0.7929307 ,  0.77900027,\n",
       "        0.77254413,  0.76808427,  0.76533268,  0.74969619,  0.74706256])"
      ]
     },
     "execution_count": 7,
     "metadata": {},
     "output_type": "execute_result"
    }
   ],
   "source": [
    "pca.explained_variance_"
   ]
  },
  {
   "cell_type": "code",
   "execution_count": 8,
   "id": "9aee7658",
   "metadata": {},
   "outputs": [
    {
     "name": "stdout",
     "output_type": "stream",
     "text": [
      "Variance of each component: [0.14932855 0.09818347 0.08602535 0.05764906 0.04275844 0.0240874\n",
      " 0.019225   0.01678984 0.01458044 0.01354764 0.01208601 0.01001565\n",
      " 0.00887983 0.00694006 0.0061785  0.00492806 0.004793   0.00463297\n",
      " 0.00457404 0.00451055 0.00444082 0.00438573 0.0043106  0.0042988\n",
      " 0.00426415 0.00420533 0.00419418 0.00413134 0.00411448 0.00407959\n",
      " 0.00403273 0.00398198 0.0039463  0.0039081  0.00390204 0.00383406\n",
      " 0.00379524 0.00377903 0.00375451 0.00373008 0.00369246 0.00367555\n",
      " 0.00366401 0.00363852 0.00361862 0.00361251 0.00356422 0.00352796\n",
      " 0.00351514 0.00345857 0.00342615 0.00340901 0.00339492 0.00337382\n",
      " 0.00336637 0.00329901 0.00328267 0.00325757 0.00322784 0.00319242\n",
      " 0.00318284 0.00316724 0.00315781 0.00312206 0.00309525 0.00307074\n",
      " 0.00304311 0.00299843 0.00298007 0.00295314 0.00293164 0.00289973\n",
      " 0.00288349 0.00285741 0.00285688 0.00283844 0.00282187 0.00278748\n",
      " 0.00277585 0.00275217 0.00272786 0.00271241 0.00268738 0.00267251\n",
      " 0.00264025 0.00262762 0.00260095 0.00254707 0.00253627 0.00251482\n",
      " 0.0024835  0.00247848 0.00245775 0.00244339 0.00241495 0.0023934\n",
      " 0.00236617 0.00233772 0.00230979 0.00228886 0.00227728 0.00226406\n",
      " 0.00225596 0.00224111 0.0022271  0.00220776 0.0021822  0.00216891\n",
      " 0.00214925 0.00212586 0.00210727 0.00208944 0.00206997 0.00204555\n",
      " 0.00200221 0.00199325 0.00198627 0.00196839 0.00195067 0.0019164\n",
      " 0.00190052 0.00188955 0.00188278 0.00184431 0.00183783]\n"
     ]
    }
   ],
   "source": [
    "# Calculate the variance explained by priciple components\n",
    "print('Variance of each component:', pca.explained_variance_ratio_)\n"
   ]
  },
  {
   "cell_type": "code",
   "execution_count": 9,
   "id": "896408b8",
   "metadata": {},
   "outputs": [
    {
     "name": "stdout",
     "output_type": "stream",
     "text": [
      "The total variance explained is 90.1\n"
     ]
    }
   ],
   "source": [
    "print(\"The total variance explained is\",round(sum(list(pca.explained_variance_ratio_))*100,2))\n"
   ]
  },
  {
   "cell_type": "markdown",
   "id": "e3380f34",
   "metadata": {},
   "source": [
    "### The number of features in the reduced data set (or the transformed data set) is 125."
   ]
  },
  {
   "cell_type": "markdown",
   "id": "e03738b6",
   "metadata": {},
   "source": [
    "## Question 2\n",
    "\n",
    "Use original dataset. Split it to Train and Test, 80/20 ratio. \n",
    "\n",
    "Train a SVC with kernel 'rbf', gamma = 'auto', and C = 10. \n",
    "Target column is `y`. \n",
    "\n",
    "Report following metrics on test dataset:\n",
    "- Confusion matrix\n",
    "- F1 weighted\n",
    "\n",
    "Set random_state = 142 on all models and functions with this argument."
   ]
  },
  {
   "cell_type": "code",
   "execution_count": 10,
   "id": "14994b86",
   "metadata": {},
   "outputs": [],
   "source": [
    "from sklearn.model_selection import train_test_split"
   ]
  },
  {
   "cell_type": "code",
   "execution_count": 11,
   "id": "8d556fa9",
   "metadata": {},
   "outputs": [],
   "source": [
    "X = data.drop(columns=['y'])\n",
    "Y = data.y"
   ]
  },
  {
   "cell_type": "code",
   "execution_count": 12,
   "id": "228b8050",
   "metadata": {},
   "outputs": [],
   "source": [
    "X_train,X_test,Y_train, Y_test = train_test_split(X,Y,train_size=0.8,random_state=142)"
   ]
  },
  {
   "cell_type": "code",
   "execution_count": 13,
   "id": "fd2de383",
   "metadata": {},
   "outputs": [],
   "source": [
    "from sklearn.svm import SVC\n",
    "from sklearn.metrics import ConfusionMatrixDisplay\n",
    "import matplotlib.pyplot as plt"
   ]
  },
  {
   "cell_type": "code",
   "execution_count": 14,
   "id": "b6703b0f",
   "metadata": {},
   "outputs": [],
   "source": [
    "clf = SVC(kernel='rbf', C = 10, gamma='auto', random_state = 142)"
   ]
  },
  {
   "cell_type": "code",
   "execution_count": 15,
   "id": "fc3d259c",
   "metadata": {},
   "outputs": [
    {
     "data": {
      "text/plain": [
       "SVC(C=10, gamma='auto', random_state=142)"
      ]
     },
     "execution_count": 15,
     "metadata": {},
     "output_type": "execute_result"
    }
   ],
   "source": [
    "clf.fit(X_train,Y_train)"
   ]
  },
  {
   "cell_type": "code",
   "execution_count": 16,
   "id": "513da5be",
   "metadata": {},
   "outputs": [],
   "source": [
    "Y_predict = clf.predict(X_test)"
   ]
  },
  {
   "cell_type": "code",
   "execution_count": 17,
   "id": "cf9b652f",
   "metadata": {},
   "outputs": [
    {
     "name": "stdout",
     "output_type": "stream",
     "text": [
      "[[105   5]\n",
      " [  3  87]]\n"
     ]
    },
    {
     "data": {
      "image/png": "[encoded data removed]",
      "text/plain": [
       "<Figure size 432x288 with 2 Axes>"
      ]
     },
     "metadata": {
      "needs_background": "light"
     },
     "output_type": "display_data"
    }
   ],
   "source": [
    "disp = ConfusionMatrixDisplay.from_estimator(\n",
    "        clf,\n",
    "        X_test,\n",
    "        Y_test,\n",
    "        cmap=plt.cm.Blues)\n",
    "\n",
    "print(disp.confusion_matrix)"
   ]
  },
  {
   "cell_type": "code",
   "execution_count": 18,
   "id": "1359e5c3",
   "metadata": {},
   "outputs": [],
   "source": [
    " from sklearn.metrics import f1_score"
   ]
  },
  {
   "cell_type": "code",
   "execution_count": 19,
   "id": "7c748443",
   "metadata": {},
   "outputs": [
    {
     "name": "stdout",
     "output_type": "stream",
     "text": [
      "The weighted F1-score is 0.9600362939812481\n"
     ]
    }
   ],
   "source": [
    "print(\"The weighted F1-score is\",f1_score(Y_test, Y_predict, average='weighted'))"
   ]
  },
  {
   "cell_type": "code",
   "execution_count": null,
   "id": "4d8c0817",
   "metadata": {},
   "outputs": [],
   "source": []
  },
  {
   "cell_type": "markdown",
   "id": "47efb9dd",
   "metadata": {},
   "source": [
    "## Question 3\n",
    "\n",
    "Use dataset with 0.90 variance preserve (Question 1) . Split it to Train and Test, 80/20 ratio. \n",
    "\n",
    "Train a SVC with kernel 'rbf', gamma = 'auto', and C = 10. \n",
    "Target column is `y`. \n",
    "\n",
    "Report following metrics on test dataset:\n",
    "- Confusion matrix\n",
    "- F1 weighted\n",
    "\n",
    "Set random_state = 142 on all models and functions with this argument.\n",
    "\n",
    "How the model results are different from the results in Q2?  \n",
    "Argue in favor and against using PCA to reduce number of features in this scenario. Provide at least two arguments for each. "
   ]
  },
  {
   "cell_type": "code",
   "execution_count": 20,
   "id": "798a90ed",
   "metadata": {},
   "outputs": [],
   "source": [
    "X_tr,X_tst,Y_tr, Y_tst = train_test_split(X_pca,data_Y,train_size=0.8,random_state=142)"
   ]
  },
  {
   "cell_type": "code",
   "execution_count": 21,
   "id": "46ec54b0",
   "metadata": {},
   "outputs": [],
   "source": [
    "clf_pca = SVC(kernel='rbf', C = 10, gamma='auto', random_state = 142)"
   ]
  },
  {
   "cell_type": "code",
   "execution_count": 22,
   "id": "57b88da3",
   "metadata": {},
   "outputs": [
    {
     "data": {
      "text/plain": [
       "SVC(C=10, gamma='auto', random_state=142)"
      ]
     },
     "execution_count": 22,
     "metadata": {},
     "output_type": "execute_result"
    }
   ],
   "source": [
    "clf_pca.fit(X_tr,Y_tr)"
   ]
  },
  {
   "cell_type": "code",
   "execution_count": 23,
   "id": "63e4122e",
   "metadata": {},
   "outputs": [],
   "source": [
    "Y_pred = clf_pca.predict(X_tst)"
   ]
  },
  {
   "cell_type": "code",
   "execution_count": 24,
   "id": "ed9bf814",
   "metadata": {
    "scrolled": true
   },
   "outputs": [
    {
     "name": "stdout",
     "output_type": "stream",
     "text": [
      "[[103   7]\n",
      " [  4  86]]\n"
     ]
    },
    {
     "data": {
      "image/png": "[encoded data removed]",
      "text/plain": [
       "<Figure size 432x288 with 2 Axes>"
      ]
     },
     "metadata": {
      "needs_background": "light"
     },
     "output_type": "display_data"
    }
   ],
   "source": [
    "disp1 = ConfusionMatrixDisplay.from_estimator(\n",
    "        clf_pca,\n",
    "        X_tst,\n",
    "        Y_tst,\n",
    "        cmap=plt.cm.Blues)\n",
    "\n",
    "print(disp1.confusion_matrix)"
   ]
  },
  {
   "cell_type": "code",
   "execution_count": 25,
   "id": "9e8bc20b",
   "metadata": {},
   "outputs": [
    {
     "name": "stdout",
     "output_type": "stream",
     "text": [
      "The weighted F1-score is 0.945070635340334\n"
     ]
    }
   ],
   "source": [
    "print(\"The weighted F1-score is\",f1_score(Y_tst, Y_pred, average='weighted'))"
   ]
  },
  {
   "cell_type": "markdown",
   "id": "59ed8bf8",
   "metadata": {},
   "source": [
    "PCA model has low f1_score compared to the normal model. Also, the predictions of labels are a bit less accurate as can be seen from the confusion matrix."
   ]
  },
  {
   "cell_type": "markdown",
   "id": "24558848",
   "metadata": {},
   "source": [
    "Arguments in favor of PCA:\n",
    "\n",
    "1. Overfitting may occur when there are too many variables. So, PCA helps reduce overfitting\n",
    "\n",
    "2. We can't run an algorithm on all the features as it will reduce the performance. So,reducing the number of features in the dataset is important. Moreover, all the Principal Components are independent of one another. There is no correlation among them."
   ]
  },
  {
   "cell_type": "markdown",
   "id": "3a2b85f5",
   "metadata": {},
   "source": [
    "Arguments against PCA:\n",
    "\n",
    "1.After implementing PCA the original features will turn into Principal Components,which are the linear combination of the original features. Principal Components are not as interpretable as original features.\n",
    "\n",
    "2.Although Principal Components try to cover maximum variance among the features in a dataset, if we don’t select the number of Principal Components with care, it may lead to loss of some information as compared to the original list of features."
   ]
  },
  {
   "cell_type": "code",
   "execution_count": null,
   "id": "54397c46",
   "metadata": {},
   "outputs": [],
   "source": []
  },
  {
   "cell_type": "markdown",
   "id": "b59806db",
   "metadata": {},
   "source": [
    "# Question 4\n",
    "\n",
    "Refer to this notebook example: https://github.com/h2oai/h2o-tutorials/blob/master/best-practices/glrm/GLRM_BestPractices.ipynb\n",
    "\n",
    "Train H2O GLRM model on the input dataset (minus column `y`).\n",
    "Use following parameters to define model:\n",
    "```\n",
    "rank2_model = H2OGeneralizedLowRankEstimator(k=2,\n",
    "                                             model_id = \"rank2\", \n",
    "                                             seed = 1234, \n",
    "                                             loss=\"Absolute\",\n",
    "                                             transform=\"standardize\",\n",
    "                                             representation_name=\"rank2_full\")\n",
    "\n",
    "```\n",
    "\n",
    "The model will compress dataset to two features only.\n",
    "Our goal is to understand what features (\"col0\" to col_199\") are close to each other. We will use visual two-dimensional graph to do it.\n",
    "\n",
    "Once you have produced graph, annotate points which are close. Annotate at least two pairs.\n",
    "\n",
    "If you cannot produce graph, identify two pairs of points using Euclidian distance.\n"
   ]
  },
  {
   "cell_type": "code",
   "execution_count": 26,
   "id": "f544fa4b",
   "metadata": {
    "scrolled": true
   },
   "outputs": [
    {
     "name": "stdout",
     "output_type": "stream",
     "text": [
      "Checking whether there is an H2O instance running at http://localhost:54321 . connected.\n",
      "Warning: Your H2O cluster version is too old (3 months and 21 days)!Please download and install the latest version from http://h2o.ai/download/\n"
     ]
    },
    {
     "data": {
      "text/html": [
       "<div style=\"overflow:auto\"><table style=\"width:50%\"><tr><td>H2O_cluster_uptime:</td>\n",
       "<td>2 hours 21 mins</td></tr>\n",
       "<tr><td>H2O_cluster_timezone:</td>\n",
       "<td>America/Los_Angeles</td></tr>\n",
       "<tr><td>H2O_data_parsing_timezone:</td>\n",
       "<td>UTC</td></tr>\n",
       "<tr><td>H2O_cluster_version:</td>\n",
       "<td>3.34.0.7</td></tr>\n",
       "<tr><td>H2O_cluster_version_age:</td>\n",
       "<td>3 months and 21 days !!!</td></tr>\n",
       "<tr><td>H2O_cluster_name:</td>\n",
       "<td>H2O_from_python_srbuj_khxir8</td></tr>\n",
       "<tr><td>H2O_cluster_total_nodes:</td>\n",
       "<td>1</td></tr>\n",
       "<tr><td>H2O_cluster_free_memory:</td>\n",
       "<td>7.973 Gb</td></tr>\n",
       "<tr><td>H2O_cluster_total_cores:</td>\n",
       "<td>8</td></tr>\n",
       "<tr><td>H2O_cluster_allowed_cores:</td>\n",
       "<td>3</td></tr>\n",
       "<tr><td>H2O_cluster_status:</td>\n",
       "<td>locked, healthy</td></tr>\n",
       "<tr><td>H2O_connection_url:</td>\n",
       "<td>http://localhost:54321</td></tr>\n",
       "<tr><td>H2O_connection_proxy:</td>\n",
       "<td>{\"http\": null, \"https\": null}</td></tr>\n",
       "<tr><td>H2O_internal_security:</td>\n",
       "<td>False</td></tr>\n",
       "<tr><td>H2O_API_Extensions:</td>\n",
       "<td>Amazon S3, Algos, AutoML, Core V3, TargetEncoder, Core V4</td></tr>\n",
       "<tr><td>Python_version:</td>\n",
       "<td>3.8.8 final</td></tr></table></div>"
      ],
      "text/plain": [
       "--------------------------  ---------------------------------------------------------\n",
       "H2O_cluster_uptime:         2 hours 21 mins\n",
       "H2O_cluster_timezone:       America/Los_Angeles\n",
       "H2O_data_parsing_timezone:  UTC\n",
       "H2O_cluster_version:        3.34.0.7\n",
       "H2O_cluster_version_age:    3 months and 21 days !!!\n",
       "H2O_cluster_name:           H2O_from_python_srbuj_khxir8\n",
       "H2O_cluster_total_nodes:    1\n",
       "H2O_cluster_free_memory:    7.973 Gb\n",
       "H2O_cluster_total_cores:    8\n",
       "H2O_cluster_allowed_cores:  3\n",
       "H2O_cluster_status:         locked, healthy\n",
       "H2O_connection_url:         http://localhost:54321\n",
       "H2O_connection_proxy:       {\"http\": null, \"https\": null}\n",
       "H2O_internal_security:      False\n",
       "H2O_API_Extensions:         Amazon S3, Algos, AutoML, Core V3, TargetEncoder, Core V4\n",
       "Python_version:             3.8.8 final\n",
       "--------------------------  ---------------------------------------------------------"
      ]
     },
     "metadata": {},
     "output_type": "display_data"
    }
   ],
   "source": [
    "import h2o\n",
    "try:\n",
    "    h2o.cluster().shutdown()\n",
    "except:\n",
    "    pass \n",
    "#Limit to 3 threads and 4GB memory\n",
    "h2o.init(nthreads=3, max_mem_size=8)"
   ]
  },
  {
   "cell_type": "code",
   "execution_count": 27,
   "id": "b6caa3da",
   "metadata": {
    "scrolled": false
   },
   "outputs": [
    {
     "name": "stdout",
     "output_type": "stream",
     "text": [
      "Parse progress: |████████████████████████████████████████████████████████████████| (done) 100%\n"
     ]
    }
   ],
   "source": [
    "df_h = h2o.import_file(\"./lab_7_data.csv\")"
   ]
  },
  {
   "cell_type": "code",
   "execution_count": 28,
   "id": "1893a416",
   "metadata": {
    "scrolled": true
   },
   "outputs": [
    {
     "data": {
      "text/html": [
       "<table>\n",
       "<thead>\n",
       "<tr><th style=\"text-align: right;\">    col_0</th><th style=\"text-align: right;\">     col_1</th><th style=\"text-align: right;\">      col_2</th><th style=\"text-align: right;\">      col_3</th><th style=\"text-align: right;\">     col_4</th><th style=\"text-align: right;\">     col_5</th><th style=\"text-align: right;\">    col_6</th><th style=\"text-align: right;\">     col_7</th><th style=\"text-align: right;\">    col_8</th><th style=\"text-align: right;\">     col_9</th><th style=\"text-align: right;\">   col_10</th><th style=\"text-align: right;\">   col_11</th><th style=\"text-align: right;\">   col_12</th><th style=\"text-align: right;\">    col_13</th><th style=\"text-align: right;\">    col_14</th><th style=\"text-align: right;\">   col_15</th><th style=\"text-align: right;\">    col_16</th><th style=\"text-align: right;\">    col_17</th><th style=\"text-align: right;\">   col_18</th><th style=\"text-align: right;\">    col_19</th><th style=\"text-align: right;\">    col_20</th><th style=\"text-align: right;\">    col_21</th><th style=\"text-align: right;\">   col_22</th><th style=\"text-align: right;\">    col_23</th><th style=\"text-align: right;\">    col_24</th><th style=\"text-align: right;\">     col_25</th><th style=\"text-align: right;\">   col_26</th><th style=\"text-align: right;\">   col_27</th><th style=\"text-align: right;\">    col_28</th><th style=\"text-align: right;\">   col_29</th><th style=\"text-align: right;\">    col_30</th><th style=\"text-align: right;\">   col_31</th><th style=\"text-align: right;\">     col_32</th><th style=\"text-align: right;\">     col_33</th><th style=\"text-align: right;\">    col_34</th><th style=\"text-align: right;\">    col_35</th><th style=\"text-align: right;\">   col_36</th><th style=\"text-align: right;\">   col_37</th><th style=\"text-align: right;\">    col_38</th><th style=\"text-align: right;\">    col_39</th><th style=\"text-align: right;\">     col_40</th><th style=\"text-align: right;\">    col_41</th><th style=\"text-align: right;\">    col_42</th><th style=\"text-align: right;\">   col_43</th><th style=\"text-align: right;\">    col_44</th><th style=\"text-align: right;\">    col_45</th><th style=\"text-align: right;\">   col_46</th><th style=\"text-align: right;\">    col_47</th><th style=\"text-align: right;\">    col_48</th><th style=\"text-align: right;\">    col_49</th><th style=\"text-align: right;\">    col_50</th><th style=\"text-align: right;\">    col_51</th><th style=\"text-align: right;\">   col_52</th><th style=\"text-align: right;\">    col_53</th><th style=\"text-align: right;\">   col_54</th><th style=\"text-align: right;\">   col_55</th><th style=\"text-align: right;\">    col_56</th><th style=\"text-align: right;\">    col_57</th><th style=\"text-align: right;\">    col_58</th><th style=\"text-align: right;\">    col_59</th><th style=\"text-align: right;\">   col_60</th><th style=\"text-align: right;\">   col_61</th><th style=\"text-align: right;\">    col_62</th><th style=\"text-align: right;\">    col_63</th><th style=\"text-align: right;\">    col_64</th><th style=\"text-align: right;\">    col_65</th><th style=\"text-align: right;\">   col_66</th><th style=\"text-align: right;\">   col_67</th><th style=\"text-align: right;\">   col_68</th><th style=\"text-align: right;\">   col_69</th><th style=\"text-align: right;\">    col_70</th><th style=\"text-align: right;\">   col_71</th><th style=\"text-align: right;\">   col_72</th><th style=\"text-align: right;\">   col_73</th><th style=\"text-align: right;\">   col_74</th><th style=\"text-align: right;\">    col_75</th><th style=\"text-align: right;\">    col_76</th><th style=\"text-align: right;\">    col_77</th><th style=\"text-align: right;\">   col_78</th><th style=\"text-align: right;\">   col_79</th><th style=\"text-align: right;\">   col_80</th><th style=\"text-align: right;\">    col_81</th><th style=\"text-align: right;\">    col_82</th><th style=\"text-align: right;\">    col_83</th><th style=\"text-align: right;\">   col_84</th><th style=\"text-align: right;\">    col_85</th><th style=\"text-align: right;\">   col_86</th><th style=\"text-align: right;\">    col_87</th><th style=\"text-align: right;\">    col_88</th><th style=\"text-align: right;\">   col_89</th><th style=\"text-align: right;\">    col_90</th><th style=\"text-align: right;\">    col_91</th><th style=\"text-align: right;\">    col_92</th><th style=\"text-align: right;\">   col_93</th><th style=\"text-align: right;\">    col_94</th><th style=\"text-align: right;\">   col_95</th><th style=\"text-align: right;\">    col_96</th><th style=\"text-align: right;\">     col_97</th><th style=\"text-align: right;\">   col_98</th><th style=\"text-align: right;\">   col_99</th><th style=\"text-align: right;\">    col_100</th><th style=\"text-align: right;\">  col_101</th><th style=\"text-align: right;\">  col_102</th><th style=\"text-align: right;\">  col_103</th><th style=\"text-align: right;\">  col_104</th><th style=\"text-align: right;\">   col_105</th><th style=\"text-align: right;\">    col_106</th><th style=\"text-align: right;\">  col_107</th><th style=\"text-align: right;\">   col_108</th><th style=\"text-align: right;\">   col_109</th><th style=\"text-align: right;\">   col_110</th><th style=\"text-align: right;\">   col_111</th><th style=\"text-align: right;\">   col_112</th><th style=\"text-align: right;\">   col_113</th><th style=\"text-align: right;\">   col_114</th><th style=\"text-align: right;\">   col_115</th><th style=\"text-align: right;\">    col_116</th><th style=\"text-align: right;\">   col_117</th><th style=\"text-align: right;\">  col_118</th><th style=\"text-align: right;\">  col_119</th><th style=\"text-align: right;\">   col_120</th><th style=\"text-align: right;\">    col_121</th><th style=\"text-align: right;\">   col_122</th><th style=\"text-align: right;\">  col_123</th><th style=\"text-align: right;\">  col_124</th><th style=\"text-align: right;\">  col_125</th><th style=\"text-align: right;\">  col_126</th><th style=\"text-align: right;\">  col_127</th><th style=\"text-align: right;\">  col_128</th><th style=\"text-align: right;\">   col_129</th><th style=\"text-align: right;\">   col_130</th><th style=\"text-align: right;\">  col_131</th><th style=\"text-align: right;\">   col_132</th><th style=\"text-align: right;\">  col_133</th><th style=\"text-align: right;\">   col_134</th><th style=\"text-align: right;\">   col_135</th><th style=\"text-align: right;\">  col_136</th><th style=\"text-align: right;\">  col_137</th><th style=\"text-align: right;\">   col_138</th><th style=\"text-align: right;\">   col_139</th><th style=\"text-align: right;\">  col_140</th><th style=\"text-align: right;\">   col_141</th><th style=\"text-align: right;\">   col_142</th><th style=\"text-align: right;\">  col_143</th><th style=\"text-align: right;\">  col_144</th><th style=\"text-align: right;\">  col_145</th><th style=\"text-align: right;\">   col_146</th><th style=\"text-align: right;\">   col_147</th><th style=\"text-align: right;\">  col_148</th><th style=\"text-align: right;\">   col_149</th><th style=\"text-align: right;\">  col_150</th><th style=\"text-align: right;\">   col_151</th><th style=\"text-align: right;\">   col_152</th><th style=\"text-align: right;\">  col_153</th><th style=\"text-align: right;\">   col_154</th><th style=\"text-align: right;\">  col_155</th><th style=\"text-align: right;\">  col_156</th><th style=\"text-align: right;\">  col_157</th><th style=\"text-align: right;\">   col_158</th><th style=\"text-align: right;\">  col_159</th><th style=\"text-align: right;\">  col_160</th><th style=\"text-align: right;\">  col_161</th><th style=\"text-align: right;\">  col_162</th><th style=\"text-align: right;\">    col_163</th><th style=\"text-align: right;\">   col_164</th><th style=\"text-align: right;\">  col_165</th><th style=\"text-align: right;\">   col_166</th><th style=\"text-align: right;\">  col_167</th><th style=\"text-align: right;\">   col_168</th><th style=\"text-align: right;\">  col_169</th><th style=\"text-align: right;\">  col_170</th><th style=\"text-align: right;\">   col_171</th><th style=\"text-align: right;\">  col_172</th><th style=\"text-align: right;\">   col_173</th><th style=\"text-align: right;\">  col_174</th><th style=\"text-align: right;\">   col_175</th><th style=\"text-align: right;\">  col_176</th><th style=\"text-align: right;\">  col_177</th><th style=\"text-align: right;\">  col_178</th><th style=\"text-align: right;\">  col_179</th><th style=\"text-align: right;\">   col_180</th><th style=\"text-align: right;\">   col_181</th><th style=\"text-align: right;\">  col_182</th><th style=\"text-align: right;\">  col_183</th><th style=\"text-align: right;\">  col_184</th><th style=\"text-align: right;\">  col_185</th><th style=\"text-align: right;\">  col_186</th><th style=\"text-align: right;\">   col_187</th><th style=\"text-align: right;\">  col_188</th><th style=\"text-align: right;\">   col_189</th><th style=\"text-align: right;\">  col_190</th><th style=\"text-align: right;\">  col_191</th><th style=\"text-align: right;\">   col_192</th><th style=\"text-align: right;\">  col_193</th><th style=\"text-align: right;\">  col_194</th><th style=\"text-align: right;\">   col_195</th><th style=\"text-align: right;\">  col_196</th><th style=\"text-align: right;\">   col_197</th><th style=\"text-align: right;\">   col_198</th><th style=\"text-align: right;\">   col_199</th><th style=\"text-align: right;\">  y</th></tr>\n",
       "</thead>\n",
       "<tbody>\n",
       "<tr><td style=\"text-align: right;\"> 0.416251</td><td style=\"text-align: right;\"> 0.187764 </td><td style=\"text-align: right;\"> 1.39273   </td><td style=\"text-align: right;\"> 0.302238  </td><td style=\"text-align: right;\">-0.0531831</td><td style=\"text-align: right;\">-1.59861  </td><td style=\"text-align: right;\"> 1.44132 </td><td style=\"text-align: right;\">-0.0335995</td><td style=\"text-align: right;\">-0.163162</td><td style=\"text-align: right;\"> 0.0164152</td><td style=\"text-align: right;\">-0.738478</td><td style=\"text-align: right;\">-1.84971 </td><td style=\"text-align: right;\"> 1.81947 </td><td style=\"text-align: right;\"> 0.0418063</td><td style=\"text-align: right;\">-1.35822  </td><td style=\"text-align: right;\"> 1.3109  </td><td style=\"text-align: right;\">-0.723951 </td><td style=\"text-align: right;\">-1.99558  </td><td style=\"text-align: right;\"> 0.293012</td><td style=\"text-align: right;\">-1.30577  </td><td style=\"text-align: right;\">-0.41234  </td><td style=\"text-align: right;\"> 0.68546  </td><td style=\"text-align: right;\"> 1.88746 </td><td style=\"text-align: right;\"> 1.77361  </td><td style=\"text-align: right;\">-0.351711 </td><td style=\"text-align: right;\">-1.05013   </td><td style=\"text-align: right;\"> 0.251686</td><td style=\"text-align: right;\">-1.42131 </td><td style=\"text-align: right;\">-1.2733   </td><td style=\"text-align: right;\"> 1.01172 </td><td style=\"text-align: right;\"> 0.26003  </td><td style=\"text-align: right;\"> 0.825121</td><td style=\"text-align: right;\">-0.108814  </td><td style=\"text-align: right;\"> 0.780638  </td><td style=\"text-align: right;\"> 0.637224 </td><td style=\"text-align: right;\">-0.9503   </td><td style=\"text-align: right;\"> 0.173089</td><td style=\"text-align: right;\"> 0.150942</td><td style=\"text-align: right;\">-0.0305828</td><td style=\"text-align: right;\"> 0.45466  </td><td style=\"text-align: right;\">-1.40532   </td><td style=\"text-align: right;\">-0.0967276</td><td style=\"text-align: right;\"> 0.0618317</td><td style=\"text-align: right;\"> 2.05136 </td><td style=\"text-align: right;\">-0.865441 </td><td style=\"text-align: right;\"> 0.610649 </td><td style=\"text-align: right;\">-0.418626</td><td style=\"text-align: right;\">-1.43112  </td><td style=\"text-align: right;\"> 1.49209  </td><td style=\"text-align: right;\">-0.161552 </td><td style=\"text-align: right;\">-1.24324  </td><td style=\"text-align: right;\"> 0.543092 </td><td style=\"text-align: right;\">-1.50118 </td><td style=\"text-align: right;\"> 1.22453  </td><td style=\"text-align: right;\"> 0.293119</td><td style=\"text-align: right;\"> 0.101657</td><td style=\"text-align: right;\"> 0.52998  </td><td style=\"text-align: right;\">-1.03241  </td><td style=\"text-align: right;\"> 0.185001 </td><td style=\"text-align: right;\">-1.01106  </td><td style=\"text-align: right;\">-0.162705</td><td style=\"text-align: right;\"> 0.485731</td><td style=\"text-align: right;\">-0.671475 </td><td style=\"text-align: right;\">-1.74282  </td><td style=\"text-align: right;\">  1.5715  </td><td style=\"text-align: right;\">-0.0718316</td><td style=\"text-align: right;\"> 0.637127</td><td style=\"text-align: right;\"> 0.45079 </td><td style=\"text-align: right;\">-0.410897</td><td style=\"text-align: right;\"> 0.297313</td><td style=\"text-align: right;\">-0.460079 </td><td style=\"text-align: right;\">-1.35733 </td><td style=\"text-align: right;\">-0.571346</td><td style=\"text-align: right;\"> 2.00468 </td><td style=\"text-align: right;\"> 1.55825 </td><td style=\"text-align: right;\"> 0.796877 </td><td style=\"text-align: right;\">-0.226563 </td><td style=\"text-align: right;\"> 0.643372 </td><td style=\"text-align: right;\">-4.9751  </td><td style=\"text-align: right;\"> 1.09305 </td><td style=\"text-align: right;\"> 0.147693</td><td style=\"text-align: right;\">-0.473244 </td><td style=\"text-align: right;\">-0.456848 </td><td style=\"text-align: right;\"> 1.88188  </td><td style=\"text-align: right;\">-0.224817</td><td style=\"text-align: right;\"> 0.959515 </td><td style=\"text-align: right;\"> 1.46294 </td><td style=\"text-align: right;\">-1.25663  </td><td style=\"text-align: right;\">-0.0998353</td><td style=\"text-align: right;\"> 0.624259</td><td style=\"text-align: right;\"> 0.0934701</td><td style=\"text-align: right;\">-0.823858 </td><td style=\"text-align: right;\"> 1.16898  </td><td style=\"text-align: right;\"> 1.3678  </td><td style=\"text-align: right;\">-0.496845 </td><td style=\"text-align: right;\">-0.800347</td><td style=\"text-align: right;\"> 0.244775 </td><td style=\"text-align: right;\"> 0.0165619 </td><td style=\"text-align: right;\"> 0.761913</td><td style=\"text-align: right;\">-1.00149 </td><td style=\"text-align: right;\"> 0.689013  </td><td style=\"text-align: right;\">-1.00227 </td><td style=\"text-align: right;\"> 1.17933 </td><td style=\"text-align: right;\"> 1.27233 </td><td style=\"text-align: right;\"> 1.8488  </td><td style=\"text-align: right;\">-0.756218 </td><td style=\"text-align: right;\"> 0.722778  </td><td style=\"text-align: right;\"> 1.11239 </td><td style=\"text-align: right;\">-0.0576231</td><td style=\"text-align: right;\">-0.296038 </td><td style=\"text-align: right;\"> 0.879889 </td><td style=\"text-align: right;\">-1.56128  </td><td style=\"text-align: right;\"> 1.26778  </td><td style=\"text-align: right;\">-1.2823   </td><td style=\"text-align: right;\">-0.873289 </td><td style=\"text-align: right;\"> 2.08332  </td><td style=\"text-align: right;\">-0.456981  </td><td style=\"text-align: right;\">-0.0327925</td><td style=\"text-align: right;\">-0.632079</td><td style=\"text-align: right;\">-0.247328</td><td style=\"text-align: right;\"> 0.0421456</td><td style=\"text-align: right;\"> 0.675244  </td><td style=\"text-align: right;\"> 0.469047 </td><td style=\"text-align: right;\">-0.379155</td><td style=\"text-align: right;\"> 0.69398 </td><td style=\"text-align: right;\">-0.102418</td><td style=\"text-align: right;\">-0.804938</td><td style=\"text-align: right;\">-0.654579</td><td style=\"text-align: right;\">-2.37742 </td><td style=\"text-align: right;\">-0.338895 </td><td style=\"text-align: right;\"> 0.144955 </td><td style=\"text-align: right;\">-0.618801</td><td style=\"text-align: right;\"> 0.39345  </td><td style=\"text-align: right;\">-0.230672</td><td style=\"text-align: right;\">-1.8356   </td><td style=\"text-align: right;\"> 0.0728309</td><td style=\"text-align: right;\">-1.28117 </td><td style=\"text-align: right;\">  1.75176</td><td style=\"text-align: right;\"> 0.474793 </td><td style=\"text-align: right;\">-2.30184  </td><td style=\"text-align: right;\">-1.5324  </td><td style=\"text-align: right;\"> 0.26262  </td><td style=\"text-align: right;\">-0.0993723</td><td style=\"text-align: right;\">-0.12701 </td><td style=\"text-align: right;\">-2.93816 </td><td style=\"text-align: right;\"> 0.235647</td><td style=\"text-align: right;\">-0.803401 </td><td style=\"text-align: right;\">-0.0218766</td><td style=\"text-align: right;\"> 1.83169 </td><td style=\"text-align: right;\"> 0.372421 </td><td style=\"text-align: right;\">-0.376905</td><td style=\"text-align: right;\">-0.973555 </td><td style=\"text-align: right;\">-0.54647  </td><td style=\"text-align: right;\"> 0.475447</td><td style=\"text-align: right;\"> 0.520637 </td><td style=\"text-align: right;\">-0.06481 </td><td style=\"text-align: right;\"> 0.132856</td><td style=\"text-align: right;\">-0.68471 </td><td style=\"text-align: right;\"> 1.62183  </td><td style=\"text-align: right;\">-0.93621 </td><td style=\"text-align: right;\"> 2.25076 </td><td style=\"text-align: right;\"> 0.324182</td><td style=\"text-align: right;\">-3.08533 </td><td style=\"text-align: right;\"> 0.767323  </td><td style=\"text-align: right;\">-0.125211 </td><td style=\"text-align: right;\"> 0.339742</td><td style=\"text-align: right;\"> 0.0457274</td><td style=\"text-align: right;\"> 0.380506</td><td style=\"text-align: right;\">-0.546514 </td><td style=\"text-align: right;\">-0.434207</td><td style=\"text-align: right;\"> 0.763424</td><td style=\"text-align: right;\">-1.07725  </td><td style=\"text-align: right;\">-0.176497</td><td style=\"text-align: right;\">-0.414853 </td><td style=\"text-align: right;\">-1.21893 </td><td style=\"text-align: right;\">-0.110836 </td><td style=\"text-align: right;\"> 1.15252 </td><td style=\"text-align: right;\"> 3.4912  </td><td style=\"text-align: right;\">-0.389255</td><td style=\"text-align: right;\"> 0.752048</td><td style=\"text-align: right;\"> 0.176269 </td><td style=\"text-align: right;\"> 0.646345 </td><td style=\"text-align: right;\"> 0.860553</td><td style=\"text-align: right;\">-0.435836</td><td style=\"text-align: right;\"> 0.123867</td><td style=\"text-align: right;\"> 0.679564</td><td style=\"text-align: right;\"> 0.559306</td><td style=\"text-align: right;\"> 0.192639 </td><td style=\"text-align: right;\"> 0.611412</td><td style=\"text-align: right;\">-1.0137   </td><td style=\"text-align: right;\"> 2.66367 </td><td style=\"text-align: right;\">-1.12925 </td><td style=\"text-align: right;\">-1.87481  </td><td style=\"text-align: right;\">-0.599429</td><td style=\"text-align: right;\"> 1.41614 </td><td style=\"text-align: right;\">-0.176389 </td><td style=\"text-align: right;\">-0.431767</td><td style=\"text-align: right;\"> 1.3005   </td><td style=\"text-align: right;\"> 1.53108  </td><td style=\"text-align: right;\">-0.880436 </td><td style=\"text-align: right;\">  0</td></tr>\n",
       "<tr><td style=\"text-align: right;\">-0.890983</td><td style=\"text-align: right;\">-0.794026 </td><td style=\"text-align: right;\"> 0.251547  </td><td style=\"text-align: right;\"> 0.0100257 </td><td style=\"text-align: right;\">-3.30286  </td><td style=\"text-align: right;\">-0.634802 </td><td style=\"text-align: right;\">-0.650848</td><td style=\"text-align: right;\">-0.247151 </td><td style=\"text-align: right;\">-0.455664</td><td style=\"text-align: right;\"> 1.0749   </td><td style=\"text-align: right;\">-0.800816</td><td style=\"text-align: right;\">-0.310957</td><td style=\"text-align: right;\">-5.37735 </td><td style=\"text-align: right;\">-1.01944  </td><td style=\"text-align: right;\">-0.246994 </td><td style=\"text-align: right;\">-5.93199 </td><td style=\"text-align: right;\">-0.349498 </td><td style=\"text-align: right;\">-0.820743 </td><td style=\"text-align: right;\">-6.14741 </td><td style=\"text-align: right;\">-0.020613 </td><td style=\"text-align: right;\"> 0.93899  </td><td style=\"text-align: right;\"> 4.74535  </td><td style=\"text-align: right;\">10.7213  </td><td style=\"text-align: right;\">-2.00214  </td><td style=\"text-align: right;\"> 1.24333  </td><td style=\"text-align: right;\"> 1.0428    </td><td style=\"text-align: right;\"> 0.25924 </td><td style=\"text-align: right;\">-1.53242 </td><td style=\"text-align: right;\">-1.16892  </td><td style=\"text-align: right;\"> 1.02192 </td><td style=\"text-align: right;\">-0.0885617</td><td style=\"text-align: right;\"> 0.704052</td><td style=\"text-align: right;\"> 1.38288   </td><td style=\"text-align: right;\">-1.0932    </td><td style=\"text-align: right;\">-0.450838 </td><td style=\"text-align: right;\"> 0.386544 </td><td style=\"text-align: right;\">-1.28155 </td><td style=\"text-align: right;\">-0.747141</td><td style=\"text-align: right;\">-1.76145  </td><td style=\"text-align: right;\">-0.762084 </td><td style=\"text-align: right;\">-0.882164  </td><td style=\"text-align: right;\">-0.0345333</td><td style=\"text-align: right;\">-1.41859  </td><td style=\"text-align: right;\">-2.55517 </td><td style=\"text-align: right;\">-0.0748364</td><td style=\"text-align: right;\"> 3.50997  </td><td style=\"text-align: right;\">-1.17616 </td><td style=\"text-align: right;\"> 0.108852 </td><td style=\"text-align: right;\"> 0.992169 </td><td style=\"text-align: right;\">-0.503793 </td><td style=\"text-align: right;\">-0.717657 </td><td style=\"text-align: right;\"> 0.105137 </td><td style=\"text-align: right;\">-0.449123</td><td style=\"text-align: right;\">-0.573706 </td><td style=\"text-align: right;\">-0.42745 </td><td style=\"text-align: right;\"> 0.637566</td><td style=\"text-align: right;\">-1.6538   </td><td style=\"text-align: right;\">-0.239487 </td><td style=\"text-align: right;\">-0.306202 </td><td style=\"text-align: right;\">-1.06277  </td><td style=\"text-align: right;\">-0.991776</td><td style=\"text-align: right;\"> 0.215169</td><td style=\"text-align: right;\"> 0.404328 </td><td style=\"text-align: right;\"> 1.14434  </td><td style=\"text-align: right;\"> 12.9281  </td><td style=\"text-align: right;\"> 1.23785  </td><td style=\"text-align: right;\">-0.154762</td><td style=\"text-align: right;\">-0.241385</td><td style=\"text-align: right;\">-1.31052 </td><td style=\"text-align: right;\">-0.540513</td><td style=\"text-align: right;\"> 0.959618 </td><td style=\"text-align: right;\"> 0.138273</td><td style=\"text-align: right;\">-0.185039</td><td style=\"text-align: right;\">-2.1032  </td><td style=\"text-align: right;\">-1.71324 </td><td style=\"text-align: right;\"> 0.218922 </td><td style=\"text-align: right;\">-1.37983  </td><td style=\"text-align: right;\"> 0.0696685</td><td style=\"text-align: right;\">-0.326114</td><td style=\"text-align: right;\">-1.19886 </td><td style=\"text-align: right;\"> 1.65454 </td><td style=\"text-align: right;\"> 0.684415 </td><td style=\"text-align: right;\">-1.75722  </td><td style=\"text-align: right;\"> 0.492471 </td><td style=\"text-align: right;\"> 0.544125</td><td style=\"text-align: right;\">-0.261947 </td><td style=\"text-align: right;\"> 2.56742 </td><td style=\"text-align: right;\"> 1.81939  </td><td style=\"text-align: right;\"> 0.765224 </td><td style=\"text-align: right;\">-0.151127</td><td style=\"text-align: right;\"> 2.5685   </td><td style=\"text-align: right;\"> 0.116298 </td><td style=\"text-align: right;\"> 2.01395  </td><td style=\"text-align: right;\"> 1.04093 </td><td style=\"text-align: right;\">-2.34107  </td><td style=\"text-align: right;\">-0.608987</td><td style=\"text-align: right;\"> 0.207218 </td><td style=\"text-align: right;\">-0.340563  </td><td style=\"text-align: right;\">-0.880539</td><td style=\"text-align: right;\"> 0.988015</td><td style=\"text-align: right;\">-0.0940803 </td><td style=\"text-align: right;\"> 0.811825</td><td style=\"text-align: right;\"> 2.02602 </td><td style=\"text-align: right;\">-1.22685 </td><td style=\"text-align: right;\"> 0.672698</td><td style=\"text-align: right;\">-0.398732 </td><td style=\"text-align: right;\">-0.00428184</td><td style=\"text-align: right;\">-0.418833</td><td style=\"text-align: right;\">-1.56582  </td><td style=\"text-align: right;\"> 1.17181  </td><td style=\"text-align: right;\">-0.86129  </td><td style=\"text-align: right;\"> 0.307728 </td><td style=\"text-align: right;\">-0.446609 </td><td style=\"text-align: right;\"> 0.611001 </td><td style=\"text-align: right;\">-0.113118 </td><td style=\"text-align: right;\"> 0.0855535</td><td style=\"text-align: right;\">-1.24806   </td><td style=\"text-align: right;\"> 0.0356295</td><td style=\"text-align: right;\">-0.46199 </td><td style=\"text-align: right;\">-0.980951</td><td style=\"text-align: right;\">-0.235362 </td><td style=\"text-align: right;\">-0.306172  </td><td style=\"text-align: right;\"> 1.40743  </td><td style=\"text-align: right;\">-1.3401  </td><td style=\"text-align: right;\">-0.920547</td><td style=\"text-align: right;\"> 1.13317 </td><td style=\"text-align: right;\">-1.40009 </td><td style=\"text-align: right;\"> 1.03069 </td><td style=\"text-align: right;\"> 0.405849</td><td style=\"text-align: right;\"> 0.43549  </td><td style=\"text-align: right;\">-0.0531901</td><td style=\"text-align: right;\">-0.284234</td><td style=\"text-align: right;\"> 0.61694  </td><td style=\"text-align: right;\"> 0.131532</td><td style=\"text-align: right;\"> 0.0936659</td><td style=\"text-align: right;\">-0.511323 </td><td style=\"text-align: right;\">-2.33846 </td><td style=\"text-align: right;\">  4.08442</td><td style=\"text-align: right;\"> 0.364783 </td><td style=\"text-align: right;\">-0.0950221</td><td style=\"text-align: right;\"> 1.90237 </td><td style=\"text-align: right;\"> 0.166073 </td><td style=\"text-align: right;\">-1.07708  </td><td style=\"text-align: right;\">-1.55701 </td><td style=\"text-align: right;\"> 0.247068</td><td style=\"text-align: right;\">-0.229147</td><td style=\"text-align: right;\">-1.72714  </td><td style=\"text-align: right;\">-1.44295  </td><td style=\"text-align: right;\"> 0.536371</td><td style=\"text-align: right;\"> 1.64113  </td><td style=\"text-align: right;\">-0.571615</td><td style=\"text-align: right;\">-1.26251  </td><td style=\"text-align: right;\"> 0.621105 </td><td style=\"text-align: right;\"> 0.176067</td><td style=\"text-align: right;\"> 1.42157  </td><td style=\"text-align: right;\">-0.70845 </td><td style=\"text-align: right;\">-0.69751 </td><td style=\"text-align: right;\"> 1.0448  </td><td style=\"text-align: right;\"> 0.941066 </td><td style=\"text-align: right;\"> 0.224018</td><td style=\"text-align: right;\">-0.249882</td><td style=\"text-align: right;\">-0.689008</td><td style=\"text-align: right;\">-5.898   </td><td style=\"text-align: right;\"> 1.41243   </td><td style=\"text-align: right;\">-1.24457  </td><td style=\"text-align: right;\"> 0.474781</td><td style=\"text-align: right;\">-0.107666 </td><td style=\"text-align: right;\">-1.25478 </td><td style=\"text-align: right;\"> 1.20406  </td><td style=\"text-align: right;\"> 0.112419</td><td style=\"text-align: right;\"> 0.783454</td><td style=\"text-align: right;\"> 1.24126  </td><td style=\"text-align: right;\">-1.01495 </td><td style=\"text-align: right;\">-0.892661 </td><td style=\"text-align: right;\">-0.990336</td><td style=\"text-align: right;\"> 0.507651 </td><td style=\"text-align: right;\"> 0.458917</td><td style=\"text-align: right;\"> 2.26636 </td><td style=\"text-align: right;\"> 1.27924 </td><td style=\"text-align: right;\"> 0.882686</td><td style=\"text-align: right;\"> 3.90892  </td><td style=\"text-align: right;\"> 0.34875  </td><td style=\"text-align: right;\">-0.36134 </td><td style=\"text-align: right;\"> 0.218401</td><td style=\"text-align: right;\"> 2.0253  </td><td style=\"text-align: right;\">-1.59231 </td><td style=\"text-align: right;\"> 0.802406</td><td style=\"text-align: right;\">-1.06041  </td><td style=\"text-align: right;\">-1.25511 </td><td style=\"text-align: right;\"> 0.296512 </td><td style=\"text-align: right;\">-0.448739</td><td style=\"text-align: right;\"> 1.03347 </td><td style=\"text-align: right;\">-0.146153 </td><td style=\"text-align: right;\">-1.41643 </td><td style=\"text-align: right;\">-1.75644 </td><td style=\"text-align: right;\">-0.383269 </td><td style=\"text-align: right;\">-0.387179</td><td style=\"text-align: right;\">-1.17808  </td><td style=\"text-align: right;\"> 0.731939 </td><td style=\"text-align: right;\">-0.79459  </td><td style=\"text-align: right;\">  0</td></tr>\n",
       "<tr><td style=\"text-align: right;\">-0.143477</td><td style=\"text-align: right;\">-0.216075 </td><td style=\"text-align: right;\"> 0.932037  </td><td style=\"text-align: right;\"> 0.671241  </td><td style=\"text-align: right;\"> 0.175003 </td><td style=\"text-align: right;\"> 0.640659 </td><td style=\"text-align: right;\">-1.13889 </td><td style=\"text-align: right;\">-1.39456  </td><td style=\"text-align: right;\">-1.13514 </td><td style=\"text-align: right;\"> 0.930762 </td><td style=\"text-align: right;\">-1.81107 </td><td style=\"text-align: right;\"> 2.48556 </td><td style=\"text-align: right;\"> 9.53588 </td><td style=\"text-align: right;\"> 1.68789  </td><td style=\"text-align: right;\">-0.0339481</td><td style=\"text-align: right;\">-1.58408 </td><td style=\"text-align: right;\">-0.364499 </td><td style=\"text-align: right;\"> 0.389249 </td><td style=\"text-align: right;\"> 1.04887 </td><td style=\"text-align: right;\">-1.53503  </td><td style=\"text-align: right;\"> 1.2662   </td><td style=\"text-align: right;\"> 0.930291 </td><td style=\"text-align: right;\"> 6.5215  </td><td style=\"text-align: right;\"> 5.45708  </td><td style=\"text-align: right;\"> 0.530382 </td><td style=\"text-align: right;\"> 0.441412  </td><td style=\"text-align: right;\">-0.409838</td><td style=\"text-align: right;\">-0.243556</td><td style=\"text-align: right;\">-0.0274553</td><td style=\"text-align: right;\">-1.31345 </td><td style=\"text-align: right;\"> 0.405785 </td><td style=\"text-align: right;\"> 0.483247</td><td style=\"text-align: right;\">-1.0973    </td><td style=\"text-align: right;\">-0.17828   </td><td style=\"text-align: right;\">-0.127376 </td><td style=\"text-align: right;\"> 0.0703099</td><td style=\"text-align: right;\">-0.31606 </td><td style=\"text-align: right;\"> 0.596014</td><td style=\"text-align: right;\"> 0.0875146</td><td style=\"text-align: right;\">-1.18583  </td><td style=\"text-align: right;\"> 1.57649   </td><td style=\"text-align: right;\">-0.717017 </td><td style=\"text-align: right;\"> 1.34438  </td><td style=\"text-align: right;\">-3.65791 </td><td style=\"text-align: right;\"> 0.912859 </td><td style=\"text-align: right;\"> 0.203088 </td><td style=\"text-align: right;\">-0.185015</td><td style=\"text-align: right;\">-0.451805 </td><td style=\"text-align: right;\"> 1.16305  </td><td style=\"text-align: right;\">-0.0734986</td><td style=\"text-align: right;\">-0.135468 </td><td style=\"text-align: right;\"> 1.25412  </td><td style=\"text-align: right;\">-0.759964</td><td style=\"text-align: right;\">-1.07691  </td><td style=\"text-align: right;\">-0.103506</td><td style=\"text-align: right;\"> 0.418248</td><td style=\"text-align: right;\">-0.220473 </td><td style=\"text-align: right;\"> 0.0950162</td><td style=\"text-align: right;\">-2.08399  </td><td style=\"text-align: right;\"> 0.267802 </td><td style=\"text-align: right;\"> 0.233443</td><td style=\"text-align: right;\"> 0.983611</td><td style=\"text-align: right;\"> 1.14038  </td><td style=\"text-align: right;\">-0.587172 </td><td style=\"text-align: right;\"> -6.70176 </td><td style=\"text-align: right;\"> 0.36877  </td><td style=\"text-align: right;\"> 1.4607  </td><td style=\"text-align: right;\"> 0.533833</td><td style=\"text-align: right;\"> 0.341732</td><td style=\"text-align: right;\">-0.455914</td><td style=\"text-align: right;\"> 0.533126 </td><td style=\"text-align: right;\">-0.76314 </td><td style=\"text-align: right;\">-0.766669</td><td style=\"text-align: right;\"> 0.416835</td><td style=\"text-align: right;\"> 0.947095</td><td style=\"text-align: right;\"> 1.50085  </td><td style=\"text-align: right;\">-0.729191 </td><td style=\"text-align: right;\">-0.320073 </td><td style=\"text-align: right;\">-3.0303  </td><td style=\"text-align: right;\"> 0.994077</td><td style=\"text-align: right;\"> 0.843197</td><td style=\"text-align: right;\"> 0.0124352</td><td style=\"text-align: right;\"> 0.353806 </td><td style=\"text-align: right;\"> 0.541337 </td><td style=\"text-align: right;\"> 0.18297 </td><td style=\"text-align: right;\"> 1.68609  </td><td style=\"text-align: right;\">-0.812874</td><td style=\"text-align: right;\"> 0.731494 </td><td style=\"text-align: right;\">-1.34795  </td><td style=\"text-align: right;\">-0.357512</td><td style=\"text-align: right;\">-0.205639 </td><td style=\"text-align: right;\"> 1.14162  </td><td style=\"text-align: right;\">-0.710617 </td><td style=\"text-align: right;\"> 1.13949 </td><td style=\"text-align: right;\"> 0.709822 </td><td style=\"text-align: right;\"> 0.376173</td><td style=\"text-align: right;\">-0.917218 </td><td style=\"text-align: right;\"> 0.3037    </td><td style=\"text-align: right;\">-2.48149 </td><td style=\"text-align: right;\">-1.10532 </td><td style=\"text-align: right;\"> 0.0408302 </td><td style=\"text-align: right;\"> 1.22875 </td><td style=\"text-align: right;\"> 0.577151</td><td style=\"text-align: right;\">-0.228394</td><td style=\"text-align: right;\"> 0.916516</td><td style=\"text-align: right;\"> 0.267344 </td><td style=\"text-align: right;\">-0.353235  </td><td style=\"text-align: right;\">-1.42074 </td><td style=\"text-align: right;\"> 0.245599 </td><td style=\"text-align: right;\">-0.0355027</td><td style=\"text-align: right;\"> 1.32964  </td><td style=\"text-align: right;\">-1.6287   </td><td style=\"text-align: right;\"> 0.109786 </td><td style=\"text-align: right;\">-0.422948 </td><td style=\"text-align: right;\">-2.18771  </td><td style=\"text-align: right;\"> 0.88425  </td><td style=\"text-align: right;\"> 0.157573  </td><td style=\"text-align: right;\"> 0.166151 </td><td style=\"text-align: right;\">-0.248344</td><td style=\"text-align: right;\"> 0.803232</td><td style=\"text-align: right;\">-0.0857473</td><td style=\"text-align: right;\"> 0.00170841</td><td style=\"text-align: right;\"> 0.753459 </td><td style=\"text-align: right;\"> 1.13141 </td><td style=\"text-align: right;\">-1.24096 </td><td style=\"text-align: right;\"> 0.300547</td><td style=\"text-align: right;\">-0.359916</td><td style=\"text-align: right;\"> 1.10264 </td><td style=\"text-align: right;\"> 1.19176 </td><td style=\"text-align: right;\"> 0.172213 </td><td style=\"text-align: right;\"> 1.12251  </td><td style=\"text-align: right;\">-1.81587 </td><td style=\"text-align: right;\">-0.896185 </td><td style=\"text-align: right;\">-0.978834</td><td style=\"text-align: right;\"> 1.51192  </td><td style=\"text-align: right;\">-0.439726 </td><td style=\"text-align: right;\"> 0.154517</td><td style=\"text-align: right;\">  2.72083</td><td style=\"text-align: right;\"> 0.367982 </td><td style=\"text-align: right;\"> 0.021472 </td><td style=\"text-align: right;\"> 0.392867</td><td style=\"text-align: right;\"> 0.189801 </td><td style=\"text-align: right;\"> 0.109144 </td><td style=\"text-align: right;\"> 1.01999 </td><td style=\"text-align: right;\">-2.64547 </td><td style=\"text-align: right;\">-1.03768 </td><td style=\"text-align: right;\">-1.49501  </td><td style=\"text-align: right;\">-1.18227  </td><td style=\"text-align: right;\">-0.35085 </td><td style=\"text-align: right;\">-0.0259265</td><td style=\"text-align: right;\"> 0.908386</td><td style=\"text-align: right;\">-0.303205 </td><td style=\"text-align: right;\">-0.470886 </td><td style=\"text-align: right;\"> 1.74935 </td><td style=\"text-align: right;\"> 0.755841 </td><td style=\"text-align: right;\"> 2.10416 </td><td style=\"text-align: right;\"> 1.52376 </td><td style=\"text-align: right;\"> 0.482401</td><td style=\"text-align: right;\"> 0.227788 </td><td style=\"text-align: right;\"> 0.363529</td><td style=\"text-align: right;\"> 1.12522 </td><td style=\"text-align: right;\"> 0.369982</td><td style=\"text-align: right;\">-8.77077 </td><td style=\"text-align: right;\"> 0.796708  </td><td style=\"text-align: right;\"> 0.337374 </td><td style=\"text-align: right;\"> 0.451379</td><td style=\"text-align: right;\"> 0.654848 </td><td style=\"text-align: right;\">-1.73818 </td><td style=\"text-align: right;\">-1.43914  </td><td style=\"text-align: right;\"> 0.323988</td><td style=\"text-align: right;\">-1.64718 </td><td style=\"text-align: right;\">-0.799929 </td><td style=\"text-align: right;\">-0.221416</td><td style=\"text-align: right;\"> 0.0496297</td><td style=\"text-align: right;\">-0.401987</td><td style=\"text-align: right;\"> 1.00669  </td><td style=\"text-align: right;\"> 0.45953 </td><td style=\"text-align: right;\">-2.47943 </td><td style=\"text-align: right;\"> 1.81065 </td><td style=\"text-align: right;\"> 0.428286</td><td style=\"text-align: right;\"> 5.37231  </td><td style=\"text-align: right;\"> 0.725814 </td><td style=\"text-align: right;\">-0.74722 </td><td style=\"text-align: right;\"> 0.187351</td><td style=\"text-align: right;\"> 0.162197</td><td style=\"text-align: right;\"> 1.72641 </td><td style=\"text-align: right;\">-1.47926 </td><td style=\"text-align: right;\">-0.0394034</td><td style=\"text-align: right;\">-1.33478 </td><td style=\"text-align: right;\"> 0.429838 </td><td style=\"text-align: right;\">-5.24422 </td><td style=\"text-align: right;\">-0.687676</td><td style=\"text-align: right;\">-1.79707  </td><td style=\"text-align: right;\"> 0.217285</td><td style=\"text-align: right;\">-0.120996</td><td style=\"text-align: right;\"> 1.45194  </td><td style=\"text-align: right;\"> 0.709817</td><td style=\"text-align: right;\"> 0.0577757</td><td style=\"text-align: right;\">-0.506289 </td><td style=\"text-align: right;\"> 1.67296  </td><td style=\"text-align: right;\">  1</td></tr>\n",
       "<tr><td style=\"text-align: right;\">-1.13452 </td><td style=\"text-align: right;\">-0.0381742</td><td style=\"text-align: right;\">-1.33236   </td><td style=\"text-align: right;\"> 0.731847  </td><td style=\"text-align: right;\">-0.139031 </td><td style=\"text-align: right;\">-1.84096  </td><td style=\"text-align: right;\"> 0.951646</td><td style=\"text-align: right;\">-0.904985 </td><td style=\"text-align: right;\">-1.16806 </td><td style=\"text-align: right;\"> 0.217766 </td><td style=\"text-align: right;\">-0.343292</td><td style=\"text-align: right;\"> 2.94766 </td><td style=\"text-align: right;\"> 1.07159 </td><td style=\"text-align: right;\">-1.50804  </td><td style=\"text-align: right;\">-2.22665  </td><td style=\"text-align: right;\">-3.2513  </td><td style=\"text-align: right;\"> 1.09086  </td><td style=\"text-align: right;\">-0.0857243</td><td style=\"text-align: right;\"> 4.3178  </td><td style=\"text-align: right;\">-0.452378 </td><td style=\"text-align: right;\">-0.0688728</td><td style=\"text-align: right;\"> 0.0292571</td><td style=\"text-align: right;\"> 3.19895 </td><td style=\"text-align: right;\"> 0.0915789</td><td style=\"text-align: right;\"> 0.684377 </td><td style=\"text-align: right;\"> 0.228331  </td><td style=\"text-align: right;\">-1.60464 </td><td style=\"text-align: right;\">-0.885342</td><td style=\"text-align: right;\">-0.80783  </td><td style=\"text-align: right;\">-1.8441  </td><td style=\"text-align: right;\"> 0.271886 </td><td style=\"text-align: right;\">-1.33556 </td><td style=\"text-align: right;\">-1.66232   </td><td style=\"text-align: right;\"> 0.00173019</td><td style=\"text-align: right;\">-0.864342 </td><td style=\"text-align: right;\"> 0.373081 </td><td style=\"text-align: right;\"> 0.180354</td><td style=\"text-align: right;\"> 2.052   </td><td style=\"text-align: right;\">-0.923669 </td><td style=\"text-align: right;\">-0.471061 </td><td style=\"text-align: right;\">-0.00400154</td><td style=\"text-align: right;\"> 0.0270307</td><td style=\"text-align: right;\"> 0.503319 </td><td style=\"text-align: right;\">-0.685719</td><td style=\"text-align: right;\">-0.310619 </td><td style=\"text-align: right;\">-2.48944  </td><td style=\"text-align: right;\">-0.935659</td><td style=\"text-align: right;\">-0.755971 </td><td style=\"text-align: right;\">-0.0767602</td><td style=\"text-align: right;\">-0.279034 </td><td style=\"text-align: right;\"> 0.992403 </td><td style=\"text-align: right;\">-0.293135 </td><td style=\"text-align: right;\"> 1.00315 </td><td style=\"text-align: right;\"> 1.01659  </td><td style=\"text-align: right;\">-1.23619 </td><td style=\"text-align: right;\">-0.204214</td><td style=\"text-align: right;\"> 1.5722   </td><td style=\"text-align: right;\">-0.0176192</td><td style=\"text-align: right;\"> 0.829002 </td><td style=\"text-align: right;\"> 1.53768  </td><td style=\"text-align: right;\">-1.31224 </td><td style=\"text-align: right;\"> 0.778625</td><td style=\"text-align: right;\"> 1.55455  </td><td style=\"text-align: right;\"> 1.07663  </td><td style=\"text-align: right;\">-14.5051  </td><td style=\"text-align: right;\"> 0.181603 </td><td style=\"text-align: right;\">-0.880111</td><td style=\"text-align: right;\"> 0.534737</td><td style=\"text-align: right;\"> 0.364296</td><td style=\"text-align: right;\"> 0.607158</td><td style=\"text-align: right;\">-0.115429 </td><td style=\"text-align: right;\">-1.55801 </td><td style=\"text-align: right;\"> 0.892347</td><td style=\"text-align: right;\"> 0.580733</td><td style=\"text-align: right;\">-0.468488</td><td style=\"text-align: right;\"> 0.0493389</td><td style=\"text-align: right;\"> 0.333114 </td><td style=\"text-align: right;\"> 0.358362 </td><td style=\"text-align: right;\"> 1.34077 </td><td style=\"text-align: right;\"> 0.115843</td><td style=\"text-align: right;\"> 0.634408</td><td style=\"text-align: right;\">-0.475796 </td><td style=\"text-align: right;\">-0.029315 </td><td style=\"text-align: right;\"> 0.642679 </td><td style=\"text-align: right;\"> 1.11883 </td><td style=\"text-align: right;\"> 1.36268  </td><td style=\"text-align: right;\">-4.0212  </td><td style=\"text-align: right;\">-0.219128 </td><td style=\"text-align: right;\">-1.87796  </td><td style=\"text-align: right;\">-1.39884 </td><td style=\"text-align: right;\"> 0.78905  </td><td style=\"text-align: right;\"> 1.27701  </td><td style=\"text-align: right;\"> 2.17677  </td><td style=\"text-align: right;\"> 0.252622</td><td style=\"text-align: right;\">-0.440443 </td><td style=\"text-align: right;\">-0.703041</td><td style=\"text-align: right;\"> 1.36992  </td><td style=\"text-align: right;\">-0.649837  </td><td style=\"text-align: right;\">-0.151694</td><td style=\"text-align: right;\"> 3.43552 </td><td style=\"text-align: right;\"> 0.607937  </td><td style=\"text-align: right;\"> 1.34624 </td><td style=\"text-align: right;\">-0.635266</td><td style=\"text-align: right;\"> 0.739273</td><td style=\"text-align: right;\"> 0.489237</td><td style=\"text-align: right;\">-1.00048  </td><td style=\"text-align: right;\"> 0.166823  </td><td style=\"text-align: right;\">-0.691869</td><td style=\"text-align: right;\">-0.164536 </td><td style=\"text-align: right;\">-0.927552 </td><td style=\"text-align: right;\">-1.45005  </td><td style=\"text-align: right;\"> 1.09578  </td><td style=\"text-align: right;\"> 0.275847 </td><td style=\"text-align: right;\"> 1.48725  </td><td style=\"text-align: right;\">-0.175455 </td><td style=\"text-align: right;\"> 1.62918  </td><td style=\"text-align: right;\">-0.202514  </td><td style=\"text-align: right;\"> 1.09969  </td><td style=\"text-align: right;\">-0.736114</td><td style=\"text-align: right;\"> 0.180631</td><td style=\"text-align: right;\"> 0.898625 </td><td style=\"text-align: right;\"> 1.2504    </td><td style=\"text-align: right;\"> 0.0252479</td><td style=\"text-align: right;\"> 1.50121 </td><td style=\"text-align: right;\">-0.570854</td><td style=\"text-align: right;\"> 0.644536</td><td style=\"text-align: right;\">-0.934363</td><td style=\"text-align: right;\"> 0.763076</td><td style=\"text-align: right;\">-1.97097 </td><td style=\"text-align: right;\">-0.0183922</td><td style=\"text-align: right;\"> 0.193968 </td><td style=\"text-align: right;\">-0.55912 </td><td style=\"text-align: right;\">-1.58408  </td><td style=\"text-align: right;\">-3.50841 </td><td style=\"text-align: right;\">-0.261758 </td><td style=\"text-align: right;\">-1.09463  </td><td style=\"text-align: right;\"> 0.908598</td><td style=\"text-align: right;\"> -4.25196</td><td style=\"text-align: right;\"> 0.0406552</td><td style=\"text-align: right;\">-0.409641 </td><td style=\"text-align: right;\"> 0.21084 </td><td style=\"text-align: right;\">-0.281872 </td><td style=\"text-align: right;\"> 0.111997 </td><td style=\"text-align: right;\">-0.338033</td><td style=\"text-align: right;\">-0.527182</td><td style=\"text-align: right;\"> 0.976301</td><td style=\"text-align: right;\"> 0.0821813</td><td style=\"text-align: right;\"> 1.04913  </td><td style=\"text-align: right;\"> 1.00771 </td><td style=\"text-align: right;\">-0.667455 </td><td style=\"text-align: right;\"> 0.412009</td><td style=\"text-align: right;\"> 1.2383   </td><td style=\"text-align: right;\">-1.46666  </td><td style=\"text-align: right;\">-1.20455 </td><td style=\"text-align: right;\">-0.725698 </td><td style=\"text-align: right;\">-0.880059</td><td style=\"text-align: right;\"> 1.57264 </td><td style=\"text-align: right;\"> 1.09552 </td><td style=\"text-align: right;\">-0.34977  </td><td style=\"text-align: right;\">-0.498596</td><td style=\"text-align: right;\"> 0.50519 </td><td style=\"text-align: right;\">-0.495001</td><td style=\"text-align: right;\">-6.16924 </td><td style=\"text-align: right;\">-0.215169  </td><td style=\"text-align: right;\">-2.30335  </td><td style=\"text-align: right;\">-1.61097 </td><td style=\"text-align: right;\"> 0.0656626</td><td style=\"text-align: right;\"> 2.26483 </td><td style=\"text-align: right;\"> 0.546878 </td><td style=\"text-align: right;\">-1.86137 </td><td style=\"text-align: right;\">-1.21044 </td><td style=\"text-align: right;\"> 0.428965 </td><td style=\"text-align: right;\"> 0.416603</td><td style=\"text-align: right;\"> 0.0440779</td><td style=\"text-align: right;\"> 0.946869</td><td style=\"text-align: right;\"> 1.16778  </td><td style=\"text-align: right;\">-1.4458  </td><td style=\"text-align: right;\">-1.21117 </td><td style=\"text-align: right;\"> 1.90054 </td><td style=\"text-align: right;\"> 1.86148 </td><td style=\"text-align: right;\"> 2.70664  </td><td style=\"text-align: right;\">-0.574972 </td><td style=\"text-align: right;\"> 0.77319 </td><td style=\"text-align: right;\">-1.09026 </td><td style=\"text-align: right;\"> 1.44972 </td><td style=\"text-align: right;\">-0.202129</td><td style=\"text-align: right;\"> 0.464963</td><td style=\"text-align: right;\">-0.0545629</td><td style=\"text-align: right;\">-0.578846</td><td style=\"text-align: right;\"> 0.523372 </td><td style=\"text-align: right;\">-0.523081</td><td style=\"text-align: right;\">-0.798943</td><td style=\"text-align: right;\"> 0.713069 </td><td style=\"text-align: right;\">-0.535899</td><td style=\"text-align: right;\">-0.256444</td><td style=\"text-align: right;\">-0.0847016</td><td style=\"text-align: right;\"> 0.257521</td><td style=\"text-align: right;\"> 0.686006 </td><td style=\"text-align: right;\">-0.908159 </td><td style=\"text-align: right;\">-1.13117  </td><td style=\"text-align: right;\">  1</td></tr>\n",
       "<tr><td style=\"text-align: right;\"> 2.14283 </td><td style=\"text-align: right;\"> 2.21435  </td><td style=\"text-align: right;\">-0.322788  </td><td style=\"text-align: right;\">-0.811791  </td><td style=\"text-align: right;\">-0.418127 </td><td style=\"text-align: right;\"> 0.203688 </td><td style=\"text-align: right;\">-0.219648</td><td style=\"text-align: right;\"> 0.0500743</td><td style=\"text-align: right;\"> 0.416546</td><td style=\"text-align: right;\">-0.482434 </td><td style=\"text-align: right;\">-0.742983</td><td style=\"text-align: right;\"> 1.64384 </td><td style=\"text-align: right;\">-1.65236 </td><td style=\"text-align: right;\"> 0.0314957</td><td style=\"text-align: right;\"> 0.451432 </td><td style=\"text-align: right;\"> 2.22825 </td><td style=\"text-align: right;\">-0.0687358</td><td style=\"text-align: right;\">-0.249949 </td><td style=\"text-align: right;\"> 2.00469 </td><td style=\"text-align: right;\"> 0.451366 </td><td style=\"text-align: right;\"> 0.163005 </td><td style=\"text-align: right;\"> 0.538903 </td><td style=\"text-align: right;\"> 1.03847 </td><td style=\"text-align: right;\"> 2.01238  </td><td style=\"text-align: right;\"> 0.274876 </td><td style=\"text-align: right;\"> 0.915532  </td><td style=\"text-align: right;\"> 0.660979</td><td style=\"text-align: right;\">-0.156707</td><td style=\"text-align: right;\"> 0.681377 </td><td style=\"text-align: right;\"> 0.252153</td><td style=\"text-align: right;\"> 0.431196 </td><td style=\"text-align: right;\">-0.621576</td><td style=\"text-align: right;\"> 0.552495  </td><td style=\"text-align: right;\"> 0.399504  </td><td style=\"text-align: right;\">-0.214584 </td><td style=\"text-align: right;\">-0.448266 </td><td style=\"text-align: right;\"> 0.473626</td><td style=\"text-align: right;\"> 0.597645</td><td style=\"text-align: right;\"> 0.939738 </td><td style=\"text-align: right;\">-1.60577  </td><td style=\"text-align: right;\"> 0.88021   </td><td style=\"text-align: right;\">-1.11438  </td><td style=\"text-align: right;\">-0.712171 </td><td style=\"text-align: right;\"> 2.0359  </td><td style=\"text-align: right;\"> 0.674118 </td><td style=\"text-align: right;\"> 1.45678  </td><td style=\"text-align: right;\"> 0.329868</td><td style=\"text-align: right;\">-0.252126 </td><td style=\"text-align: right;\">-1.68346  </td><td style=\"text-align: right;\"> 1.50016  </td><td style=\"text-align: right;\">-0.0839347</td><td style=\"text-align: right;\">-0.36384  </td><td style=\"text-align: right;\"> 1.70579 </td><td style=\"text-align: right;\"> 0.0557836</td><td style=\"text-align: right;\">-0.445137</td><td style=\"text-align: right;\"> 1.0373  </td><td style=\"text-align: right;\"> 0.85453  </td><td style=\"text-align: right;\">-0.604388 </td><td style=\"text-align: right;\">-1.74754  </td><td style=\"text-align: right;\"> 0.653369 </td><td style=\"text-align: right;\">-2.42945 </td><td style=\"text-align: right;\"> 1.47936 </td><td style=\"text-align: right;\">-0.870846 </td><td style=\"text-align: right;\">-0.595763 </td><td style=\"text-align: right;\"> -3.08088 </td><td style=\"text-align: right;\">-0.842631 </td><td style=\"text-align: right;\"> 0.846937</td><td style=\"text-align: right;\">-0.59914 </td><td style=\"text-align: right;\"> 1.61126 </td><td style=\"text-align: right;\"> 0.29214 </td><td style=\"text-align: right;\"> 1.44645  </td><td style=\"text-align: right;\">-1.74477 </td><td style=\"text-align: right;\">-1.11826 </td><td style=\"text-align: right;\">-2.59649 </td><td style=\"text-align: right;\">-2.41017 </td><td style=\"text-align: right;\">-0.109211 </td><td style=\"text-align: right;\">-0.0235717</td><td style=\"text-align: right;\"> 0.657686 </td><td style=\"text-align: right;\">-2.64917 </td><td style=\"text-align: right;\"> 0.107899</td><td style=\"text-align: right;\"> 0.750288</td><td style=\"text-align: right;\"> 0.269898 </td><td style=\"text-align: right;\">-1.89388  </td><td style=\"text-align: right;\"> 0.98801  </td><td style=\"text-align: right;\">-0.470546</td><td style=\"text-align: right;\">-0.949199 </td><td style=\"text-align: right;\">-0.157553</td><td style=\"text-align: right;\"> 2.6721   </td><td style=\"text-align: right;\"> 0.508805 </td><td style=\"text-align: right;\"> 0.651881</td><td style=\"text-align: right;\">-0.535662 </td><td style=\"text-align: right;\">-0.0675395</td><td style=\"text-align: right;\">-1.97592  </td><td style=\"text-align: right;\"> 0.396641</td><td style=\"text-align: right;\"> 1.24182  </td><td style=\"text-align: right;\"> 0.817199</td><td style=\"text-align: right;\">-0.889257 </td><td style=\"text-align: right;\"> 0.886276  </td><td style=\"text-align: right;\"> 0.241026</td><td style=\"text-align: right;\"> 1.66294 </td><td style=\"text-align: right;\"> 1.8463    </td><td style=\"text-align: right;\"> 0.35833 </td><td style=\"text-align: right;\">-1.08581 </td><td style=\"text-align: right;\"> 0.782197</td><td style=\"text-align: right;\">-0.697111</td><td style=\"text-align: right;\"> 0.54357  </td><td style=\"text-align: right;\">-1.55294   </td><td style=\"text-align: right;\"> 0.498697</td><td style=\"text-align: right;\"> 0.81598  </td><td style=\"text-align: right;\">-0.696951 </td><td style=\"text-align: right;\">-0.337045 </td><td style=\"text-align: right;\">-0.0762905</td><td style=\"text-align: right;\">-0.234868 </td><td style=\"text-align: right;\"> 1.41029  </td><td style=\"text-align: right;\">-0.133779 </td><td style=\"text-align: right;\">-0.514588 </td><td style=\"text-align: right;\"> 0.197063  </td><td style=\"text-align: right;\">-1.68788  </td><td style=\"text-align: right;\"> 0.909047</td><td style=\"text-align: right;\">-1.35466 </td><td style=\"text-align: right;\">-0.504843 </td><td style=\"text-align: right;\">-1.26041   </td><td style=\"text-align: right;\">-1.33976  </td><td style=\"text-align: right;\"> 0.213512</td><td style=\"text-align: right;\">-1.03594 </td><td style=\"text-align: right;\">-0.231275</td><td style=\"text-align: right;\"> 1.06743 </td><td style=\"text-align: right;\">-0.278913</td><td style=\"text-align: right;\"> 0.263758</td><td style=\"text-align: right;\"> 0.582197 </td><td style=\"text-align: right;\">-0.720971 </td><td style=\"text-align: right;\">-0.634074</td><td style=\"text-align: right;\"> 0.575001 </td><td style=\"text-align: right;\"> 2.34398 </td><td style=\"text-align: right;\"> 1.2659   </td><td style=\"text-align: right;\">-1.76243  </td><td style=\"text-align: right;\">-0.197259</td><td style=\"text-align: right;\"> -4.74862</td><td style=\"text-align: right;\">-0.0376112</td><td style=\"text-align: right;\"> 0.0824933</td><td style=\"text-align: right;\">-0.320944</td><td style=\"text-align: right;\">-0.547327 </td><td style=\"text-align: right;\"> 0.752323 </td><td style=\"text-align: right;\">-0.683011</td><td style=\"text-align: right;\">-0.766992</td><td style=\"text-align: right;\"> 0.565772</td><td style=\"text-align: right;\"> 0.0678164</td><td style=\"text-align: right;\">-2.37786  </td><td style=\"text-align: right;\"> 0.730139</td><td style=\"text-align: right;\">-0.767668 </td><td style=\"text-align: right;\"> 0.238678</td><td style=\"text-align: right;\"> 0.293694 </td><td style=\"text-align: right;\"> 1.49992  </td><td style=\"text-align: right;\">-1.18608 </td><td style=\"text-align: right;\"> 1.30725  </td><td style=\"text-align: right;\"> 0.046389</td><td style=\"text-align: right;\">-0.712834</td><td style=\"text-align: right;\">-0.759207</td><td style=\"text-align: right;\"> 1.30939  </td><td style=\"text-align: right;\">-1.06261 </td><td style=\"text-align: right;\"> 0.612469</td><td style=\"text-align: right;\"> 0.57972 </td><td style=\"text-align: right;\"> 2.4259  </td><td style=\"text-align: right;\"> 2.43518   </td><td style=\"text-align: right;\"> 0.0191145</td><td style=\"text-align: right;\">-0.24086 </td><td style=\"text-align: right;\"> 0.490233 </td><td style=\"text-align: right;\"> 0.5659  </td><td style=\"text-align: right;\">-1.26549  </td><td style=\"text-align: right;\">-1.00251 </td><td style=\"text-align: right;\">-0.702506</td><td style=\"text-align: right;\"> 0.0034949</td><td style=\"text-align: right;\">-1.06847 </td><td style=\"text-align: right;\"> 1.29775  </td><td style=\"text-align: right;\">-0.949075</td><td style=\"text-align: right;\">-1.04477  </td><td style=\"text-align: right;\"> 0.404558</td><td style=\"text-align: right;\"> 1.53996 </td><td style=\"text-align: right;\"> 0.709656</td><td style=\"text-align: right;\">-0.574676</td><td style=\"text-align: right;\">-3.92952  </td><td style=\"text-align: right;\">-0.0156613</td><td style=\"text-align: right;\">-1.22268 </td><td style=\"text-align: right;\">-1.04094 </td><td style=\"text-align: right;\"> 0.444311</td><td style=\"text-align: right;\">-0.535467</td><td style=\"text-align: right;\"> 1.79637 </td><td style=\"text-align: right;\"> 0.36592  </td><td style=\"text-align: right;\">-1.37225 </td><td style=\"text-align: right;\">-0.679511 </td><td style=\"text-align: right;\">-3.34629 </td><td style=\"text-align: right;\"> 1.39752 </td><td style=\"text-align: right;\"> 0.764536 </td><td style=\"text-align: right;\">-0.906014</td><td style=\"text-align: right;\">-0.433268</td><td style=\"text-align: right;\">-0.315009 </td><td style=\"text-align: right;\">-0.253783</td><td style=\"text-align: right;\"> 1.7023   </td><td style=\"text-align: right;\">-0.904033 </td><td style=\"text-align: right;\">-1.01603  </td><td style=\"text-align: right;\">  0</td></tr>\n",
       "<tr><td style=\"text-align: right;\">-0.450999</td><td style=\"text-align: right;\">-0.927597 </td><td style=\"text-align: right;\"> 0.676348  </td><td style=\"text-align: right;\"> 0.611672  </td><td style=\"text-align: right;\"> 0.665062 </td><td style=\"text-align: right;\"> 0.804389 </td><td style=\"text-align: right;\">-0.873328</td><td style=\"text-align: right;\"> 1.4738   </td><td style=\"text-align: right;\"> 0.998398</td><td style=\"text-align: right;\">-0.773448 </td><td style=\"text-align: right;\"> 0.227391</td><td style=\"text-align: right;\">-0.10763 </td><td style=\"text-align: right;\"> 3.69905 </td><td style=\"text-align: right;\">-0.770655 </td><td style=\"text-align: right;\"> 0.791619 </td><td style=\"text-align: right;\"> 0.487518</td><td style=\"text-align: right;\">-1.85076  </td><td style=\"text-align: right;\"> 0.974819 </td><td style=\"text-align: right;\"> 1.70441 </td><td style=\"text-align: right;\">-0.197749 </td><td style=\"text-align: right;\"> 1.54691  </td><td style=\"text-align: right;\">-3.95447  </td><td style=\"text-align: right;\">-2.16141 </td><td style=\"text-align: right;\"> 1.34754  </td><td style=\"text-align: right;\"> 1.38543  </td><td style=\"text-align: right;\"> 0.00191001</td><td style=\"text-align: right;\"> 0.598891</td><td style=\"text-align: right;\"> 1.55597 </td><td style=\"text-align: right;\"> 0.144588 </td><td style=\"text-align: right;\"> 1.86185 </td><td style=\"text-align: right;\">-0.253134 </td><td style=\"text-align: right;\">-0.19482 </td><td style=\"text-align: right;\"> 0.450249  </td><td style=\"text-align: right;\"> 1.29239   </td><td style=\"text-align: right;\">-1.10996  </td><td style=\"text-align: right;\">-0.0858755</td><td style=\"text-align: right;\">-0.653782</td><td style=\"text-align: right;\">-1.25402 </td><td style=\"text-align: right;\"> 0.313402 </td><td style=\"text-align: right;\"> 0.543065 </td><td style=\"text-align: right;\">-0.927178  </td><td style=\"text-align: right;\">-1.08334  </td><td style=\"text-align: right;\">-0.722269 </td><td style=\"text-align: right;\">-1.99496 </td><td style=\"text-align: right;\">-1.13034  </td><td style=\"text-align: right;\">-0.567282 </td><td style=\"text-align: right;\">-0.802067</td><td style=\"text-align: right;\"> 0.984732 </td><td style=\"text-align: right;\">-0.587709 </td><td style=\"text-align: right;\"> 1.61092  </td><td style=\"text-align: right;\"> 1.23006  </td><td style=\"text-align: right;\"> 0.900477 </td><td style=\"text-align: right;\"> 0.231508</td><td style=\"text-align: right;\">-0.611769 </td><td style=\"text-align: right;\"> 0.167317</td><td style=\"text-align: right;\">-1.22592 </td><td style=\"text-align: right;\">-0.573731 </td><td style=\"text-align: right;\"> 0.848025 </td><td style=\"text-align: right;\"> 0.0258988</td><td style=\"text-align: right;\"> 0.213223 </td><td style=\"text-align: right;\"> 0.7313  </td><td style=\"text-align: right;\"> 0.608789</td><td style=\"text-align: right;\">-1.01225  </td><td style=\"text-align: right;\">-1.56655  </td><td style=\"text-align: right;\"> -0.938171</td><td style=\"text-align: right;\">-0.723003 </td><td style=\"text-align: right;\"> 0.394984</td><td style=\"text-align: right;\"> 0.155151</td><td style=\"text-align: right;\"> 0.812313</td><td style=\"text-align: right;\">-1.73507 </td><td style=\"text-align: right;\">-0.022366 </td><td style=\"text-align: right;\">-1.08434 </td><td style=\"text-align: right;\">-0.688543</td><td style=\"text-align: right;\"> 1.16655 </td><td style=\"text-align: right;\">-0.642034</td><td style=\"text-align: right;\">-0.0407777</td><td style=\"text-align: right;\">-1.10986  </td><td style=\"text-align: right;\">-0.206853 </td><td style=\"text-align: right;\"> 1.2839  </td><td style=\"text-align: right;\"> 0.338269</td><td style=\"text-align: right;\">-0.885955</td><td style=\"text-align: right;\">-0.386604 </td><td style=\"text-align: right;\"> 0.573199 </td><td style=\"text-align: right;\"> 0.104429 </td><td style=\"text-align: right;\"> 0.280427</td><td style=\"text-align: right;\"> 0.0618244</td><td style=\"text-align: right;\"> 1.46068 </td><td style=\"text-align: right;\"> 2.59814  </td><td style=\"text-align: right;\"> 0.742924 </td><td style=\"text-align: right;\"> 2.64931 </td><td style=\"text-align: right;\">-0.71707  </td><td style=\"text-align: right;\">-0.709779 </td><td style=\"text-align: right;\"> 0.694341 </td><td style=\"text-align: right;\"> 1.30636 </td><td style=\"text-align: right;\">-1.61672  </td><td style=\"text-align: right;\"> 1.13111 </td><td style=\"text-align: right;\"> 1.74354  </td><td style=\"text-align: right;\">-0.371779  </td><td style=\"text-align: right;\"> 0.173594</td><td style=\"text-align: right;\">-1.66781 </td><td style=\"text-align: right;\">-0.439348  </td><td style=\"text-align: right;\"> 1.32172 </td><td style=\"text-align: right;\">-0.752154</td><td style=\"text-align: right;\"> 0.261806</td><td style=\"text-align: right;\"> 1.34944 </td><td style=\"text-align: right;\"> 0.109545 </td><td style=\"text-align: right;\">-0.256857  </td><td style=\"text-align: right;\"> 0.435583</td><td style=\"text-align: right;\"> 0.201591 </td><td style=\"text-align: right;\"> 0.359466 </td><td style=\"text-align: right;\">-0.241683 </td><td style=\"text-align: right;\"> 0.672457 </td><td style=\"text-align: right;\"> 0.0819439</td><td style=\"text-align: right;\"> 0.0165729</td><td style=\"text-align: right;\"> 0.392955 </td><td style=\"text-align: right;\"> 0.290058 </td><td style=\"text-align: right;\"> 0.877354  </td><td style=\"text-align: right;\"> 0.126122 </td><td style=\"text-align: right;\">-2.98599 </td><td style=\"text-align: right;\">-1.40775 </td><td style=\"text-align: right;\"> 0.615213 </td><td style=\"text-align: right;\">-0.766011  </td><td style=\"text-align: right;\"> 1.92051  </td><td style=\"text-align: right;\">-0.215943</td><td style=\"text-align: right;\">-0.244786</td><td style=\"text-align: right;\">-2.35986 </td><td style=\"text-align: right;\"> 0.26555 </td><td style=\"text-align: right;\">-0.400311</td><td style=\"text-align: right;\"> 0.346143</td><td style=\"text-align: right;\"> 1.2567   </td><td style=\"text-align: right;\">-0.234267 </td><td style=\"text-align: right;\"> 1.22807 </td><td style=\"text-align: right;\"> 0.483779 </td><td style=\"text-align: right;\">-0.188006</td><td style=\"text-align: right;\"> 0.0380544</td><td style=\"text-align: right;\">-1.18299  </td><td style=\"text-align: right;\"> 0.772671</td><td style=\"text-align: right;\">  2.76604</td><td style=\"text-align: right;\">-0.153199 </td><td style=\"text-align: right;\">-0.36402  </td><td style=\"text-align: right;\">-1.20863 </td><td style=\"text-align: right;\"> 0.915062 </td><td style=\"text-align: right;\"> 0.786448 </td><td style=\"text-align: right;\">-0.56921 </td><td style=\"text-align: right;\"> 1.33431 </td><td style=\"text-align: right;\">-1.33105 </td><td style=\"text-align: right;\"> 0.429923 </td><td style=\"text-align: right;\"> 0.544142 </td><td style=\"text-align: right;\">-0.220603</td><td style=\"text-align: right;\">-0.521005 </td><td style=\"text-align: right;\"> 0.870496</td><td style=\"text-align: right;\">-0.716533 </td><td style=\"text-align: right;\"> 0.337154 </td><td style=\"text-align: right;\"> 2.40139 </td><td style=\"text-align: right;\"> 0.0891193</td><td style=\"text-align: right;\">-0.55496 </td><td style=\"text-align: right;\">-1.8074  </td><td style=\"text-align: right;\"> 1.28477 </td><td style=\"text-align: right;\">-1.05857  </td><td style=\"text-align: right;\"> 0.109026</td><td style=\"text-align: right;\">-0.307431</td><td style=\"text-align: right;\"> 2.17326 </td><td style=\"text-align: right;\"> 1.73606 </td><td style=\"text-align: right;\"> 2.22367   </td><td style=\"text-align: right;\">-0.930501 </td><td style=\"text-align: right;\">-1.90429 </td><td style=\"text-align: right;\">-0.0872515</td><td style=\"text-align: right;\"> 0.263911</td><td style=\"text-align: right;\">-0.231796 </td><td style=\"text-align: right;\"> 0.444366</td><td style=\"text-align: right;\"> 0.766277</td><td style=\"text-align: right;\"> 0.387156 </td><td style=\"text-align: right;\">-1.72235 </td><td style=\"text-align: right;\">-0.165421 </td><td style=\"text-align: right;\"> 0.221126</td><td style=\"text-align: right;\">-1.02974  </td><td style=\"text-align: right;\"> 0.679899</td><td style=\"text-align: right;\">-1.92135 </td><td style=\"text-align: right;\">-1.27831 </td><td style=\"text-align: right;\"> 0.489829</td><td style=\"text-align: right;\">-0.213577 </td><td style=\"text-align: right;\"> 1.56723  </td><td style=\"text-align: right;\"> 0.786383</td><td style=\"text-align: right;\">-0.898574</td><td style=\"text-align: right;\"> 0.453101</td><td style=\"text-align: right;\">-1.36793 </td><td style=\"text-align: right;\">-0.458328</td><td style=\"text-align: right;\"> 0.129659 </td><td style=\"text-align: right;\">-0.86664 </td><td style=\"text-align: right;\">-0.724844 </td><td style=\"text-align: right;\"> 1.7111  </td><td style=\"text-align: right;\"> 0.198996</td><td style=\"text-align: right;\">-1.58294  </td><td style=\"text-align: right;\"> 0.646345</td><td style=\"text-align: right;\"> 0.275514</td><td style=\"text-align: right;\">-0.728528 </td><td style=\"text-align: right;\">-1.11972 </td><td style=\"text-align: right;\"> 1.37246  </td><td style=\"text-align: right;\"> 0.0508713</td><td style=\"text-align: right;\">-0.887277 </td><td style=\"text-align: right;\">  0</td></tr>\n",
       "<tr><td style=\"text-align: right;\">-0.438702</td><td style=\"text-align: right;\">-0.81131  </td><td style=\"text-align: right;\"> 0.489083  </td><td style=\"text-align: right;\">-0.538907  </td><td style=\"text-align: right;\">-0.159078 </td><td style=\"text-align: right;\"> 0.826285 </td><td style=\"text-align: right;\"> 0.938076</td><td style=\"text-align: right;\"> 0.216144 </td><td style=\"text-align: right;\"> 1.60528 </td><td style=\"text-align: right;\"> 0.846651 </td><td style=\"text-align: right;\">-0.151081</td><td style=\"text-align: right;\">-1.35136 </td><td style=\"text-align: right;\"> 6.53773 </td><td style=\"text-align: right;\">-1.57754  </td><td style=\"text-align: right;\">-1.41979  </td><td style=\"text-align: right;\">-0.738749</td><td style=\"text-align: right;\">-0.288999 </td><td style=\"text-align: right;\">-0.419796 </td><td style=\"text-align: right;\"> 1.0796  </td><td style=\"text-align: right;\">-0.921943 </td><td style=\"text-align: right;\">-0.378238 </td><td style=\"text-align: right;\">-0.959531 </td><td style=\"text-align: right;\">-2.55091 </td><td style=\"text-align: right;\"> 0.757813 </td><td style=\"text-align: right;\"> 0.0240331</td><td style=\"text-align: right;\">-1.52984   </td><td style=\"text-align: right;\">-1.9966  </td><td style=\"text-align: right;\">-1.31216 </td><td style=\"text-align: right;\"> 0.0881998</td><td style=\"text-align: right;\"> 0.326082</td><td style=\"text-align: right;\">-0.214344 </td><td style=\"text-align: right;\">-0.466495</td><td style=\"text-align: right;\"> 0.258294  </td><td style=\"text-align: right;\"> 0.0607825 </td><td style=\"text-align: right;\">-1.60957  </td><td style=\"text-align: right;\"> 1.45343  </td><td style=\"text-align: right;\"> 0.565991</td><td style=\"text-align: right;\"> 0.841929</td><td style=\"text-align: right;\"> 0.356999 </td><td style=\"text-align: right;\">-1.29928  </td><td style=\"text-align: right;\">-1.04265   </td><td style=\"text-align: right;\"> 1.65208  </td><td style=\"text-align: right;\"> 0.158024 </td><td style=\"text-align: right;\"> 0.589357</td><td style=\"text-align: right;\">-0.112816 </td><td style=\"text-align: right;\">-0.0770521</td><td style=\"text-align: right;\">-1.5074  </td><td style=\"text-align: right;\"> 0.667341 </td><td style=\"text-align: right;\">-1.59643  </td><td style=\"text-align: right;\">-1.12682  </td><td style=\"text-align: right;\"> 2.88771  </td><td style=\"text-align: right;\">-0.225153 </td><td style=\"text-align: right;\"> 0.619087</td><td style=\"text-align: right;\">-0.521989 </td><td style=\"text-align: right;\">-0.257559</td><td style=\"text-align: right;\"> 1.28332 </td><td style=\"text-align: right;\">-1.21401  </td><td style=\"text-align: right;\"> 0.74732  </td><td style=\"text-align: right;\">-0.0878737</td><td style=\"text-align: right;\">-0.379317 </td><td style=\"text-align: right;\"> 0.570992</td><td style=\"text-align: right;\"> 1.26387 </td><td style=\"text-align: right;\"> 1.20193  </td><td style=\"text-align: right;\"> 0.808382 </td><td style=\"text-align: right;\"> -4.92966 </td><td style=\"text-align: right;\"> 0.549593 </td><td style=\"text-align: right;\">-0.427222</td><td style=\"text-align: right;\">-0.276993</td><td style=\"text-align: right;\"> 0.126314</td><td style=\"text-align: right;\"> 1.14494 </td><td style=\"text-align: right;\">-0.80576  </td><td style=\"text-align: right;\"> 1.27073 </td><td style=\"text-align: right;\">-1.19182 </td><td style=\"text-align: right;\">-0.83353 </td><td style=\"text-align: right;\"> 1.92507 </td><td style=\"text-align: right;\"> 0.924495 </td><td style=\"text-align: right;\">-1.54449  </td><td style=\"text-align: right;\">-0.553779 </td><td style=\"text-align: right;\"> 0.251307</td><td style=\"text-align: right;\"> 1.85318 </td><td style=\"text-align: right;\">-0.433375</td><td style=\"text-align: right;\">-0.554436 </td><td style=\"text-align: right;\">-0.0916695</td><td style=\"text-align: right;\">-0.339085 </td><td style=\"text-align: right;\">-0.28581 </td><td style=\"text-align: right;\">-2.7417   </td><td style=\"text-align: right;\"> 0.542258</td><td style=\"text-align: right;\">-0.717934 </td><td style=\"text-align: right;\">-0.188996 </td><td style=\"text-align: right;\"> 0.666343</td><td style=\"text-align: right;\"> 0.557192 </td><td style=\"text-align: right;\">-0.678366 </td><td style=\"text-align: right;\">-0.724712 </td><td style=\"text-align: right;\">-0.487459</td><td style=\"text-align: right;\"> 1.75961  </td><td style=\"text-align: right;\">-1.85067 </td><td style=\"text-align: right;\"> 0.227606 </td><td style=\"text-align: right;\">-1.82266   </td><td style=\"text-align: right;\"> 1.20107 </td><td style=\"text-align: right;\">-0.159404</td><td style=\"text-align: right;\"> 0.415899  </td><td style=\"text-align: right;\"> 0.238905</td><td style=\"text-align: right;\"> 1.01614 </td><td style=\"text-align: right;\">-0.335791</td><td style=\"text-align: right;\"> 0.909936</td><td style=\"text-align: right;\">-0.379635 </td><td style=\"text-align: right;\"> 0.384709  </td><td style=\"text-align: right;\"> 0.940258</td><td style=\"text-align: right;\"> 1.20061  </td><td style=\"text-align: right;\"> 1.48705  </td><td style=\"text-align: right;\"> 1.2956   </td><td style=\"text-align: right;\"> 1.28807  </td><td style=\"text-align: right;\"> 1.6221   </td><td style=\"text-align: right;\"> 0.636307 </td><td style=\"text-align: right;\"> 0.0567337</td><td style=\"text-align: right;\">-1.21601  </td><td style=\"text-align: right;\">-1.68936   </td><td style=\"text-align: right;\">-0.531871 </td><td style=\"text-align: right;\">-0.145257</td><td style=\"text-align: right;\">-1.49281 </td><td style=\"text-align: right;\">-1.45482  </td><td style=\"text-align: right;\"> 0.542034  </td><td style=\"text-align: right;\"> 0.518092 </td><td style=\"text-align: right;\"> 0.994527</td><td style=\"text-align: right;\">-0.944131</td><td style=\"text-align: right;\">-0.719268</td><td style=\"text-align: right;\">-1.08309 </td><td style=\"text-align: right;\">-0.64042 </td><td style=\"text-align: right;\">-0.967554</td><td style=\"text-align: right;\">-0.440619 </td><td style=\"text-align: right;\">-0.694936 </td><td style=\"text-align: right;\"> 0.859841</td><td style=\"text-align: right;\"> 0.189414 </td><td style=\"text-align: right;\">-0.753578</td><td style=\"text-align: right;\"> 0.126061 </td><td style=\"text-align: right;\">-0.659608 </td><td style=\"text-align: right;\">-2.19462 </td><td style=\"text-align: right;\">  2.18257</td><td style=\"text-align: right;\"> 0.81173  </td><td style=\"text-align: right;\">-0.139682 </td><td style=\"text-align: right;\">-0.461618</td><td style=\"text-align: right;\"> 0.0148874</td><td style=\"text-align: right;\">-0.0840842</td><td style=\"text-align: right;\"> 0.214887</td><td style=\"text-align: right;\">-2.93773 </td><td style=\"text-align: right;\">-0.682726</td><td style=\"text-align: right;\"> 0.166925 </td><td style=\"text-align: right;\">-0.74837  </td><td style=\"text-align: right;\"> 0.603226</td><td style=\"text-align: right;\">-0.0702768</td><td style=\"text-align: right;\">-0.198518</td><td style=\"text-align: right;\">-0.0390972</td><td style=\"text-align: right;\"> 1.61577  </td><td style=\"text-align: right;\"> 0.572227</td><td style=\"text-align: right;\">-0.501472 </td><td style=\"text-align: right;\">-0.613552</td><td style=\"text-align: right;\">-0.493885</td><td style=\"text-align: right;\"> 2.04217 </td><td style=\"text-align: right;\">-0.96733  </td><td style=\"text-align: right;\">-0.104021</td><td style=\"text-align: right;\">-1.7221  </td><td style=\"text-align: right;\"> 0.786592</td><td style=\"text-align: right;\">-6.55929 </td><td style=\"text-align: right;\"> 1.0996    </td><td style=\"text-align: right;\"> 0.0173849</td><td style=\"text-align: right;\">-0.582176</td><td style=\"text-align: right;\"> 0.313989 </td><td style=\"text-align: right;\">-0.340834</td><td style=\"text-align: right;\">-1.16711  </td><td style=\"text-align: right;\">-1.13782 </td><td style=\"text-align: right;\"> 1.97484 </td><td style=\"text-align: right;\"> 1.18375  </td><td style=\"text-align: right;\"> 0.605039</td><td style=\"text-align: right;\">-0.589956 </td><td style=\"text-align: right;\">-0.189172</td><td style=\"text-align: right;\">-0.0397721</td><td style=\"text-align: right;\"> 1.36267 </td><td style=\"text-align: right;\">-0.117066</td><td style=\"text-align: right;\"> 0.239796</td><td style=\"text-align: right;\">-0.663817</td><td style=\"text-align: right;\"> 0.31543  </td><td style=\"text-align: right;\"> 0.276931 </td><td style=\"text-align: right;\">-0.82183 </td><td style=\"text-align: right;\">-0.616902</td><td style=\"text-align: right;\">-0.16754 </td><td style=\"text-align: right;\">-0.693509</td><td style=\"text-align: right;\">-1.73261 </td><td style=\"text-align: right;\">-0.244234 </td><td style=\"text-align: right;\">-1.03249 </td><td style=\"text-align: right;\"> 0.309671 </td><td style=\"text-align: right;\">-1.29498 </td><td style=\"text-align: right;\"> 0.570077</td><td style=\"text-align: right;\"> 0.0952883</td><td style=\"text-align: right;\">-1.05909 </td><td style=\"text-align: right;\">-1.67784 </td><td style=\"text-align: right;\"> 0.98903  </td><td style=\"text-align: right;\">-2.94943 </td><td style=\"text-align: right;\">-1.53505  </td><td style=\"text-align: right;\"> 0.405676 </td><td style=\"text-align: right;\">-0.522273 </td><td style=\"text-align: right;\">  1</td></tr>\n",
       "<tr><td style=\"text-align: right;\">-0.185314</td><td style=\"text-align: right;\"> 0.873718 </td><td style=\"text-align: right;\">-0.566468  </td><td style=\"text-align: right;\"> 1.44632   </td><td style=\"text-align: right;\"> 0.476292 </td><td style=\"text-align: right;\">-0.0257568</td><td style=\"text-align: right;\">-1.18942 </td><td style=\"text-align: right;\">-0.704111 </td><td style=\"text-align: right;\">-0.874503</td><td style=\"text-align: right;\">-0.526127 </td><td style=\"text-align: right;\"> 0.530182</td><td style=\"text-align: right;\">-1.09795 </td><td style=\"text-align: right;\"> 0.703728</td><td style=\"text-align: right;\">-0.425418 </td><td style=\"text-align: right;\">-1.79722  </td><td style=\"text-align: right;\"> 0.605717</td><td style=\"text-align: right;\">-1.4082   </td><td style=\"text-align: right;\"> 0.788049 </td><td style=\"text-align: right;\"> 2.26887 </td><td style=\"text-align: right;\"> 1.21764  </td><td style=\"text-align: right;\"> 0.519538 </td><td style=\"text-align: right;\"> 0.387988 </td><td style=\"text-align: right;\">-0.809075</td><td style=\"text-align: right;\"> 2.98293  </td><td style=\"text-align: right;\">-1.32227  </td><td style=\"text-align: right;\">-0.680715  </td><td style=\"text-align: right;\">-1.16106 </td><td style=\"text-align: right;\"> 1.02469 </td><td style=\"text-align: right;\">-0.143583 </td><td style=\"text-align: right;\">-0.3745  </td><td style=\"text-align: right;\">-0.0464912</td><td style=\"text-align: right;\">-1.12173 </td><td style=\"text-align: right;\"> 0.196962  </td><td style=\"text-align: right;\"> 0.0663033 </td><td style=\"text-align: right;\"> 0.0373378</td><td style=\"text-align: right;\">-0.17622  </td><td style=\"text-align: right;\">-0.166479</td><td style=\"text-align: right;\">-2.68863 </td><td style=\"text-align: right;\"> 0.350915 </td><td style=\"text-align: right;\"> 1.2815   </td><td style=\"text-align: right;\"> 0.721784  </td><td style=\"text-align: right;\">-0.029073 </td><td style=\"text-align: right;\"> 0.577849 </td><td style=\"text-align: right;\">-3.0998  </td><td style=\"text-align: right;\"> 0.195269 </td><td style=\"text-align: right;\"> 4.74279  </td><td style=\"text-align: right;\">-1.27795 </td><td style=\"text-align: right;\"> 0.775398 </td><td style=\"text-align: right;\">-0.764471 </td><td style=\"text-align: right;\">-0.520775 </td><td style=\"text-align: right;\"> 0.371091 </td><td style=\"text-align: right;\"> 0.629542 </td><td style=\"text-align: right;\"> 0.894255</td><td style=\"text-align: right;\">-0.32388  </td><td style=\"text-align: right;\"> 0.855336</td><td style=\"text-align: right;\"> 0.559525</td><td style=\"text-align: right;\">-0.0648946</td><td style=\"text-align: right;\"> 0.0596588</td><td style=\"text-align: right;\">-0.190685 </td><td style=\"text-align: right;\"> 1.31508  </td><td style=\"text-align: right;\"> 0.364648</td><td style=\"text-align: right;\">-0.942482</td><td style=\"text-align: right;\"> 0.0757149</td><td style=\"text-align: right;\"> 0.387444 </td><td style=\"text-align: right;\">  6.6947  </td><td style=\"text-align: right;\"> 0.815107 </td><td style=\"text-align: right;\"> 0.827153</td><td style=\"text-align: right;\"> 1.99213 </td><td style=\"text-align: right;\"> 1.00046 </td><td style=\"text-align: right;\">-1.12439 </td><td style=\"text-align: right;\"> 0.0240774</td><td style=\"text-align: right;\"> 0.356792</td><td style=\"text-align: right;\"> 1.42978 </td><td style=\"text-align: right;\">-2.43249 </td><td style=\"text-align: right;\"> 1.45887 </td><td style=\"text-align: right;\"> 0.13775  </td><td style=\"text-align: right;\"> 1.08609  </td><td style=\"text-align: right;\">-0.311824 </td><td style=\"text-align: right;\"> 1.28811 </td><td style=\"text-align: right;\">-0.419113</td><td style=\"text-align: right;\">-1.56386 </td><td style=\"text-align: right;\"> 0.702086 </td><td style=\"text-align: right;\"> 0.676848 </td><td style=\"text-align: right;\">-0.75324  </td><td style=\"text-align: right;\">-0.392791</td><td style=\"text-align: right;\"> 0.357673 </td><td style=\"text-align: right;\"> 3.31118 </td><td style=\"text-align: right;\">-0.356145 </td><td style=\"text-align: right;\"> 1.21726  </td><td style=\"text-align: right;\">-0.302148</td><td style=\"text-align: right;\"> 0.47552  </td><td style=\"text-align: right;\">-0.0471937</td><td style=\"text-align: right;\"> 0.0512345</td><td style=\"text-align: right;\">-0.956868</td><td style=\"text-align: right;\">-0.0641567</td><td style=\"text-align: right;\"> 0.56187 </td><td style=\"text-align: right;\"> 1.02816  </td><td style=\"text-align: right;\">-1.73352   </td><td style=\"text-align: right;\">-1.28641 </td><td style=\"text-align: right;\">-0.951722</td><td style=\"text-align: right;\"> 0.414937  </td><td style=\"text-align: right;\"> 0.940048</td><td style=\"text-align: right;\">-0.149908</td><td style=\"text-align: right;\"> 0.088699</td><td style=\"text-align: right;\">-0.43047 </td><td style=\"text-align: right;\">-0.31289  </td><td style=\"text-align: right;\"> 0.037185  </td><td style=\"text-align: right;\">-0.247476</td><td style=\"text-align: right;\">-0.557393 </td><td style=\"text-align: right;\">-1.15874  </td><td style=\"text-align: right;\"> 0.390636 </td><td style=\"text-align: right;\">-0.433586 </td><td style=\"text-align: right;\">-0.313289 </td><td style=\"text-align: right;\"> 0.0506937</td><td style=\"text-align: right;\">-0.0837679</td><td style=\"text-align: right;\">-0.005799 </td><td style=\"text-align: right;\"> 0.00446466</td><td style=\"text-align: right;\">-1.20006  </td><td style=\"text-align: right;\">-1.46609 </td><td style=\"text-align: right;\"> 1.84821 </td><td style=\"text-align: right;\"> 1.37833  </td><td style=\"text-align: right;\"> 1.68156   </td><td style=\"text-align: right;\">-0.0454616</td><td style=\"text-align: right;\">-0.757049</td><td style=\"text-align: right;\">-0.827394</td><td style=\"text-align: right;\"> 0.26781 </td><td style=\"text-align: right;\">-0.252268</td><td style=\"text-align: right;\">-0.13295 </td><td style=\"text-align: right;\"> 0.502414</td><td style=\"text-align: right;\">-1.09208  </td><td style=\"text-align: right;\"> 2.17842  </td><td style=\"text-align: right;\">-1.65731 </td><td style=\"text-align: right;\"> 0.154306 </td><td style=\"text-align: right;\"> 0.679876</td><td style=\"text-align: right;\">-1.79774  </td><td style=\"text-align: right;\"> 0.230251 </td><td style=\"text-align: right;\"> 0.41838 </td><td style=\"text-align: right;\">  9.75319</td><td style=\"text-align: right;\">-1.18846  </td><td style=\"text-align: right;\">-0.821772 </td><td style=\"text-align: right;\">-1.43115 </td><td style=\"text-align: right;\"> 0.668063 </td><td style=\"text-align: right;\"> 1.73896  </td><td style=\"text-align: right;\"> 1.34138 </td><td style=\"text-align: right;\"> 3.91646 </td><td style=\"text-align: right;\">-0.641123</td><td style=\"text-align: right;\"> 2.89804  </td><td style=\"text-align: right;\"> 1.84895  </td><td style=\"text-align: right;\"> 1.17852 </td><td style=\"text-align: right;\">-0.927141 </td><td style=\"text-align: right;\"> 0.479365</td><td style=\"text-align: right;\"> 0.233881 </td><td style=\"text-align: right;\">-0.0678898</td><td style=\"text-align: right;\"> 0.94987 </td><td style=\"text-align: right;\"> 0.931355 </td><td style=\"text-align: right;\"> 0.498825</td><td style=\"text-align: right;\">-1.4648  </td><td style=\"text-align: right;\"> 2.02785 </td><td style=\"text-align: right;\">-0.213243 </td><td style=\"text-align: right;\">-0.455611</td><td style=\"text-align: right;\">-1.10079 </td><td style=\"text-align: right;\"> 0.232372</td><td style=\"text-align: right;\"> 3.97808 </td><td style=\"text-align: right;\">-0.00679149</td><td style=\"text-align: right;\"> 0.184424 </td><td style=\"text-align: right;\">-0.156564</td><td style=\"text-align: right;\">-0.237004 </td><td style=\"text-align: right;\">-1.91942 </td><td style=\"text-align: right;\"> 0.22391  </td><td style=\"text-align: right;\"> 1.56703 </td><td style=\"text-align: right;\">-0.476013</td><td style=\"text-align: right;\">-1.54485  </td><td style=\"text-align: right;\"> 0.031607</td><td style=\"text-align: right;\"> 0.61562  </td><td style=\"text-align: right;\"> 0.521043</td><td style=\"text-align: right;\"> 0.0543648</td><td style=\"text-align: right;\"> 1.43628 </td><td style=\"text-align: right;\">-0.444386</td><td style=\"text-align: right;\"> 0.149779</td><td style=\"text-align: right;\">-0.242737</td><td style=\"text-align: right;\">-3.62689  </td><td style=\"text-align: right;\"> 0.472221 </td><td style=\"text-align: right;\">-0.309119</td><td style=\"text-align: right;\">-1.05657 </td><td style=\"text-align: right;\">-0.31177 </td><td style=\"text-align: right;\">-0.485053</td><td style=\"text-align: right;\"> 0.718993</td><td style=\"text-align: right;\"> 1.15724  </td><td style=\"text-align: right;\"> 0.432918</td><td style=\"text-align: right;\"> 2.16552  </td><td style=\"text-align: right;\"> 1.49265 </td><td style=\"text-align: right;\">-1.56601 </td><td style=\"text-align: right;\"> 1.1348   </td><td style=\"text-align: right;\">-1.72673 </td><td style=\"text-align: right;\"> 0.988282</td><td style=\"text-align: right;\">-1.06184  </td><td style=\"text-align: right;\"> 1.58926 </td><td style=\"text-align: right;\">-0.924274 </td><td style=\"text-align: right;\"> 1.26252  </td><td style=\"text-align: right;\">-0.769193 </td><td style=\"text-align: right;\">  0</td></tr>\n",
       "<tr><td style=\"text-align: right;\">-1.30657 </td><td style=\"text-align: right;\"> 0.853384 </td><td style=\"text-align: right;\">-0.00940063</td><td style=\"text-align: right;\"> 0.332713  </td><td style=\"text-align: right;\"> 1.01687  </td><td style=\"text-align: right;\">-0.873653 </td><td style=\"text-align: right;\"> 0.155755</td><td style=\"text-align: right;\">-0.0205395</td><td style=\"text-align: right;\">-0.750057</td><td style=\"text-align: right;\">-1.37536  </td><td style=\"text-align: right;\"> 0.257349</td><td style=\"text-align: right;\">-5.05413 </td><td style=\"text-align: right;\">-1.23421 </td><td style=\"text-align: right;\"> 0.248056 </td><td style=\"text-align: right;\"> 0.70977  </td><td style=\"text-align: right;\"> 0.328881</td><td style=\"text-align: right;\">-0.169921 </td><td style=\"text-align: right;\">-1.17093  </td><td style=\"text-align: right;\">-1.27265 </td><td style=\"text-align: right;\">-0.0377535</td><td style=\"text-align: right;\">-1.66167  </td><td style=\"text-align: right;\">-1.53164  </td><td style=\"text-align: right;\"> 3.88545 </td><td style=\"text-align: right;\">-0.189703 </td><td style=\"text-align: right;\"> 1.54043  </td><td style=\"text-align: right;\"> 1.6433    </td><td style=\"text-align: right;\"> 0.880462</td><td style=\"text-align: right;\">-0.67742 </td><td style=\"text-align: right;\">-1.36864  </td><td style=\"text-align: right;\"> 1.00762 </td><td style=\"text-align: right;\"> 0.325417 </td><td style=\"text-align: right;\">-1.87837 </td><td style=\"text-align: right;\">-0.583675  </td><td style=\"text-align: right;\"> 0.206882  </td><td style=\"text-align: right;\">-0.0274871</td><td style=\"text-align: right;\">-0.206762 </td><td style=\"text-align: right;\"> 0.047508</td><td style=\"text-align: right;\"> 0.08766 </td><td style=\"text-align: right;\">-0.0894245</td><td style=\"text-align: right;\">-0.0977457</td><td style=\"text-align: right;\"> 0.920153  </td><td style=\"text-align: right;\"> 0.309418 </td><td style=\"text-align: right;\">-0.456769 </td><td style=\"text-align: right;\">-0.632937</td><td style=\"text-align: right;\">-0.0188222</td><td style=\"text-align: right;\">-1.99584  </td><td style=\"text-align: right;\"> 1.75637 </td><td style=\"text-align: right;\"> 0.0647847</td><td style=\"text-align: right;\">-2.55411  </td><td style=\"text-align: right;\">-0.344691 </td><td style=\"text-align: right;\">-1.23697  </td><td style=\"text-align: right;\">-0.0559584</td><td style=\"text-align: right;\"> 0.429926</td><td style=\"text-align: right;\">-0.894422 </td><td style=\"text-align: right;\">-0.19395 </td><td style=\"text-align: right;\"> 0.106129</td><td style=\"text-align: right;\">-1.36178  </td><td style=\"text-align: right;\"> 0.517287 </td><td style=\"text-align: right;\"> 0.194302 </td><td style=\"text-align: right;\">-2.96169  </td><td style=\"text-align: right;\"> 0.545516</td><td style=\"text-align: right;\"> 0.184288</td><td style=\"text-align: right;\"> 1.18636  </td><td style=\"text-align: right;\"> 0.0554795</td><td style=\"text-align: right;\">  3.32712 </td><td style=\"text-align: right;\"> 1.45972  </td><td style=\"text-align: right;\"> 0.712238</td><td style=\"text-align: right;\"> 0.274571</td><td style=\"text-align: right;\"> 0.411807</td><td style=\"text-align: right;\"> 0.979856</td><td style=\"text-align: right;\">-0.330952 </td><td style=\"text-align: right;\">-0.497361</td><td style=\"text-align: right;\">-0.386128</td><td style=\"text-align: right;\">-1.03507 </td><td style=\"text-align: right;\">-2.79462 </td><td style=\"text-align: right;\"> 1.31524  </td><td style=\"text-align: right;\">-0.861214 </td><td style=\"text-align: right;\"> 1.21069  </td><td style=\"text-align: right;\">-2.23905 </td><td style=\"text-align: right;\"> 1.35483 </td><td style=\"text-align: right;\">-1.86187 </td><td style=\"text-align: right;\"> 0.916315 </td><td style=\"text-align: right;\">-0.155316 </td><td style=\"text-align: right;\"> 0.0889714</td><td style=\"text-align: right;\">-0.753063</td><td style=\"text-align: right;\"> 0.788142 </td><td style=\"text-align: right;\">-1.97449 </td><td style=\"text-align: right;\"> 0.526211 </td><td style=\"text-align: right;\"> 1.11018  </td><td style=\"text-align: right;\">-1.60871 </td><td style=\"text-align: right;\">-1.53681  </td><td style=\"text-align: right;\">-1.25143  </td><td style=\"text-align: right;\"> 0.234755 </td><td style=\"text-align: right;\"> 1.89515 </td><td style=\"text-align: right;\">-1.38582  </td><td style=\"text-align: right;\"> 1.10322 </td><td style=\"text-align: right;\"> 0.0429895</td><td style=\"text-align: right;\"> 0.00738736</td><td style=\"text-align: right;\">-0.159342</td><td style=\"text-align: right;\">-1.0742  </td><td style=\"text-align: right;\">-0.00191625</td><td style=\"text-align: right;\">-0.597062</td><td style=\"text-align: right;\">-1.1387  </td><td style=\"text-align: right;\">-2.93689 </td><td style=\"text-align: right;\"> 0.676156</td><td style=\"text-align: right;\"> 0.317783 </td><td style=\"text-align: right;\"> 0.744632  </td><td style=\"text-align: right;\"> 1.46254 </td><td style=\"text-align: right;\"> 0.267997 </td><td style=\"text-align: right;\">-1.50131  </td><td style=\"text-align: right;\"> 0.020199 </td><td style=\"text-align: right;\"> 0.773516 </td><td style=\"text-align: right;\">-0.55913  </td><td style=\"text-align: right;\">-0.730537 </td><td style=\"text-align: right;\"> 0.137441 </td><td style=\"text-align: right;\">-0.135634 </td><td style=\"text-align: right;\"> 0.799336  </td><td style=\"text-align: right;\"> 0.318119 </td><td style=\"text-align: right;\"> 0.369809</td><td style=\"text-align: right;\">-0.542544</td><td style=\"text-align: right;\">-0.372636 </td><td style=\"text-align: right;\"> 1.48598   </td><td style=\"text-align: right;\">-0.128081 </td><td style=\"text-align: right;\"> 0.4979  </td><td style=\"text-align: right;\">-0.812047</td><td style=\"text-align: right;\"> 0.803424</td><td style=\"text-align: right;\"> 0.657275</td><td style=\"text-align: right;\">-0.420029</td><td style=\"text-align: right;\"> 1.03205 </td><td style=\"text-align: right;\">-0.926031 </td><td style=\"text-align: right;\"> 0.91378  </td><td style=\"text-align: right;\">-2.18588 </td><td style=\"text-align: right;\"> 0.0396296</td><td style=\"text-align: right;\">-0.467063</td><td style=\"text-align: right;\"> 1.61175  </td><td style=\"text-align: right;\">-0.355688 </td><td style=\"text-align: right;\"> 1.65778 </td><td style=\"text-align: right;\"> -6.40265</td><td style=\"text-align: right;\">-1.52173  </td><td style=\"text-align: right;\"> 0.139231 </td><td style=\"text-align: right;\">-1.43381 </td><td style=\"text-align: right;\">-0.801926 </td><td style=\"text-align: right;\"> 1.19338  </td><td style=\"text-align: right;\">-1.29641 </td><td style=\"text-align: right;\">-0.272312</td><td style=\"text-align: right;\"> 0.278432</td><td style=\"text-align: right;\"> 0.613356 </td><td style=\"text-align: right;\">-1.01112  </td><td style=\"text-align: right;\"> 1.79055 </td><td style=\"text-align: right;\"> 0.536939 </td><td style=\"text-align: right;\">-1.44656 </td><td style=\"text-align: right;\"> 1.2288   </td><td style=\"text-align: right;\">-0.362544 </td><td style=\"text-align: right;\"> 0.383634</td><td style=\"text-align: right;\">-0.429252 </td><td style=\"text-align: right;\"> 0.956881</td><td style=\"text-align: right;\"> 0.828133</td><td style=\"text-align: right;\"> 1.5598  </td><td style=\"text-align: right;\"> 0.0077507</td><td style=\"text-align: right;\"> 0.250057</td><td style=\"text-align: right;\"> 1.06729 </td><td style=\"text-align: right;\"> 0.236733</td><td style=\"text-align: right;\"> 0.463219</td><td style=\"text-align: right;\">-0.495819  </td><td style=\"text-align: right;\"> 0.901082 </td><td style=\"text-align: right;\"> 0.851993</td><td style=\"text-align: right;\">-1.07348  </td><td style=\"text-align: right;\">-0.841598</td><td style=\"text-align: right;\">-0.0576549</td><td style=\"text-align: right;\"> 1.76042 </td><td style=\"text-align: right;\"> 0.224443</td><td style=\"text-align: right;\"> 1.06033  </td><td style=\"text-align: right;\"> 1.37491 </td><td style=\"text-align: right;\"> 1.02582  </td><td style=\"text-align: right;\">-1.28256 </td><td style=\"text-align: right;\"> 0.42237  </td><td style=\"text-align: right;\">-0.526783</td><td style=\"text-align: right;\"> 5.8906  </td><td style=\"text-align: right;\">-0.148298</td><td style=\"text-align: right;\">-0.54325 </td><td style=\"text-align: right;\"> 0.0312833</td><td style=\"text-align: right;\">-2.42693  </td><td style=\"text-align: right;\"> 0.495898</td><td style=\"text-align: right;\"> 0.890743</td><td style=\"text-align: right;\"> 0.483613</td><td style=\"text-align: right;\">-0.785752</td><td style=\"text-align: right;\"> 1.04115 </td><td style=\"text-align: right;\">-0.59045  </td><td style=\"text-align: right;\">-0.687758</td><td style=\"text-align: right;\"> 1.14131  </td><td style=\"text-align: right;\"> 2.17899 </td><td style=\"text-align: right;\"> 0.567277</td><td style=\"text-align: right;\">-1.36016  </td><td style=\"text-align: right;\"> 0.660392</td><td style=\"text-align: right;\"> 0.743796</td><td style=\"text-align: right;\">-0.201875 </td><td style=\"text-align: right;\">-0.580885</td><td style=\"text-align: right;\">-1.80575  </td><td style=\"text-align: right;\"> 0.0819096</td><td style=\"text-align: right;\">-0.0633444</td><td style=\"text-align: right;\">  0</td></tr>\n",
       "<tr><td style=\"text-align: right;\"> 1.10288 </td><td style=\"text-align: right;\">-1.46104  </td><td style=\"text-align: right;\"> 0.239061  </td><td style=\"text-align: right;\"> 0.00248913</td><td style=\"text-align: right;\"> 0.479806 </td><td style=\"text-align: right;\">-0.207277 </td><td style=\"text-align: right;\">-0.38528 </td><td style=\"text-align: right;\"> 0.073741 </td><td style=\"text-align: right;\"> 0.858962</td><td style=\"text-align: right;\">-1.11111  </td><td style=\"text-align: right;\">-0.359866</td><td style=\"text-align: right;\">-3.55505 </td><td style=\"text-align: right;\">20.5627  </td><td style=\"text-align: right;\">-0.377822 </td><td style=\"text-align: right;\">-1.29727  </td><td style=\"text-align: right;\">-3.15621 </td><td style=\"text-align: right;\"> 0.125806 </td><td style=\"text-align: right;\">-0.574985 </td><td style=\"text-align: right;\"> 4.3965  </td><td style=\"text-align: right;\"> 1.27849  </td><td style=\"text-align: right;\">-0.860365 </td><td style=\"text-align: right;\">-2.29941  </td><td style=\"text-align: right;\"> 4.90251 </td><td style=\"text-align: right;\"> 0.39227  </td><td style=\"text-align: right;\"> 0.408457 </td><td style=\"text-align: right;\"> 0.417426  </td><td style=\"text-align: right;\"> 1.43467 </td><td style=\"text-align: right;\"> 0.771966</td><td style=\"text-align: right;\"> 0.028044 </td><td style=\"text-align: right;\">-0.500711</td><td style=\"text-align: right;\"> 0.763574 </td><td style=\"text-align: right;\">-1.09561 </td><td style=\"text-align: right;\">-0.00285096</td><td style=\"text-align: right;\">-0.499762  </td><td style=\"text-align: right;\">-0.766276 </td><td style=\"text-align: right;\"> 0.655025 </td><td style=\"text-align: right;\"> 0.764061</td><td style=\"text-align: right;\">-1.46729 </td><td style=\"text-align: right;\"> 0.480101 </td><td style=\"text-align: right;\"> 0.230004 </td><td style=\"text-align: right;\"> 0.190901  </td><td style=\"text-align: right;\"> 0.0940876</td><td style=\"text-align: right;\"> 0.721805 </td><td style=\"text-align: right;\">-1.73463 </td><td style=\"text-align: right;\">-0.252585 </td><td style=\"text-align: right;\"> 3.02281  </td><td style=\"text-align: right;\">-0.709588</td><td style=\"text-align: right;\"> 1.44133  </td><td style=\"text-align: right;\">-1.25761  </td><td style=\"text-align: right;\"> 0.942714 </td><td style=\"text-align: right;\"> 0.972841 </td><td style=\"text-align: right;\"> 0.693593 </td><td style=\"text-align: right;\"> 0.85267 </td><td style=\"text-align: right;\">-0.832086 </td><td style=\"text-align: right;\">-1.11745 </td><td style=\"text-align: right;\"> 0.519487</td><td style=\"text-align: right;\"> 0.355582 </td><td style=\"text-align: right;\">-0.0469322</td><td style=\"text-align: right;\">-0.785824 </td><td style=\"text-align: right;\"> 0.0864344</td><td style=\"text-align: right;\"> 0.651806</td><td style=\"text-align: right;\"> 0.274608</td><td style=\"text-align: right;\">-0.132892 </td><td style=\"text-align: right;\"> 1.15593  </td><td style=\"text-align: right;\"> -0.13602 </td><td style=\"text-align: right;\">-1.19535  </td><td style=\"text-align: right;\">-0.440013</td><td style=\"text-align: right;\">-1.24583 </td><td style=\"text-align: right;\">-0.112096</td><td style=\"text-align: right;\"> 2.18397 </td><td style=\"text-align: right;\"> 0.593448 </td><td style=\"text-align: right;\"> 0.302554</td><td style=\"text-align: right;\">-1.22805 </td><td style=\"text-align: right;\">-0.429701</td><td style=\"text-align: right;\"> 2.30036 </td><td style=\"text-align: right;\"> 0.66869  </td><td style=\"text-align: right;\"> 0.13697  </td><td style=\"text-align: right;\"> 0.0837716</td><td style=\"text-align: right;\">-1.72743 </td><td style=\"text-align: right;\">-2.0729  </td><td style=\"text-align: right;\">-0.274497</td><td style=\"text-align: right;\"> 0.451093 </td><td style=\"text-align: right;\"> 1.41071  </td><td style=\"text-align: right;\"> 0.41284  </td><td style=\"text-align: right;\"> 0.653981</td><td style=\"text-align: right;\"> 0.850791 </td><td style=\"text-align: right;\">-3.57127 </td><td style=\"text-align: right;\"> 0.0516548</td><td style=\"text-align: right;\">-1.62065  </td><td style=\"text-align: right;\"> 0.90735 </td><td style=\"text-align: right;\">-0.0754747</td><td style=\"text-align: right;\">-0.4381   </td><td style=\"text-align: right;\"> 0.0536784</td><td style=\"text-align: right;\">-1.06288 </td><td style=\"text-align: right;\">-0.581099 </td><td style=\"text-align: right;\"> 0.559822</td><td style=\"text-align: right;\">-0.25679  </td><td style=\"text-align: right;\">-0.767696  </td><td style=\"text-align: right;\"> 0.579596</td><td style=\"text-align: right;\">-4.79834 </td><td style=\"text-align: right;\"> 1.47974   </td><td style=\"text-align: right;\"> 1.38134 </td><td style=\"text-align: right;\">-0.095671</td><td style=\"text-align: right;\">-0.696084</td><td style=\"text-align: right;\"> 0.595127</td><td style=\"text-align: right;\"> 0.0443781</td><td style=\"text-align: right;\">-1.52214   </td><td style=\"text-align: right;\"> 1.48583 </td><td style=\"text-align: right;\"> 0.973816 </td><td style=\"text-align: right;\">-0.30018  </td><td style=\"text-align: right;\">-0.0631155</td><td style=\"text-align: right;\"> 0.154172 </td><td style=\"text-align: right;\"> 1.44444  </td><td style=\"text-align: right;\"> 0.0270023</td><td style=\"text-align: right;\"> 0.490784 </td><td style=\"text-align: right;\">-0.465809 </td><td style=\"text-align: right;\">-1.20478   </td><td style=\"text-align: right;\"> 1.20672  </td><td style=\"text-align: right;\"> 1.70879 </td><td style=\"text-align: right;\"> 1.21706 </td><td style=\"text-align: right;\">-0.393587 </td><td style=\"text-align: right;\">-1.19147   </td><td style=\"text-align: right;\"> 0.183717 </td><td style=\"text-align: right;\"> 0.053569</td><td style=\"text-align: right;\">-0.211549</td><td style=\"text-align: right;\">-1.50395 </td><td style=\"text-align: right;\">-0.753752</td><td style=\"text-align: right;\">-1.20113 </td><td style=\"text-align: right;\">-1.29361 </td><td style=\"text-align: right;\">-0.927097 </td><td style=\"text-align: right;\">-0.227786 </td><td style=\"text-align: right;\">-0.37779 </td><td style=\"text-align: right;\">-0.420953 </td><td style=\"text-align: right;\"> 0.440088</td><td style=\"text-align: right;\">-0.99568  </td><td style=\"text-align: right;\">-1.44135  </td><td style=\"text-align: right;\">-0.734369</td><td style=\"text-align: right;\"> -3.53851</td><td style=\"text-align: right;\"> 0.0782495</td><td style=\"text-align: right;\"> 1.12693  </td><td style=\"text-align: right;\"> 1.06512 </td><td style=\"text-align: right;\"> 0.27395  </td><td style=\"text-align: right;\">-1.47512  </td><td style=\"text-align: right;\"> 1.23488 </td><td style=\"text-align: right;\"> 1.66848 </td><td style=\"text-align: right;\">-0.61363 </td><td style=\"text-align: right;\">-1.81905  </td><td style=\"text-align: right;\"> 1.66832  </td><td style=\"text-align: right;\"> 0.194776</td><td style=\"text-align: right;\"> 0.459449 </td><td style=\"text-align: right;\"> 1.43614 </td><td style=\"text-align: right;\"> 0.380419 </td><td style=\"text-align: right;\">-1.39938  </td><td style=\"text-align: right;\">-0.192473</td><td style=\"text-align: right;\">-0.520227 </td><td style=\"text-align: right;\"> 1.1539  </td><td style=\"text-align: right;\">-0.341172</td><td style=\"text-align: right;\"> 1.27661 </td><td style=\"text-align: right;\">-0.658316 </td><td style=\"text-align: right;\"> 0.278545</td><td style=\"text-align: right;\"> 0.21266 </td><td style=\"text-align: right;\">-0.517242</td><td style=\"text-align: right;\">-2.47009 </td><td style=\"text-align: right;\"> 0.467452  </td><td style=\"text-align: right;\"> 0.724105 </td><td style=\"text-align: right;\"> 1.37142 </td><td style=\"text-align: right;\">-1.32552  </td><td style=\"text-align: right;\"> 0.850638</td><td style=\"text-align: right;\"> 2.35622  </td><td style=\"text-align: right;\">-0.911263</td><td style=\"text-align: right;\">-0.19051 </td><td style=\"text-align: right;\"> 0.216263 </td><td style=\"text-align: right;\"> 0.852696</td><td style=\"text-align: right;\">-0.543704 </td><td style=\"text-align: right;\"> 0.906405</td><td style=\"text-align: right;\"> 0.805767 </td><td style=\"text-align: right;\">-0.128954</td><td style=\"text-align: right;\">-0.60398 </td><td style=\"text-align: right;\">-0.381875</td><td style=\"text-align: right;\">-0.777095</td><td style=\"text-align: right;\">-0.836362 </td><td style=\"text-align: right;\"> 0.403633 </td><td style=\"text-align: right;\">-1.92322 </td><td style=\"text-align: right;\">-1.42421 </td><td style=\"text-align: right;\">-1.0428  </td><td style=\"text-align: right;\">-0.522742</td><td style=\"text-align: right;\"> 0.525777</td><td style=\"text-align: right;\"> 1.52381  </td><td style=\"text-align: right;\"> 1.02932 </td><td style=\"text-align: right;\">-0.0633926</td><td style=\"text-align: right;\">-6.69024 </td><td style=\"text-align: right;\">-0.80586 </td><td style=\"text-align: right;\"> 1.38336  </td><td style=\"text-align: right;\"> 0.463964</td><td style=\"text-align: right;\">-0.287128</td><td style=\"text-align: right;\">-1.83545  </td><td style=\"text-align: right;\"> 0.550144</td><td style=\"text-align: right;\"> 1.34113  </td><td style=\"text-align: right;\">-0.513912 </td><td style=\"text-align: right;\">-1.11983  </td><td style=\"text-align: right;\">  1</td></tr>\n",
       "</tbody>\n",
       "</table>"
      ]
     },
     "metadata": {},
     "output_type": "display_data"
    },
    {
     "data": {
      "text/plain": [
       "<bound method H2OFrame.describe of >"
      ]
     },
     "execution_count": 28,
     "metadata": {},
     "output_type": "execute_result"
    }
   ],
   "source": [
    "df_h.describe"
   ]
  },
  {
   "cell_type": "code",
   "execution_count": 29,
   "id": "f715d997",
   "metadata": {},
   "outputs": [],
   "source": [
    "predictors = df_h.col_names[1:200]"
   ]
  },
  {
   "cell_type": "code",
   "execution_count": 30,
   "id": "566ed510",
   "metadata": {},
   "outputs": [],
   "source": [
    "df_h[\"y\"] = df_h[\"y\"].asfactor()\n",
    "response = \"y\""
   ]
  },
  {
   "cell_type": "code",
   "execution_count": 31,
   "id": "11674c91",
   "metadata": {},
   "outputs": [],
   "source": [
    "from h2o.estimators import H2OGeneralizedLowRankEstimator\n",
    "from h2o.plot import get_matplotlib_pyplot, decorate_plot_result, RAISE_ON_FIGURE_ACCESS"
   ]
  },
  {
   "cell_type": "code",
   "execution_count": 32,
   "id": "43c9315b",
   "metadata": {},
   "outputs": [],
   "source": [
    "rank2_model = H2OGeneralizedLowRankEstimator(k=2,\n",
    "                                             model_id = \"rank2\", \n",
    "                                             seed = 1234, \n",
    "                                             loss=\"Absolute\",\n",
    "                                             transform=\"standardize\",\n",
    "                                             representation_name=\"rank2_full\")"
   ]
  },
  {
   "cell_type": "code",
   "execution_count": 33,
   "id": "d614ae3e",
   "metadata": {},
   "outputs": [
    {
     "name": "stdout",
     "output_type": "stream",
     "text": [
      "glrm Model Build progress: |█████████████████████████████████████████████████████| (done) 100%\n",
      "Model Details\n",
      "=============\n",
      "H2OGeneralizedLowRankEstimator :  Generalized Low Rank Modeling\n",
      "Model Key:  rank2\n",
      "\n",
      "\n",
      "Model Summary: \n"
     ]
    },
    {
     "data": {
      "text/html": [
       "<div>\n",
       "<style scoped>\n",
       "    .dataframe tbody tr th:only-of-type {\n",
       "        vertical-align: middle;\n",
       "    }\n",
       "\n",
       "    .dataframe tbody tr th {\n",
       "        vertical-align: top;\n",
       "    }\n",
       "\n",
       "    .dataframe thead th {\n",
       "        text-align: right;\n",
       "    }\n",
       "</style>\n",
       "<table border=\"1\" class=\"dataframe\">\n",
       "  <thead>\n",
       "    <tr style=\"text-align: right;\">\n",
       "      <th></th>\n",
       "      <th></th>\n",
       "      <th>number_of_iterations</th>\n",
       "      <th>final_step_size</th>\n",
       "      <th>final_objective_value</th>\n",
       "    </tr>\n",
       "  </thead>\n",
       "  <tbody>\n",
       "    <tr>\n",
       "      <th>0</th>\n",
       "      <td></td>\n",
       "      <td>388.0</td>\n",
       "      <td>0.000098</td>\n",
       "      <td>156910.780964</td>\n",
       "    </tr>\n",
       "  </tbody>\n",
       "</table>\n",
       "</div>"
      ],
      "text/plain": [
       "     number_of_iterations  final_step_size  final_objective_value\n",
       "0                   388.0         0.000098          156910.780964"
      ]
     },
     "metadata": {},
     "output_type": "display_data"
    },
    {
     "name": "stdout",
     "output_type": "stream",
     "text": [
      "\n",
      "\n",
      "ModelMetricsGLRM: glrm\n",
      "** Reported on train data. **\n",
      "\n",
      "MSE: NaN\n",
      "RMSE: NaN\n",
      "Sum of Squared Error (Numeric): 196530.1680019585\n",
      "Misclassification Error (Categorical): 0.0\n",
      "\n",
      "Scoring History: \n"
     ]
    },
    {
     "data": {
      "text/html": [
       "<div>\n",
       "<style scoped>\n",
       "    .dataframe tbody tr th:only-of-type {\n",
       "        vertical-align: middle;\n",
       "    }\n",
       "\n",
       "    .dataframe tbody tr th {\n",
       "        vertical-align: top;\n",
       "    }\n",
       "\n",
       "    .dataframe thead th {\n",
       "        text-align: right;\n",
       "    }\n",
       "</style>\n",
       "<table border=\"1\" class=\"dataframe\">\n",
       "  <thead>\n",
       "    <tr style=\"text-align: right;\">\n",
       "      <th></th>\n",
       "      <th></th>\n",
       "      <th>timestamp</th>\n",
       "      <th>duration</th>\n",
       "      <th>iterations</th>\n",
       "      <th>step_size</th>\n",
       "      <th>objective</th>\n",
       "    </tr>\n",
       "  </thead>\n",
       "  <tbody>\n",
       "    <tr>\n",
       "      <th>0</th>\n",
       "      <td></td>\n",
       "      <td>2022-04-11 17:21:04</td>\n",
       "      <td>0.204 sec</td>\n",
       "      <td>0.0</td>\n",
       "      <td>1.050000</td>\n",
       "      <td>158530.280384</td>\n",
       "    </tr>\n",
       "    <tr>\n",
       "      <th>1</th>\n",
       "      <td></td>\n",
       "      <td>2022-04-11 17:21:05</td>\n",
       "      <td>0.219 sec</td>\n",
       "      <td>1.0</td>\n",
       "      <td>1.102500</td>\n",
       "      <td>158495.712933</td>\n",
       "    </tr>\n",
       "    <tr>\n",
       "      <th>2</th>\n",
       "      <td></td>\n",
       "      <td>2022-04-11 17:21:05</td>\n",
       "      <td>0.235 sec</td>\n",
       "      <td>2.0</td>\n",
       "      <td>1.157625</td>\n",
       "      <td>158471.410734</td>\n",
       "    </tr>\n",
       "    <tr>\n",
       "      <th>3</th>\n",
       "      <td></td>\n",
       "      <td>2022-04-11 17:21:05</td>\n",
       "      <td>0.235 sec</td>\n",
       "      <td>3.0</td>\n",
       "      <td>0.771750</td>\n",
       "      <td>158471.410734</td>\n",
       "    </tr>\n",
       "    <tr>\n",
       "      <th>4</th>\n",
       "      <td></td>\n",
       "      <td>2022-04-11 17:21:05</td>\n",
       "      <td>0.251 sec</td>\n",
       "      <td>4.0</td>\n",
       "      <td>0.810338</td>\n",
       "      <td>158231.019056</td>\n",
       "    </tr>\n",
       "    <tr>\n",
       "      <th>5</th>\n",
       "      <td></td>\n",
       "      <td>2022-04-11 17:21:05</td>\n",
       "      <td>0.266 sec</td>\n",
       "      <td>5.0</td>\n",
       "      <td>0.850854</td>\n",
       "      <td>158027.519649</td>\n",
       "    </tr>\n",
       "    <tr>\n",
       "      <th>6</th>\n",
       "      <td></td>\n",
       "      <td>2022-04-11 17:21:05</td>\n",
       "      <td>0.284 sec</td>\n",
       "      <td>6.0</td>\n",
       "      <td>0.893397</td>\n",
       "      <td>157839.896430</td>\n",
       "    </tr>\n",
       "    <tr>\n",
       "      <th>7</th>\n",
       "      <td></td>\n",
       "      <td>2022-04-11 17:21:05</td>\n",
       "      <td>0.301 sec</td>\n",
       "      <td>7.0</td>\n",
       "      <td>0.938067</td>\n",
       "      <td>157719.774591</td>\n",
       "    </tr>\n",
       "    <tr>\n",
       "      <th>8</th>\n",
       "      <td></td>\n",
       "      <td>2022-04-11 17:21:05</td>\n",
       "      <td>0.316 sec</td>\n",
       "      <td>8.0</td>\n",
       "      <td>0.984970</td>\n",
       "      <td>157704.631643</td>\n",
       "    </tr>\n",
       "    <tr>\n",
       "      <th>9</th>\n",
       "      <td></td>\n",
       "      <td>2022-04-11 17:21:05</td>\n",
       "      <td>0.316 sec</td>\n",
       "      <td>9.0</td>\n",
       "      <td>0.656647</td>\n",
       "      <td>157704.631643</td>\n",
       "    </tr>\n",
       "    <tr>\n",
       "      <th>10</th>\n",
       "      <td></td>\n",
       "      <td>2022-04-11 17:21:05</td>\n",
       "      <td>0.332 sec</td>\n",
       "      <td>10.0</td>\n",
       "      <td>0.689479</td>\n",
       "      <td>157426.236094</td>\n",
       "    </tr>\n",
       "    <tr>\n",
       "      <th>11</th>\n",
       "      <td></td>\n",
       "      <td>2022-04-11 17:21:05</td>\n",
       "      <td>0.347 sec</td>\n",
       "      <td>11.0</td>\n",
       "      <td>0.723953</td>\n",
       "      <td>157333.306553</td>\n",
       "    </tr>\n",
       "    <tr>\n",
       "      <th>12</th>\n",
       "      <td></td>\n",
       "      <td>2022-04-11 17:21:05</td>\n",
       "      <td>0.379 sec</td>\n",
       "      <td>12.0</td>\n",
       "      <td>0.760151</td>\n",
       "      <td>157276.264024</td>\n",
       "    </tr>\n",
       "    <tr>\n",
       "      <th>13</th>\n",
       "      <td></td>\n",
       "      <td>2022-04-11 17:21:05</td>\n",
       "      <td>0.401 sec</td>\n",
       "      <td>13.0</td>\n",
       "      <td>0.798158</td>\n",
       "      <td>157251.538460</td>\n",
       "    </tr>\n",
       "    <tr>\n",
       "      <th>14</th>\n",
       "      <td></td>\n",
       "      <td>2022-04-11 17:21:05</td>\n",
       "      <td>0.410 sec</td>\n",
       "      <td>14.0</td>\n",
       "      <td>0.532106</td>\n",
       "      <td>157251.538460</td>\n",
       "    </tr>\n",
       "    <tr>\n",
       "      <th>15</th>\n",
       "      <td></td>\n",
       "      <td>2022-04-11 17:21:05</td>\n",
       "      <td>0.410 sec</td>\n",
       "      <td>15.0</td>\n",
       "      <td>0.558711</td>\n",
       "      <td>157151.628007</td>\n",
       "    </tr>\n",
       "    <tr>\n",
       "      <th>16</th>\n",
       "      <td></td>\n",
       "      <td>2022-04-11 17:21:05</td>\n",
       "      <td>0.426 sec</td>\n",
       "      <td>16.0</td>\n",
       "      <td>0.586646</td>\n",
       "      <td>157106.832362</td>\n",
       "    </tr>\n",
       "    <tr>\n",
       "      <th>17</th>\n",
       "      <td></td>\n",
       "      <td>2022-04-11 17:21:05</td>\n",
       "      <td>0.441 sec</td>\n",
       "      <td>17.0</td>\n",
       "      <td>0.615979</td>\n",
       "      <td>157084.790613</td>\n",
       "    </tr>\n",
       "    <tr>\n",
       "      <th>18</th>\n",
       "      <td></td>\n",
       "      <td>2022-04-11 17:21:05</td>\n",
       "      <td>0.461 sec</td>\n",
       "      <td>18.0</td>\n",
       "      <td>0.646778</td>\n",
       "      <td>157071.931908</td>\n",
       "    </tr>\n",
       "    <tr>\n",
       "      <th>19</th>\n",
       "      <td></td>\n",
       "      <td>2022-04-11 17:21:05</td>\n",
       "      <td>0.477 sec</td>\n",
       "      <td>19.0</td>\n",
       "      <td>0.431185</td>\n",
       "      <td>157071.931908</td>\n",
       "    </tr>\n",
       "  </tbody>\n",
       "</table>\n",
       "</div>"
      ],
      "text/plain": [
       "                timestamp    duration  iterations  step_size      objective\n",
       "0     2022-04-11 17:21:04   0.204 sec         0.0   1.050000  158530.280384\n",
       "1     2022-04-11 17:21:05   0.219 sec         1.0   1.102500  158495.712933\n",
       "2     2022-04-11 17:21:05   0.235 sec         2.0   1.157625  158471.410734\n",
       "3     2022-04-11 17:21:05   0.235 sec         3.0   0.771750  158471.410734\n",
       "4     2022-04-11 17:21:05   0.251 sec         4.0   0.810338  158231.019056\n",
       "5     2022-04-11 17:21:05   0.266 sec         5.0   0.850854  158027.519649\n",
       "6     2022-04-11 17:21:05   0.284 sec         6.0   0.893397  157839.896430\n",
       "7     2022-04-11 17:21:05   0.301 sec         7.0   0.938067  157719.774591\n",
       "8     2022-04-11 17:21:05   0.316 sec         8.0   0.984970  157704.631643\n",
       "9     2022-04-11 17:21:05   0.316 sec         9.0   0.656647  157704.631643\n",
       "10    2022-04-11 17:21:05   0.332 sec        10.0   0.689479  157426.236094\n",
       "11    2022-04-11 17:21:05   0.347 sec        11.0   0.723953  157333.306553\n",
       "12    2022-04-11 17:21:05   0.379 sec        12.0   0.760151  157276.264024\n",
       "13    2022-04-11 17:21:05   0.401 sec        13.0   0.798158  157251.538460\n",
       "14    2022-04-11 17:21:05   0.410 sec        14.0   0.532106  157251.538460\n",
       "15    2022-04-11 17:21:05   0.410 sec        15.0   0.558711  157151.628007\n",
       "16    2022-04-11 17:21:05   0.426 sec        16.0   0.586646  157106.832362\n",
       "17    2022-04-11 17:21:05   0.441 sec        17.0   0.615979  157084.790613\n",
       "18    2022-04-11 17:21:05   0.461 sec        18.0   0.646778  157071.931908\n",
       "19    2022-04-11 17:21:05   0.477 sec        19.0   0.431185  157071.931908"
      ]
     },
     "metadata": {},
     "output_type": "display_data"
    },
    {
     "name": "stdout",
     "output_type": "stream",
     "text": [
      "\n",
      "See the whole table with table.as_data_frame()\n"
     ]
    },
    {
     "data": {
      "text/plain": []
     },
     "execution_count": 33,
     "metadata": {},
     "output_type": "execute_result"
    }
   ],
   "source": [
    "rank2_model.train(x=predictors,\n",
    "              y=response,\n",
    "              training_frame=df_h)\n"
   ]
  },
  {
   "cell_type": "code",
   "execution_count": 34,
   "id": "48513bd1",
   "metadata": {},
   "outputs": [
    {
     "name": "stdout",
     "output_type": "stream",
     "text": [
      "(1000, 2)\n",
      "2 199\n"
     ]
    }
   ],
   "source": [
    "X = h2o.get_frame(\"rank2_full\")\n",
    "Y = rank2_model.archetypes()\n",
    "print(X.shape)\n",
    "print(len(Y), len(Y[0]))"
   ]
  },
  {
   "cell_type": "code",
   "execution_count": 35,
   "id": "1aef1c1d",
   "metadata": {
    "scrolled": true
   },
   "outputs": [
    {
     "data": {
      "text/html": [
       "<div>\n",
       "<style scoped>\n",
       "    .dataframe tbody tr th:only-of-type {\n",
       "        vertical-align: middle;\n",
       "    }\n",
       "\n",
       "    .dataframe tbody tr th {\n",
       "        vertical-align: top;\n",
       "    }\n",
       "\n",
       "    .dataframe thead th {\n",
       "        text-align: right;\n",
       "    }\n",
       "</style>\n",
       "<table border=\"1\" class=\"dataframe\">\n",
       "  <thead>\n",
       "    <tr style=\"text-align: right;\">\n",
       "      <th></th>\n",
       "      <th>Arch1</th>\n",
       "      <th>Arch2</th>\n",
       "      <th>attribute</th>\n",
       "    </tr>\n",
       "  </thead>\n",
       "  <tbody>\n",
       "    <tr>\n",
       "      <th>0</th>\n",
       "      <td>-0.332548</td>\n",
       "      <td>0.335782</td>\n",
       "      <td>col_1</td>\n",
       "    </tr>\n",
       "    <tr>\n",
       "      <th>1</th>\n",
       "      <td>0.356035</td>\n",
       "      <td>-0.313390</td>\n",
       "      <td>col_2</td>\n",
       "    </tr>\n",
       "    <tr>\n",
       "      <th>2</th>\n",
       "      <td>0.184525</td>\n",
       "      <td>0.007338</td>\n",
       "      <td>col_3</td>\n",
       "    </tr>\n",
       "    <tr>\n",
       "      <th>3</th>\n",
       "      <td>-0.169860</td>\n",
       "      <td>0.103513</td>\n",
       "      <td>col_4</td>\n",
       "    </tr>\n",
       "    <tr>\n",
       "      <th>4</th>\n",
       "      <td>0.050397</td>\n",
       "      <td>-0.026920</td>\n",
       "      <td>col_5</td>\n",
       "    </tr>\n",
       "    <tr>\n",
       "      <th>5</th>\n",
       "      <td>0.068523</td>\n",
       "      <td>-0.009950</td>\n",
       "      <td>col_6</td>\n",
       "    </tr>\n",
       "    <tr>\n",
       "      <th>6</th>\n",
       "      <td>-0.034432</td>\n",
       "      <td>0.118100</td>\n",
       "      <td>col_7</td>\n",
       "    </tr>\n",
       "    <tr>\n",
       "      <th>7</th>\n",
       "      <td>0.078315</td>\n",
       "      <td>-0.070445</td>\n",
       "      <td>col_8</td>\n",
       "    </tr>\n",
       "    <tr>\n",
       "      <th>8</th>\n",
       "      <td>-0.054631</td>\n",
       "      <td>0.147695</td>\n",
       "      <td>col_9</td>\n",
       "    </tr>\n",
       "    <tr>\n",
       "      <th>9</th>\n",
       "      <td>-0.153177</td>\n",
       "      <td>0.212024</td>\n",
       "      <td>col_10</td>\n",
       "    </tr>\n",
       "    <tr>\n",
       "      <th>10</th>\n",
       "      <td>0.787702</td>\n",
       "      <td>-0.728024</td>\n",
       "      <td>col_11</td>\n",
       "    </tr>\n",
       "    <tr>\n",
       "      <th>11</th>\n",
       "      <td>1.871680</td>\n",
       "      <td>-2.089486</td>\n",
       "      <td>col_12</td>\n",
       "    </tr>\n",
       "    <tr>\n",
       "      <th>12</th>\n",
       "      <td>0.118579</td>\n",
       "      <td>-0.069102</td>\n",
       "      <td>col_13</td>\n",
       "    </tr>\n",
       "    <tr>\n",
       "      <th>13</th>\n",
       "      <td>0.255732</td>\n",
       "      <td>-0.145894</td>\n",
       "      <td>col_14</td>\n",
       "    </tr>\n",
       "    <tr>\n",
       "      <th>14</th>\n",
       "      <td>-0.629392</td>\n",
       "      <td>0.712581</td>\n",
       "      <td>col_15</td>\n",
       "    </tr>\n",
       "    <tr>\n",
       "      <th>15</th>\n",
       "      <td>-0.058094</td>\n",
       "      <td>0.140741</td>\n",
       "      <td>col_16</td>\n",
       "    </tr>\n",
       "    <tr>\n",
       "      <th>16</th>\n",
       "      <td>0.185033</td>\n",
       "      <td>-0.167738</td>\n",
       "      <td>col_17</td>\n",
       "    </tr>\n",
       "    <tr>\n",
       "      <th>17</th>\n",
       "      <td>1.831510</td>\n",
       "      <td>-1.851716</td>\n",
       "      <td>col_18</td>\n",
       "    </tr>\n",
       "    <tr>\n",
       "      <th>18</th>\n",
       "      <td>-0.250242</td>\n",
       "      <td>0.146951</td>\n",
       "      <td>col_19</td>\n",
       "    </tr>\n",
       "    <tr>\n",
       "      <th>19</th>\n",
       "      <td>-0.144112</td>\n",
       "      <td>0.182068</td>\n",
       "      <td>col_20</td>\n",
       "    </tr>\n",
       "    <tr>\n",
       "      <th>20</th>\n",
       "      <td>-1.327796</td>\n",
       "      <td>1.239761</td>\n",
       "      <td>col_21</td>\n",
       "    </tr>\n",
       "    <tr>\n",
       "      <th>21</th>\n",
       "      <td>0.545911</td>\n",
       "      <td>-0.350681</td>\n",
       "      <td>col_22</td>\n",
       "    </tr>\n",
       "    <tr>\n",
       "      <th>22</th>\n",
       "      <td>0.883229</td>\n",
       "      <td>-0.838185</td>\n",
       "      <td>col_23</td>\n",
       "    </tr>\n",
       "    <tr>\n",
       "      <th>23</th>\n",
       "      <td>-0.172118</td>\n",
       "      <td>0.265156</td>\n",
       "      <td>col_24</td>\n",
       "    </tr>\n",
       "    <tr>\n",
       "      <th>24</th>\n",
       "      <td>0.323347</td>\n",
       "      <td>-0.371953</td>\n",
       "      <td>col_25</td>\n",
       "    </tr>\n",
       "    <tr>\n",
       "      <th>25</th>\n",
       "      <td>0.081474</td>\n",
       "      <td>-0.000951</td>\n",
       "      <td>col_26</td>\n",
       "    </tr>\n",
       "    <tr>\n",
       "      <th>26</th>\n",
       "      <td>0.097312</td>\n",
       "      <td>-0.139334</td>\n",
       "      <td>col_27</td>\n",
       "    </tr>\n",
       "    <tr>\n",
       "      <th>27</th>\n",
       "      <td>-0.188015</td>\n",
       "      <td>0.164592</td>\n",
       "      <td>col_28</td>\n",
       "    </tr>\n",
       "    <tr>\n",
       "      <th>28</th>\n",
       "      <td>-0.438224</td>\n",
       "      <td>0.439405</td>\n",
       "      <td>col_29</td>\n",
       "    </tr>\n",
       "    <tr>\n",
       "      <th>29</th>\n",
       "      <td>0.203312</td>\n",
       "      <td>-0.121102</td>\n",
       "      <td>col_30</td>\n",
       "    </tr>\n",
       "  </tbody>\n",
       "</table>\n",
       "</div>"
      ],
      "text/plain": [
       "       Arch1     Arch2 attribute\n",
       "0  -0.332548  0.335782     col_1\n",
       "1   0.356035 -0.313390     col_2\n",
       "2   0.184525  0.007338     col_3\n",
       "3  -0.169860  0.103513     col_4\n",
       "4   0.050397 -0.026920     col_5\n",
       "5   0.068523 -0.009950     col_6\n",
       "6  -0.034432  0.118100     col_7\n",
       "7   0.078315 -0.070445     col_8\n",
       "8  -0.054631  0.147695     col_9\n",
       "9  -0.153177  0.212024    col_10\n",
       "10  0.787702 -0.728024    col_11\n",
       "11  1.871680 -2.089486    col_12\n",
       "12  0.118579 -0.069102    col_13\n",
       "13  0.255732 -0.145894    col_14\n",
       "14 -0.629392  0.712581    col_15\n",
       "15 -0.058094  0.140741    col_16\n",
       "16  0.185033 -0.167738    col_17\n",
       "17  1.831510 -1.851716    col_18\n",
       "18 -0.250242  0.146951    col_19\n",
       "19 -0.144112  0.182068    col_20\n",
       "20 -1.327796  1.239761    col_21\n",
       "21  0.545911 -0.350681    col_22\n",
       "22  0.883229 -0.838185    col_23\n",
       "23 -0.172118  0.265156    col_24\n",
       "24  0.323347 -0.371953    col_25\n",
       "25  0.081474 -0.000951    col_26\n",
       "26  0.097312 -0.139334    col_27\n",
       "27 -0.188015  0.164592    col_28\n",
       "28 -0.438224  0.439405    col_29\n",
       "29  0.203312 -0.121102    col_30"
      ]
     },
     "execution_count": 35,
     "metadata": {},
     "output_type": "execute_result"
    }
   ],
   "source": [
    "import pandas as pd\n",
    "\n",
    "archetypes_cols = rank2_model._model_json[\"output\"][\"archetypes\"].as_data_frame().reset_index(drop=True).columns.to_list()\n",
    "archetypes_y = pd.DataFrame({'Arch1':Y[0],'Arch2':Y[1], 'attribute':archetypes_cols[1:]})\n",
    "archetypes_y.head(n=30)"
   ]
  },
  {
   "cell_type": "code",
   "execution_count": 37,
   "id": "acbb3bfa",
   "metadata": {},
   "outputs": [
    {
     "data": {
      "image/png": "[encoded data removed]",
      "text/plain": [
       "<Figure size 1440x1080 with 1 Axes>"
      ]
     },
     "metadata": {
      "needs_background": "light"
     },
     "output_type": "display_data"
    }
   ],
   "source": [
    "from matplotlib.pyplot import figure\n",
    "import random\n",
    "import numpy as np\n",
    "import matplotlib.pyplot as plt\n",
    "def change_axis_range():\n",
    "    # create an integer number array.\n",
    "    x=np.arange(0,50,1)\n",
    "    plt.rcParams['figure.figsize'] = [20, 15]\n",
    "\n",
    "    ax1 = archetypes_y.plot.scatter(x='Arch1',\n",
    "                                y='Arch2',\n",
    "                                c='DarkBlue')\n",
    "    for i, txt in enumerate(archetypes_cols[1:]):\n",
    "        if txt in [\"col_3\",\"col_99\",\"col_9\",\"col_30\",\"col_16\",\"col_7\",\"col_14\"]:\n",
    "            ax1.annotate(txt, (Y[0][i], Y[1][i]))\n",
    "    plt.xlim(xmin=-1.0,xmax=1.0)\n",
    "    plt.ylim(ymin=-2.0,ymax=2.0)\n",
    "    plt.show()\n",
    "if __name__ == '__main__':\n",
    "    \n",
    "    change_axis_range()"
   ]
  },
  {
   "cell_type": "markdown",
   "id": "888acfae",
   "metadata": {},
   "source": [
    "##### col_30 and col_14 are close \n",
    "##### col_7 and col_16 are close\n",
    "##### col_3 and col_99 are close"
   ]
  },
  {
   "cell_type": "code",
   "execution_count": null,
   "id": "6f88482d",
   "metadata": {},
   "outputs": [],
   "source": []
  }
 ],
 "metadata": {
  "kernelspec": {
   "display_name": "Python 3",
   "language": "python",
   "name": "python3"
  },
  "language_info": {
   "codemirror_mode": {
    "name": "ipython",
    "version": 3
   },
   "file_extension": ".py",
   "mimetype": "text/x-python",
   "name": "python",
   "nbconvert_exporter": "python",
   "pygments_lexer": "ipython3",
   "version": "3.8.8"
  }
 },
 "nbformat": 4,
 "nbformat_minor": 5
}
