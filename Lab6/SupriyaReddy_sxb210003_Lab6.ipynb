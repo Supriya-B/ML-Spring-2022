{
 "cells": [
  {
   "cell_type": "markdown",
   "id": "62834763",
   "metadata": {},
   "source": [
    "# Lab-6 Template\n",
    "\n",
    "Answer questions in the designated cells\n",
    "\n",
    "H2O GBM tuning guide:  \n",
    "https://github.com/h2oai/h2o-3/blob/master/h2o-docs/src/product/tutorials/gbm/gbmTuning.ipynb"
   ]
  },
  {
   "cell_type": "markdown",
   "id": "a0c9b618",
   "metadata": {},
   "source": [
    "## Preparation\n",
    "\n",
    "Use dataset provided in the eLearning"
   ]
  },
  {
   "cell_type": "code",
   "execution_count": 1,
   "id": "3ca7e035",
   "metadata": {},
   "outputs": [
    {
     "data": {
      "text/html": [
       "<style>.container { width:80% !important; }</style>"
      ],
      "text/plain": [
       "<IPython.core.display.HTML object>"
      ]
     },
     "metadata": {},
     "output_type": "display_data"
    }
   ],
   "source": [
    "import pandas as pd\n",
    "pd.set_option('display.max_columns', 1500)\n",
    "\n",
    "import warnings\n",
    "warnings.filterwarnings('ignore')\n",
    "\n",
    "#Extend cell width\n",
    "from IPython.core.display import display, HTML\n",
    "display(HTML(\"<style>.container { width:80% !important; }</style>\"))"
   ]
  },
  {
   "cell_type": "code",
   "execution_count": 2,
   "id": "b1b29368",
   "metadata": {},
   "outputs": [],
   "source": [
    "#Run once\n",
    "#!pip install category_encoders\n",
    "from category_encoders.target_encoder import TargetEncoder"
   ]
  },
  {
   "cell_type": "markdown",
   "id": "cee2c254",
   "metadata": {},
   "source": [
    "### Load data"
   ]
  },
  {
   "cell_type": "code",
   "execution_count": 3,
   "id": "a19bd163",
   "metadata": {},
   "outputs": [],
   "source": [
    "#train_df = pd.read_csv('./data/SBA_loans_small.zip')\n",
    "X_train = pd.read_csv('SBA_loans_train.csv')\n",
    "X_test  = pd.read_csv('SBA_loans_test.csv')"
   ]
  },
  {
   "cell_type": "code",
   "execution_count": 4,
   "id": "052d0c31",
   "metadata": {},
   "outputs": [
    {
     "data": {
      "text/html": [
       "<div>\n",
       "<style scoped>\n",
       "    .dataframe tbody tr th:only-of-type {\n",
       "        vertical-align: middle;\n",
       "    }\n",
       "\n",
       "    .dataframe tbody tr th {\n",
       "        vertical-align: top;\n",
       "    }\n",
       "\n",
       "    .dataframe thead th {\n",
       "        text-align: right;\n",
       "    }\n",
       "</style>\n",
       "<table border=\"1\" class=\"dataframe\">\n",
       "  <thead>\n",
       "    <tr style=\"text-align: right;\">\n",
       "      <th></th>\n",
       "      <th>City</th>\n",
       "      <th>State</th>\n",
       "      <th>Zip</th>\n",
       "      <th>Bank</th>\n",
       "      <th>BankState</th>\n",
       "      <th>NAICS</th>\n",
       "      <th>Term</th>\n",
       "      <th>NoEmp</th>\n",
       "      <th>NewExist</th>\n",
       "      <th>CreateJob</th>\n",
       "      <th>RetainedJob</th>\n",
       "      <th>FranchiseCode</th>\n",
       "      <th>UrbanRural</th>\n",
       "      <th>RevLineCr</th>\n",
       "      <th>LowDoc</th>\n",
       "      <th>DisbursementGross</th>\n",
       "      <th>BalanceGross</th>\n",
       "      <th>GrAppv</th>\n",
       "      <th>SBA_Appv</th>\n",
       "      <th>Defaulted</th>\n",
       "    </tr>\n",
       "  </thead>\n",
       "  <tbody>\n",
       "    <tr>\n",
       "      <th>0</th>\n",
       "      <td>Huntsville</td>\n",
       "      <td>AL</td>\n",
       "      <td>35811</td>\n",
       "      <td>BUSINESS LOAN CENTER, LLC</td>\n",
       "      <td>FL</td>\n",
       "      <td>621310</td>\n",
       "      <td>73</td>\n",
       "      <td>1</td>\n",
       "      <td>2.0</td>\n",
       "      <td>2</td>\n",
       "      <td>1</td>\n",
       "      <td>0</td>\n",
       "      <td>1</td>\n",
       "      <td>N</td>\n",
       "      <td>N</td>\n",
       "      <td>25000.0</td>\n",
       "      <td>0.0</td>\n",
       "      <td>25000.0</td>\n",
       "      <td>21250.0</td>\n",
       "      <td>1</td>\n",
       "    </tr>\n",
       "    <tr>\n",
       "      <th>1</th>\n",
       "      <td>SCOTTSDALE</td>\n",
       "      <td>AZ</td>\n",
       "      <td>85254</td>\n",
       "      <td>WELLS FARGO BANK NATL ASSOC</td>\n",
       "      <td>CA</td>\n",
       "      <td>0</td>\n",
       "      <td>84</td>\n",
       "      <td>3</td>\n",
       "      <td>2.0</td>\n",
       "      <td>0</td>\n",
       "      <td>0</td>\n",
       "      <td>0</td>\n",
       "      <td>0</td>\n",
       "      <td>N</td>\n",
       "      <td>N</td>\n",
       "      <td>52000.0</td>\n",
       "      <td>0.0</td>\n",
       "      <td>52000.0</td>\n",
       "      <td>46800.0</td>\n",
       "      <td>1</td>\n",
       "    </tr>\n",
       "    <tr>\n",
       "      <th>2</th>\n",
       "      <td>BANGOR</td>\n",
       "      <td>ME</td>\n",
       "      <td>4401</td>\n",
       "      <td>BANGOR SAVINGS BANK</td>\n",
       "      <td>ME</td>\n",
       "      <td>323110</td>\n",
       "      <td>84</td>\n",
       "      <td>9</td>\n",
       "      <td>1.0</td>\n",
       "      <td>0</td>\n",
       "      <td>0</td>\n",
       "      <td>1</td>\n",
       "      <td>1</td>\n",
       "      <td>0</td>\n",
       "      <td>Y</td>\n",
       "      <td>150000.0</td>\n",
       "      <td>0.0</td>\n",
       "      <td>150000.0</td>\n",
       "      <td>127500.0</td>\n",
       "      <td>0</td>\n",
       "    </tr>\n",
       "  </tbody>\n",
       "</table>\n",
       "</div>"
      ],
      "text/plain": [
       "         City State    Zip                         Bank BankState   NAICS  \\\n",
       "0  Huntsville    AL  35811    BUSINESS LOAN CENTER, LLC        FL  621310   \n",
       "1  SCOTTSDALE    AZ  85254  WELLS FARGO BANK NATL ASSOC        CA       0   \n",
       "2      BANGOR    ME   4401          BANGOR SAVINGS BANK        ME  323110   \n",
       "\n",
       "   Term  NoEmp  NewExist  CreateJob  RetainedJob  FranchiseCode  UrbanRural  \\\n",
       "0    73      1       2.0          2            1              0           1   \n",
       "1    84      3       2.0          0            0              0           0   \n",
       "2    84      9       1.0          0            0              1           1   \n",
       "\n",
       "  RevLineCr LowDoc  DisbursementGross  BalanceGross    GrAppv  SBA_Appv  \\\n",
       "0         N      N            25000.0           0.0   25000.0   21250.0   \n",
       "1         N      N            52000.0           0.0   52000.0   46800.0   \n",
       "2         0      Y           150000.0           0.0  150000.0  127500.0   \n",
       "\n",
       "   Defaulted  \n",
       "0          1  \n",
       "1          1  \n",
       "2          0  "
      ]
     },
     "execution_count": 4,
     "metadata": {},
     "output_type": "execute_result"
    }
   ],
   "source": [
    "X_train.head(n=3)"
   ]
  },
  {
   "cell_type": "code",
   "execution_count": 5,
   "id": "2301a5ed",
   "metadata": {},
   "outputs": [
    {
     "name": "stdout",
     "output_type": "stream",
     "text": [
      "Train shape: (337186, 20)\n",
      "Test shape: (112396, 20)\n"
     ]
    }
   ],
   "source": [
    "print(\"Train shape:\", X_train.shape)\n",
    "print(\"Test shape:\", X_test.shape)"
   ]
  },
  {
   "cell_type": "code",
   "execution_count": 6,
   "id": "2f8dba68",
   "metadata": {},
   "outputs": [
    {
     "name": "stdout",
     "output_type": "stream",
     "text": [
      "<class 'pandas.core.frame.DataFrame'>\n",
      "RangeIndex: 337186 entries, 0 to 337185\n",
      "Data columns (total 20 columns):\n",
      " #   Column             Non-Null Count   Dtype  \n",
      "---  ------             --------------   -----  \n",
      " 0   City               337177 non-null  object \n",
      " 1   State              337180 non-null  object \n",
      " 2   Zip                337186 non-null  int64  \n",
      " 3   Bank               336587 non-null  object \n",
      " 4   BankState          336583 non-null  object \n",
      " 5   NAICS              337186 non-null  int64  \n",
      " 6   Term               337186 non-null  int64  \n",
      " 7   NoEmp              337186 non-null  int64  \n",
      " 8   NewExist           337140 non-null  float64\n",
      " 9   CreateJob          337186 non-null  int64  \n",
      " 10  RetainedJob        337186 non-null  int64  \n",
      " 11  FranchiseCode      337186 non-null  int64  \n",
      " 12  UrbanRural         337186 non-null  int64  \n",
      " 13  RevLineCr          335483 non-null  object \n",
      " 14  LowDoc             336198 non-null  object \n",
      " 15  DisbursementGross  337186 non-null  float64\n",
      " 16  BalanceGross       337186 non-null  float64\n",
      " 17  GrAppv             337186 non-null  float64\n",
      " 18  SBA_Appv           337186 non-null  float64\n",
      " 19  Defaulted          337186 non-null  int64  \n",
      "dtypes: float64(5), int64(9), object(6)\n",
      "memory usage: 51.5+ MB\n"
     ]
    }
   ],
   "source": [
    "X_train.info()"
   ]
  },
  {
   "cell_type": "markdown",
   "id": "7bb0bfa4",
   "metadata": {},
   "source": [
    "# Prepare Dataset\n",
    "\n",
    "Replace missing values for all columns for both X_train and X_test.\n",
    "Replace Na's with zero for numerical variables and with \"Missing\" for categorical\n",
    "\n",
    "Encode Categorical variables using target encoder."
   ]
  },
  {
   "cell_type": "code",
   "execution_count": 7,
   "id": "c5fcdc63",
   "metadata": {},
   "outputs": [],
   "source": [
    "values_to_fill = {}\n",
    "for col in X_train.drop(columns=['Defaulted']).columns:\n",
    "    if X_train[col].dtype == 'object':\n",
    "        values_to_fill[col] = \"Missing\"\n",
    "    else:\n",
    "        values_to_fill[col] = 0\n",
    "\n",
    "X_train.fillna(value=values_to_fill,inplace=True)\n",
    "X_test.fillna(value=values_to_fill, inplace=True)\n",
    "\n",
    "cols_to_encode = []\n",
    "cat_encoders = {}\n",
    "for col in X_train.drop(columns=['Defaulted']).columns:\n",
    "  if X_train[col].dtype == 'object':\n",
    "    cols_to_encode.append(col)\n",
    "    \n",
    "#Add Zip to categoricals and convert to string in order to make encoder work\n",
    "cols_to_encode.append(\"Zip\")\n",
    "X_train[\"Zip\"] = X_train[\"Zip\"].apply(str)\n",
    "X_test[\"Zip\"] = X_test[\"Zip\"].apply(str)\n",
    "\n",
    "te = TargetEncoder()\n",
    "Y_tr = X_train[\"Defaulted\"]\n",
    "Y_tst = X_test[\"Defaulted\"]\n",
    "te.fit(X_train[cols_to_encode],Y_tr)\n",
    "\n",
    "X_train_te = te.transform(X_train[cols_to_encode])\n",
    "X_test_te = te.transform(X_test[cols_to_encode])\n",
    "\n",
    "new_col_names = [col+\"_te\" for col in cols_to_encode]\n",
    "X_train_te.columns = new_col_names\n",
    "X_test_te.columns = new_col_names\n",
    "\n",
    "X_tr = X_train_te.join(X_train)\n",
    "X_tst = X_test_te.join(X_test)\n",
    "\n",
    "X_tr.drop(columns=cols_to_encode+[\"Defaulted\"],inplace=True, axis=1)\n",
    "X_tst.drop(columns=cols_to_encode+[\"Defaulted\"],inplace=True, axis=1)"
   ]
  },
  {
   "cell_type": "code",
   "execution_count": 8,
   "id": "fe36a551",
   "metadata": {},
   "outputs": [
    {
     "data": {
      "text/html": [
       "<div>\n",
       "<style scoped>\n",
       "    .dataframe tbody tr th:only-of-type {\n",
       "        vertical-align: middle;\n",
       "    }\n",
       "\n",
       "    .dataframe tbody tr th {\n",
       "        vertical-align: top;\n",
       "    }\n",
       "\n",
       "    .dataframe thead th {\n",
       "        text-align: right;\n",
       "    }\n",
       "</style>\n",
       "<table border=\"1\" class=\"dataframe\">\n",
       "  <thead>\n",
       "    <tr style=\"text-align: right;\">\n",
       "      <th></th>\n",
       "      <th>City_te</th>\n",
       "      <th>State_te</th>\n",
       "      <th>Bank_te</th>\n",
       "      <th>BankState_te</th>\n",
       "      <th>RevLineCr_te</th>\n",
       "      <th>LowDoc_te</th>\n",
       "      <th>Zip_te</th>\n",
       "      <th>NAICS</th>\n",
       "      <th>Term</th>\n",
       "      <th>NoEmp</th>\n",
       "      <th>NewExist</th>\n",
       "      <th>CreateJob</th>\n",
       "      <th>RetainedJob</th>\n",
       "      <th>FranchiseCode</th>\n",
       "      <th>UrbanRural</th>\n",
       "      <th>DisbursementGross</th>\n",
       "      <th>BalanceGross</th>\n",
       "      <th>GrAppv</th>\n",
       "      <th>SBA_Appv</th>\n",
       "    </tr>\n",
       "  </thead>\n",
       "  <tbody>\n",
       "    <tr>\n",
       "      <th>0</th>\n",
       "      <td>0.380952</td>\n",
       "      <td>0.167744</td>\n",
       "      <td>0.308181</td>\n",
       "      <td>0.158105</td>\n",
       "      <td>0.146342</td>\n",
       "      <td>0.186457</td>\n",
       "      <td>0.347826</td>\n",
       "      <td>621310</td>\n",
       "      <td>73</td>\n",
       "      <td>1</td>\n",
       "      <td>2.0</td>\n",
       "      <td>2</td>\n",
       "      <td>1</td>\n",
       "      <td>0</td>\n",
       "      <td>1</td>\n",
       "      <td>25000.0</td>\n",
       "      <td>0.0</td>\n",
       "      <td>25000.0</td>\n",
       "      <td>21250.0</td>\n",
       "    </tr>\n",
       "    <tr>\n",
       "      <th>1</th>\n",
       "      <td>0.191919</td>\n",
       "      <td>0.200634</td>\n",
       "      <td>0.138341</td>\n",
       "      <td>0.221678</td>\n",
       "      <td>0.146342</td>\n",
       "      <td>0.186457</td>\n",
       "      <td>0.228916</td>\n",
       "      <td>0</td>\n",
       "      <td>84</td>\n",
       "      <td>3</td>\n",
       "      <td>2.0</td>\n",
       "      <td>0</td>\n",
       "      <td>0</td>\n",
       "      <td>0</td>\n",
       "      <td>0</td>\n",
       "      <td>52000.0</td>\n",
       "      <td>0.0</td>\n",
       "      <td>52000.0</td>\n",
       "      <td>46800.0</td>\n",
       "    </tr>\n",
       "    <tr>\n",
       "      <th>2</th>\n",
       "      <td>0.125984</td>\n",
       "      <td>0.096586</td>\n",
       "      <td>0.062500</td>\n",
       "      <td>0.076696</td>\n",
       "      <td>0.149252</td>\n",
       "      <td>0.090740</td>\n",
       "      <td>0.088889</td>\n",
       "      <td>323110</td>\n",
       "      <td>84</td>\n",
       "      <td>9</td>\n",
       "      <td>1.0</td>\n",
       "      <td>0</td>\n",
       "      <td>0</td>\n",
       "      <td>1</td>\n",
       "      <td>1</td>\n",
       "      <td>150000.0</td>\n",
       "      <td>0.0</td>\n",
       "      <td>150000.0</td>\n",
       "      <td>127500.0</td>\n",
       "    </tr>\n",
       "  </tbody>\n",
       "</table>\n",
       "</div>"
      ],
      "text/plain": [
       "    City_te  State_te   Bank_te  BankState_te  RevLineCr_te  LowDoc_te  \\\n",
       "0  0.380952  0.167744  0.308181      0.158105      0.146342   0.186457   \n",
       "1  0.191919  0.200634  0.138341      0.221678      0.146342   0.186457   \n",
       "2  0.125984  0.096586  0.062500      0.076696      0.149252   0.090740   \n",
       "\n",
       "     Zip_te   NAICS  Term  NoEmp  NewExist  CreateJob  RetainedJob  \\\n",
       "0  0.347826  621310    73      1       2.0          2            1   \n",
       "1  0.228916       0    84      3       2.0          0            0   \n",
       "2  0.088889  323110    84      9       1.0          0            0   \n",
       "\n",
       "   FranchiseCode  UrbanRural  DisbursementGross  BalanceGross    GrAppv  \\\n",
       "0              0           1            25000.0           0.0   25000.0   \n",
       "1              0           0            52000.0           0.0   52000.0   \n",
       "2              1           1           150000.0           0.0  150000.0   \n",
       "\n",
       "   SBA_Appv  \n",
       "0   21250.0  \n",
       "1   46800.0  \n",
       "2  127500.0  "
      ]
     },
     "execution_count": 8,
     "metadata": {},
     "output_type": "execute_result"
    }
   ],
   "source": [
    "X_tr.head(n=3)"
   ]
  },
  {
   "cell_type": "code",
   "execution_count": 9,
   "id": "cb9bbc16",
   "metadata": {},
   "outputs": [
    {
     "data": {
      "text/html": [
       "<div>\n",
       "<style scoped>\n",
       "    .dataframe tbody tr th:only-of-type {\n",
       "        vertical-align: middle;\n",
       "    }\n",
       "\n",
       "    .dataframe tbody tr th {\n",
       "        vertical-align: top;\n",
       "    }\n",
       "\n",
       "    .dataframe thead th {\n",
       "        text-align: right;\n",
       "    }\n",
       "</style>\n",
       "<table border=\"1\" class=\"dataframe\">\n",
       "  <thead>\n",
       "    <tr style=\"text-align: right;\">\n",
       "      <th></th>\n",
       "      <th>City_te</th>\n",
       "      <th>State_te</th>\n",
       "      <th>Bank_te</th>\n",
       "      <th>BankState_te</th>\n",
       "      <th>RevLineCr_te</th>\n",
       "      <th>LowDoc_te</th>\n",
       "      <th>Zip_te</th>\n",
       "      <th>NAICS</th>\n",
       "      <th>Term</th>\n",
       "      <th>NoEmp</th>\n",
       "      <th>NewExist</th>\n",
       "      <th>CreateJob</th>\n",
       "      <th>RetainedJob</th>\n",
       "      <th>FranchiseCode</th>\n",
       "      <th>UrbanRural</th>\n",
       "      <th>DisbursementGross</th>\n",
       "      <th>BalanceGross</th>\n",
       "      <th>GrAppv</th>\n",
       "      <th>SBA_Appv</th>\n",
       "    </tr>\n",
       "  </thead>\n",
       "  <tbody>\n",
       "    <tr>\n",
       "      <th>0</th>\n",
       "      <td>0.083335</td>\n",
       "      <td>0.224163</td>\n",
       "      <td>0.073593</td>\n",
       "      <td>0.222704</td>\n",
       "      <td>0.146342</td>\n",
       "      <td>0.090740</td>\n",
       "      <td>0.090913</td>\n",
       "      <td>0</td>\n",
       "      <td>84</td>\n",
       "      <td>1</td>\n",
       "      <td>2.0</td>\n",
       "      <td>0</td>\n",
       "      <td>0</td>\n",
       "      <td>1</td>\n",
       "      <td>0</td>\n",
       "      <td>42000.0</td>\n",
       "      <td>0.0</td>\n",
       "      <td>42000.0</td>\n",
       "      <td>33600.0</td>\n",
       "    </tr>\n",
       "    <tr>\n",
       "      <th>1</th>\n",
       "      <td>0.128531</td>\n",
       "      <td>0.149706</td>\n",
       "      <td>0.138341</td>\n",
       "      <td>0.175423</td>\n",
       "      <td>0.146342</td>\n",
       "      <td>0.186457</td>\n",
       "      <td>0.170732</td>\n",
       "      <td>0</td>\n",
       "      <td>84</td>\n",
       "      <td>7</td>\n",
       "      <td>1.0</td>\n",
       "      <td>0</td>\n",
       "      <td>0</td>\n",
       "      <td>1</td>\n",
       "      <td>0</td>\n",
       "      <td>15000.0</td>\n",
       "      <td>0.0</td>\n",
       "      <td>15000.0</td>\n",
       "      <td>13500.0</td>\n",
       "    </tr>\n",
       "    <tr>\n",
       "      <th>2</th>\n",
       "      <td>0.170213</td>\n",
       "      <td>0.224163</td>\n",
       "      <td>0.000000</td>\n",
       "      <td>0.222704</td>\n",
       "      <td>0.146342</td>\n",
       "      <td>0.186457</td>\n",
       "      <td>0.229167</td>\n",
       "      <td>0</td>\n",
       "      <td>240</td>\n",
       "      <td>19</td>\n",
       "      <td>1.0</td>\n",
       "      <td>15</td>\n",
       "      <td>0</td>\n",
       "      <td>1</td>\n",
       "      <td>0</td>\n",
       "      <td>497000.0</td>\n",
       "      <td>0.0</td>\n",
       "      <td>497000.0</td>\n",
       "      <td>497000.0</td>\n",
       "    </tr>\n",
       "  </tbody>\n",
       "</table>\n",
       "</div>"
      ],
      "text/plain": [
       "    City_te  State_te   Bank_te  BankState_te  RevLineCr_te  LowDoc_te  \\\n",
       "0  0.083335  0.224163  0.073593      0.222704      0.146342   0.090740   \n",
       "1  0.128531  0.149706  0.138341      0.175423      0.146342   0.186457   \n",
       "2  0.170213  0.224163  0.000000      0.222704      0.146342   0.186457   \n",
       "\n",
       "     Zip_te  NAICS  Term  NoEmp  NewExist  CreateJob  RetainedJob  \\\n",
       "0  0.090913      0    84      1       2.0          0            0   \n",
       "1  0.170732      0    84      7       1.0          0            0   \n",
       "2  0.229167      0   240     19       1.0         15            0   \n",
       "\n",
       "   FranchiseCode  UrbanRural  DisbursementGross  BalanceGross    GrAppv  \\\n",
       "0              1           0            42000.0           0.0   42000.0   \n",
       "1              1           0            15000.0           0.0   15000.0   \n",
       "2              1           0           497000.0           0.0  497000.0   \n",
       "\n",
       "   SBA_Appv  \n",
       "0   33600.0  \n",
       "1   13500.0  \n",
       "2  497000.0  "
      ]
     },
     "execution_count": 9,
     "metadata": {},
     "output_type": "execute_result"
    }
   ],
   "source": [
    "X_tst.head(n=3)"
   ]
  },
  {
   "cell_type": "code",
   "execution_count": 10,
   "id": "f57f71ed",
   "metadata": {},
   "outputs": [
    {
     "name": "stdout",
     "output_type": "stream",
     "text": [
      "Train shape: (337186, 19)\n",
      "Test shape: (112396, 19)\n"
     ]
    }
   ],
   "source": [
    "print(\"Train shape:\", X_tr.shape)\n",
    "print(\"Test shape:\", X_tst.shape)"
   ]
  },
  {
   "cell_type": "markdown",
   "id": "9525a1da",
   "metadata": {},
   "source": [
    "## Datasets for all questions\n",
    "\n",
    "For all questions, use X_tr and X_tst (after categorical variables encoding)."
   ]
  },
  {
   "cell_type": "code",
   "execution_count": null,
   "id": "f76a7e08",
   "metadata": {},
   "outputs": [],
   "source": []
  },
  {
   "cell_type": "markdown",
   "id": "bd38736a",
   "metadata": {},
   "source": [
    "## Question 1 - 2 points\n",
    "\n",
    "Train sklearn `GradientBoostingClassifier` with default parameters and `random_state=0`.\n",
    "Display:\n",
    "- AUC on Testing data\n",
    "- Accuracy on Testing data\n",
    "- Number of trees for the trained classifier"
   ]
  },
  {
   "cell_type": "code",
   "execution_count": 11,
   "id": "931bec64",
   "metadata": {},
   "outputs": [],
   "source": [
    "from sklearn.ensemble import GradientBoostingClassifier\n",
    "from sklearn.metrics import roc_auc_score,accuracy_score,f1_score,precision_score,recall_score\n",
    "clf = GradientBoostingClassifier(random_state = 0).fit(X_tr, Y_tr)\n"
   ]
  },
  {
   "cell_type": "code",
   "execution_count": 12,
   "id": "4e47f219",
   "metadata": {
    "scrolled": true
   },
   "outputs": [],
   "source": [
    "y_true = list(Y_tst)\n",
    "y_tst_pred = clf.predict(X_tst)"
   ]
  },
  {
   "cell_type": "code",
   "execution_count": 13,
   "id": "e1b75fd5",
   "metadata": {
    "scrolled": true
   },
   "outputs": [
    {
     "data": {
      "text/html": [
       "<div>\n",
       "<style scoped>\n",
       "    .dataframe tbody tr th:only-of-type {\n",
       "        vertical-align: middle;\n",
       "    }\n",
       "\n",
       "    .dataframe tbody tr th {\n",
       "        vertical-align: top;\n",
       "    }\n",
       "\n",
       "    .dataframe thead th {\n",
       "        text-align: right;\n",
       "    }\n",
       "</style>\n",
       "<table border=\"1\" class=\"dataframe\">\n",
       "  <thead>\n",
       "    <tr style=\"text-align: right;\">\n",
       "      <th></th>\n",
       "      <th>Gradient Boosting with default parameters</th>\n",
       "    </tr>\n",
       "  </thead>\n",
       "  <tbody>\n",
       "    <tr>\n",
       "      <th>Accuracy Score</th>\n",
       "      <td>0.919036</td>\n",
       "    </tr>\n",
       "    <tr>\n",
       "      <th>AUC score</th>\n",
       "      <td>0.819500</td>\n",
       "    </tr>\n",
       "    <tr>\n",
       "      <th>F1 score</th>\n",
       "      <td>0.915259</td>\n",
       "    </tr>\n",
       "    <tr>\n",
       "      <th>precision score</th>\n",
       "      <td>0.838860</td>\n",
       "    </tr>\n",
       "    <tr>\n",
       "      <th>Recall score</th>\n",
       "      <td>0.666210</td>\n",
       "    </tr>\n",
       "  </tbody>\n",
       "</table>\n",
       "</div>"
      ],
      "text/plain": [
       "                 Gradient Boosting with default parameters\n",
       "Accuracy Score                                    0.919036\n",
       "AUC score                                         0.819500\n",
       "F1 score                                          0.915259\n",
       "precision score                                   0.838860\n",
       "Recall score                                      0.666210"
      ]
     },
     "execution_count": 13,
     "metadata": {},
     "output_type": "execute_result"
    }
   ],
   "source": [
    "result = pd.DataFrame({\"Gradient Boosting with default parameters\":[accuracy_score(y_true,y_tst_pred),\n",
    "                                                                  roc_auc_score(y_true,y_tst_pred),\n",
    "                                                                  f1_score(y_true,y_tst_pred,average='weighted'),\n",
    "                                                                  precision_score(y_true,y_tst_pred),\n",
    "                                                                  recall_score(y_true,y_tst_pred)]},index =['Accuracy Score','AUC score','F1 score',\n",
    "                                                                                                          'precision score','Recall score'])\n",
    "\n",
    "result"
   ]
  },
  {
   "cell_type": "markdown",
   "id": "1ed7052e",
   "metadata": {},
   "source": [
    "The AUC on testing data is 0.819500. \n",
    "The Accuracy on testing data is 0.919036"
   ]
  },
  {
   "cell_type": "code",
   "execution_count": 14,
   "id": "e331fa46",
   "metadata": {},
   "outputs": [
    {
     "name": "stdout",
     "output_type": "stream",
     "text": [
      "The number of trees for the trained classifier: 100\n"
     ]
    }
   ],
   "source": [
    "print(\"The number of trees for the trained classifier:\",clf.n_estimators)         "
   ]
  },
  {
   "cell_type": "markdown",
   "id": "1e07fd52",
   "metadata": {},
   "source": [
    "## Question 2 - 3 points\n",
    "\n",
    "Train sklearn `GradientBoostingClassifier` with following parameters:\n",
    "```\n",
    "n_estimators=1000, \n",
    "learning_rate=0.1,\n",
    "subsample=0.8,\n",
    "max_features=0.8,\n",
    "n_iter_no_change=5,\n",
    "max_depth=3, \n",
    "random_state=0\n",
    "```\n",
    "\n",
    "Display:\n",
    "- AUC on Testing data\n",
    "- Accuracy on Testing data\n",
    "- Number of trees for the trained classifier"
   ]
  },
  {
   "cell_type": "code",
   "execution_count": 15,
   "id": "41010967",
   "metadata": {},
   "outputs": [],
   "source": [
    "clf_new = GradientBoostingClassifier(n_estimators = 1000, learning_rate = 0.1,\n",
    "                                     subsample = 0.8, max_features = 0.8,\n",
    "                                     n_iter_no_change = 5, max_depth = 3,\n",
    "                                     random_state = 0).fit(X_tr, Y_tr)"
   ]
  },
  {
   "cell_type": "code",
   "execution_count": 16,
   "id": "736c0e7e",
   "metadata": {},
   "outputs": [],
   "source": [
    "y_tst_predict = clf_new.predict(X_tst)"
   ]
  },
  {
   "cell_type": "code",
   "execution_count": 17,
   "id": "dd562302",
   "metadata": {
    "scrolled": true
   },
   "outputs": [
    {
     "data": {
      "text/html": [
       "<div>\n",
       "<style scoped>\n",
       "    .dataframe tbody tr th:only-of-type {\n",
       "        vertical-align: middle;\n",
       "    }\n",
       "\n",
       "    .dataframe tbody tr th {\n",
       "        vertical-align: top;\n",
       "    }\n",
       "\n",
       "    .dataframe thead th {\n",
       "        text-align: right;\n",
       "    }\n",
       "</style>\n",
       "<table border=\"1\" class=\"dataframe\">\n",
       "  <thead>\n",
       "    <tr style=\"text-align: right;\">\n",
       "      <th></th>\n",
       "      <th>Gradient Boosting with default parameters</th>\n",
       "    </tr>\n",
       "  </thead>\n",
       "  <tbody>\n",
       "    <tr>\n",
       "      <th>Accuracy Score</th>\n",
       "      <td>0.933005</td>\n",
       "    </tr>\n",
       "    <tr>\n",
       "      <th>AUC score</th>\n",
       "      <td>0.855718</td>\n",
       "    </tr>\n",
       "    <tr>\n",
       "      <th>F1 score</th>\n",
       "      <td>0.930903</td>\n",
       "    </tr>\n",
       "    <tr>\n",
       "      <th>precision score</th>\n",
       "      <td>0.861142</td>\n",
       "    </tr>\n",
       "    <tr>\n",
       "      <th>Recall score</th>\n",
       "      <td>0.736693</td>\n",
       "    </tr>\n",
       "  </tbody>\n",
       "</table>\n",
       "</div>"
      ],
      "text/plain": [
       "                 Gradient Boosting with default parameters\n",
       "Accuracy Score                                    0.933005\n",
       "AUC score                                         0.855718\n",
       "F1 score                                          0.930903\n",
       "precision score                                   0.861142\n",
       "Recall score                                      0.736693"
      ]
     },
     "execution_count": 17,
     "metadata": {},
     "output_type": "execute_result"
    }
   ],
   "source": [
    "result = pd.DataFrame({\"Gradient Boosting with default parameters\":[accuracy_score(y_true,y_tst_predict),\n",
    "                                                                  roc_auc_score(y_true,y_tst_predict),\n",
    "                                                                  f1_score(y_true,y_tst_predict,average='weighted'),\n",
    "                                                                  precision_score(y_true,y_tst_predict),\n",
    "                                                                  recall_score(y_true,y_tst_predict)]},index =['Accuracy Score','AUC score','F1 score',\n",
    "                                                                                                          'precision score','Recall score'])\n",
    "\n",
    "result"
   ]
  },
  {
   "cell_type": "markdown",
   "id": "9b4dc829",
   "metadata": {},
   "source": [
    "The AUC on testing data is 0.855718. The Accuracy on testing data is 0.933005"
   ]
  },
  {
   "cell_type": "code",
   "execution_count": 18,
   "id": "f2d237d6",
   "metadata": {},
   "outputs": [
    {
     "name": "stdout",
     "output_type": "stream",
     "text": [
      "The number of trees for the trained classifier: 1000\n"
     ]
    }
   ],
   "source": [
    "print(\"The number of trees for the trained classifier:\",clf_new.n_estimators)         "
   ]
  },
  {
   "cell_type": "markdown",
   "id": "1dffac0f",
   "metadata": {},
   "source": [
    "## Question 3 - 10 points\n",
    "\n",
    "Use Grid search to train at least 16 `GradientBoostingClassifier`. Tune following parameters, set `random_state=0`:\n",
    "```\n",
    "n_estimators, \n",
    "learning_rate,\n",
    "subsample,\n",
    "max_features,\n",
    "n_iter_no_change,\n",
    "max_depth, \n",
    "```\n",
    "Your grid search should be performed using CV=3.\n",
    "To speed up training process, set `n_jobs` to number of available cores on your machine. For example, if you have 8 CPU/Core machine, set `n_jobs=4` or `n_jobs=6`\n",
    "\n",
    "For the best model (based on AUC) display:\n",
    "- Model parameters\n",
    "- AUC on Testing data\n",
    "- Accuracy on Testing data\n",
    "- Number of trees for the trained classifier\n",
    "\n",
    "**Important**: It will take long time to train models, you will be training at least 16x3=48 models. Test that your Grid search works with small subset of the data first.\n",
    "\n",
    "Once you have trained the Grid object, save it to the disk so that you can retrieve  it without going through re-train step. You can find example on how to save model in the Project 1 template.\n",
    "\n",
    "For the best model, display:\n",
    "- AUC on Testing data\n",
    "- Accuracy on Testing data\n",
    "- Number of trees for the trained classifier\n",
    "\n",
    "**Optional** questions (if you plan to practice data science, you should make every effort to answer them): \n",
    "- Why do you think number of trees for the best model is less than `n_estimators`?\n",
    "- Think about all parameters you are tuning using grid search.\n",
    "- How are those parameters help to reduce overfit? "
   ]
  },
  {
   "cell_type": "code",
   "execution_count": 19,
   "id": "9651ea20",
   "metadata": {},
   "outputs": [],
   "source": [
    "from sklearn.model_selection import GridSearchCV\n",
    "from sklearn.metrics import make_scorer"
   ]
  },
  {
   "cell_type": "code",
   "execution_count": 20,
   "id": "e2e299bc",
   "metadata": {},
   "outputs": [],
   "source": [
    "gbc = GradientBoostingClassifier(random_state =0)\n",
    "#gbc_default = GradientBoostingClassifier().fit(X_tr, Y_tr)"
   ]
  },
  {
   "cell_type": "code",
   "execution_count": 25,
   "id": "b76cb042",
   "metadata": {},
   "outputs": [],
   "source": [
    "param_gbc = {\n",
    "    'n_estimators':[200,400],\n",
    "    'learning_rate':[0.2,0.3],\n",
    "    'subsample':[0.5,1.0],\n",
    "    'max_features':['sqrt'],\n",
    "    'n_iter_no_change':[3,4],\n",
    "    'max_depth':[4,5]\n",
    "}\n",
    "\n",
    "\n",
    "\n",
    "Grid_gbc = GridSearchCV(estimator=gbc, param_grid = param_gbc, scoring='roc_auc',cv = 3, n_jobs = 2)\n",
    "\n"
   ]
  },
  {
   "cell_type": "markdown",
   "id": "a25ea7c8",
   "metadata": {},
   "source": [
    "max_depth --> To control over-fitting as higher depth will allow model to learn relations very specific to a particular sample.\n",
    "max_features --> square root of the total number of features works great.\n",
    "learning_rate --> Lower values make the model robust to the specific characteristics of tree and allows it to generalize well.\n",
    "n_estimators --> Though GBM is fairly robust at higher number of trees but it can still overfit at a point. so,it should be tuned using CV for a particular learning rate.\n",
    "subsample --> Values slightly less than 1 make the model robust by reducing the variance.\n"
   ]
  },
  {
   "cell_type": "code",
   "execution_count": 26,
   "id": "8af735e5",
   "metadata": {},
   "outputs": [],
   "source": [
    "grid_fit = Grid_gbc.fit(X_tr, Y_tr)"
   ]
  },
  {
   "cell_type": "code",
   "execution_count": 27,
   "id": "189a201e",
   "metadata": {},
   "outputs": [],
   "source": [
    "y_test_predicted = grid_fit.predict(X_tst)"
   ]
  },
  {
   "cell_type": "code",
   "execution_count": 28,
   "id": "3b2fd51a",
   "metadata": {},
   "outputs": [
    {
     "data": {
      "text/html": [
       "<div>\n",
       "<style scoped>\n",
       "    .dataframe tbody tr th:only-of-type {\n",
       "        vertical-align: middle;\n",
       "    }\n",
       "\n",
       "    .dataframe tbody tr th {\n",
       "        vertical-align: top;\n",
       "    }\n",
       "\n",
       "    .dataframe thead th {\n",
       "        text-align: right;\n",
       "    }\n",
       "</style>\n",
       "<table border=\"1\" class=\"dataframe\">\n",
       "  <thead>\n",
       "    <tr style=\"text-align: right;\">\n",
       "      <th></th>\n",
       "      <th>Gradient Boosting with default parameters</th>\n",
       "    </tr>\n",
       "  </thead>\n",
       "  <tbody>\n",
       "    <tr>\n",
       "      <th>Accuracy Score</th>\n",
       "      <td>0.936012</td>\n",
       "    </tr>\n",
       "    <tr>\n",
       "      <th>AUC score</th>\n",
       "      <td>0.861277</td>\n",
       "    </tr>\n",
       "    <tr>\n",
       "      <th>F1 score</th>\n",
       "      <td>0.934032</td>\n",
       "    </tr>\n",
       "    <tr>\n",
       "      <th>precision score</th>\n",
       "      <td>0.870376</td>\n",
       "    </tr>\n",
       "    <tr>\n",
       "      <th>Recall score</th>\n",
       "      <td>0.746182</td>\n",
       "    </tr>\n",
       "  </tbody>\n",
       "</table>\n",
       "</div>"
      ],
      "text/plain": [
       "                 Gradient Boosting with default parameters\n",
       "Accuracy Score                                    0.936012\n",
       "AUC score                                         0.861277\n",
       "F1 score                                          0.934032\n",
       "precision score                                   0.870376\n",
       "Recall score                                      0.746182"
      ]
     },
     "execution_count": 28,
     "metadata": {},
     "output_type": "execute_result"
    }
   ],
   "source": [
    "result_final = pd.DataFrame({\"Gradient Boosting with default parameters\":[accuracy_score(y_true,y_test_predicted),\n",
    "                                                                  roc_auc_score(y_true,y_test_predicted),\n",
    "                                                                  f1_score(y_true,y_test_predicted,average='weighted'),\n",
    "                                                                  precision_score(y_true,y_test_predicted),\n",
    "                                                                  recall_score(y_true,y_test_predicted)]},index =['Accuracy Score','AUC score','F1 score',\n",
    "                                                                                                          'precision score','Recall score'])\n",
    "\n",
    "result_final"
   ]
  },
  {
   "cell_type": "code",
   "execution_count": 29,
   "id": "7a27a0db",
   "metadata": {},
   "outputs": [
    {
     "data": {
      "text/plain": [
       "{'learning_rate': 0.2,\n",
       " 'max_depth': 5,\n",
       " 'max_features': 'sqrt',\n",
       " 'n_estimators': 400,\n",
       " 'n_iter_no_change': 4,\n",
       " 'subsample': 1.0}"
      ]
     },
     "execution_count": 29,
     "metadata": {},
     "output_type": "execute_result"
    }
   ],
   "source": [
    "grid_fit.best_params_"
   ]
  },
  {
   "cell_type": "code",
   "execution_count": 30,
   "id": "b1970bb4",
   "metadata": {},
   "outputs": [],
   "source": [
    "grid_fit.best_params_.get(accuracy_score)"
   ]
  },
  {
   "cell_type": "code",
   "execution_count": 31,
   "id": "8c1490a8",
   "metadata": {},
   "outputs": [
    {
     "data": {
      "text/plain": [
       "0.9802177584595412"
      ]
     },
     "execution_count": 31,
     "metadata": {},
     "output_type": "execute_result"
    }
   ],
   "source": [
    "grid_fit.best_score_"
   ]
  },
  {
   "cell_type": "markdown",
   "id": "2e1c69b5",
   "metadata": {},
   "source": [
    "## Question 4 - 5 points\n",
    "\n",
    "Train Stacked Ensemble model by utilizing `from sklearn.ensemble import StackingClassifier`.\n",
    "\n",
    "Good guide on how to train Stacked ensemble model can be found here: https://machinelearningmastery.com/stacking-ensemble-machine-learning-with-python/\n",
    "\n",
    "\n",
    "Stacked Ensemble is a technique to build Meta Learner (model). The Meta learner uses out-of-fold predictions of level-0 models (at least 2) to train level-1 model(meta learner). Meta learner is trained on the out-of-fold predictions done by the level-0 model in order to avoid overfitting.  \n",
    "\n",
    "For example, if level-0 model was trained using cv=3 it means there are 3 level-0 sub-models each trained on the 2/3 of the data. Therefore the hold-out 1/3 part of the training data was not used by the model for training, and predictions on the out of fold parts of the dataset can be used by Meta Learner. \n",
    "\n",
    "Choose two models for the level-0 models:\n",
    "- Best model from the Question 3\n",
    "- Worst model from the question 3\n",
    "\n",
    "You would only need model parameters, since sklearn `StackingClassifier` will retrain the the models.\n",
    "\n",
    "Train `StackingClassifier` and produce:\n",
    "- AUC on Testing data\n",
    "- Accuracy on Testing data\n",
    "\n",
    "\n",
    "*Hint*: to find best/worst model parameters for your `grid_search` object you can use below code. You would need to change `grid_search` to the variable name that holds your `GridSearchCV` object. \n",
    "```\n",
    "import numpy as np\n",
    "\n",
    "best_model_idx = np.argmax(grid_search.cv_results_['mean_test_score'])\n",
    "worst_model_idx = np.argmin(grid_search.cv_results_['mean_test_score']) \n",
    "print(\"Index of worst model:\",worst_model_idx)\n",
    "print(\"Index of best model:\",best_model_idx)\n",
    "\n",
    "print(\"Best model params:\")\n",
    "print(grid_search.cv_results_['params'][best_model_idx])\n",
    "print(\"\")\n",
    "print(\"Worst model params:\")\n",
    "print(grid_search.cv_results_['params'][worst_model_idx])\n",
    "```"
   ]
  },
  {
   "cell_type": "code",
   "execution_count": 38,
   "id": "8929dc8d",
   "metadata": {},
   "outputs": [],
   "source": [
    "from sklearn.ensemble import StackingClassifier\n",
    "from sklearn.linear_model import LogisticRegression\n",
    "import numpy as np"
   ]
  },
  {
   "cell_type": "code",
   "execution_count": 41,
   "id": "688c4df8",
   "metadata": {
    "scrolled": true
   },
   "outputs": [
    {
     "name": "stdout",
     "output_type": "stream",
     "text": [
      "Index of worst model: 16\n",
      "Index of best model: 15\n",
      "Best model params:\n",
      "{'learning_rate': 0.2, 'max_depth': 5, 'max_features': 'sqrt', 'n_estimators': 400, 'n_iter_no_change': 4, 'subsample': 1.0}\n",
      "\n",
      "Worst model params:\n",
      "{'learning_rate': 0.3, 'max_depth': 4, 'max_features': 'sqrt', 'n_estimators': 200, 'n_iter_no_change': 3, 'subsample': 0.5}\n"
     ]
    }
   ],
   "source": [
    "best_model_idx = np.argmax(grid_fit.cv_results_['mean_test_score'])\n",
    "worst_model_idx = np.argmin(grid_fit.cv_results_['mean_test_score']) \n",
    "print(\"Index of worst model:\",worst_model_idx)\n",
    "print(\"Index of best model:\",best_model_idx)\n",
    "\n",
    "print(\"Best model params:\")\n",
    "print(grid_fit.cv_results_['params'][best_model_idx])\n",
    "print(\"\")\n",
    "print(\"Worst model params:\")\n",
    "print(grid_fit.cv_results_['params'][worst_model_idx])"
   ]
  },
  {
   "cell_type": "code",
   "execution_count": 42,
   "id": "af0c30df",
   "metadata": {
    "scrolled": true
   },
   "outputs": [
    {
     "data": {
      "text/plain": [
       "StackingClassifier(cv=3,\n",
       "                   estimators=[('bm',\n",
       "                                GradientBoostingClassifier(learning_rate=0.2,\n",
       "                                                           max_depth=5,\n",
       "                                                           max_features='sqrt',\n",
       "                                                           n_estimators=400,\n",
       "                                                           n_iter_no_change=4)),\n",
       "                               ('wm',\n",
       "                                GradientBoostingClassifier(learning_rate=0.3,\n",
       "                                                           max_depth=4,\n",
       "                                                           max_features='sqrt',\n",
       "                                                           n_estimators=200,\n",
       "                                                           n_iter_no_change=3,\n",
       "                                                           subsample=0.5))],\n",
       "                   final_estimator=LogisticRegression())"
      ]
     },
     "execution_count": 42,
     "metadata": {},
     "output_type": "execute_result"
    }
   ],
   "source": [
    "level0 = list()\n",
    "level0.append(('bm',  GradientBoostingClassifier(learning_rate= 0.2, max_depth= 5, max_features= 'sqrt', n_estimators= 400, n_iter_no_change= 4, subsample= 1.0)))\n",
    "level0.append(('wm', GradientBoostingClassifier(learning_rate= 0.3, max_depth= 4, max_features= 'sqrt', n_estimators= 200, n_iter_no_change= 3, subsample= 0.5)))\n",
    "\n",
    "# define meta learner model\n",
    "level1 = LogisticRegression()\n",
    "# define the stacking ensemble\n",
    "model = StackingClassifier(estimators=level0, final_estimator=level1, cv=3)\n",
    "# fit the model on all available data\n",
    "model.fit(X_tr, Y_tr)"
   ]
  },
  {
   "cell_type": "code",
   "execution_count": 43,
   "id": "d3997b76",
   "metadata": {},
   "outputs": [],
   "source": [
    "pred_stack = model.predict(X_tst) # predictions on test data using stacked model"
   ]
  },
  {
   "cell_type": "code",
   "execution_count": 44,
   "id": "76896da2",
   "metadata": {},
   "outputs": [
    {
     "data": {
      "text/html": [
       "<div>\n",
       "<style scoped>\n",
       "    .dataframe tbody tr th:only-of-type {\n",
       "        vertical-align: middle;\n",
       "    }\n",
       "\n",
       "    .dataframe tbody tr th {\n",
       "        vertical-align: top;\n",
       "    }\n",
       "\n",
       "    .dataframe thead th {\n",
       "        text-align: right;\n",
       "    }\n",
       "</style>\n",
       "<table border=\"1\" class=\"dataframe\">\n",
       "  <thead>\n",
       "    <tr style=\"text-align: right;\">\n",
       "      <th></th>\n",
       "      <th>Gradient Boosting with default parameters</th>\n",
       "    </tr>\n",
       "  </thead>\n",
       "  <tbody>\n",
       "    <tr>\n",
       "      <th>Accuracy Score</th>\n",
       "      <td>0.935336</td>\n",
       "    </tr>\n",
       "    <tr>\n",
       "      <th>AUC score</th>\n",
       "      <td>0.859668</td>\n",
       "    </tr>\n",
       "    <tr>\n",
       "      <th>F1 score</th>\n",
       "      <td>0.933300</td>\n",
       "    </tr>\n",
       "    <tr>\n",
       "      <th>precision score</th>\n",
       "      <td>0.869088</td>\n",
       "    </tr>\n",
       "    <tr>\n",
       "      <th>Recall score</th>\n",
       "      <td>0.743137</td>\n",
       "    </tr>\n",
       "  </tbody>\n",
       "</table>\n",
       "</div>"
      ],
      "text/plain": [
       "                 Gradient Boosting with default parameters\n",
       "Accuracy Score                                    0.935336\n",
       "AUC score                                         0.859668\n",
       "F1 score                                          0.933300\n",
       "precision score                                   0.869088\n",
       "Recall score                                      0.743137"
      ]
     },
     "execution_count": 44,
     "metadata": {},
     "output_type": "execute_result"
    }
   ],
   "source": [
    "result = pd.DataFrame({\"Gradient Boosting with default parameters\":[accuracy_score(y_true,pred_stack),\n",
    "                                                                  roc_auc_score(y_true,pred_stack),\n",
    "                                                                  f1_score(y_true,pred_stack,average='weighted'),\n",
    "                                                                  precision_score(y_true,pred_stack),\n",
    "                                                                  recall_score(y_true,pred_stack)]},index =['Accuracy Score','AUC score','F1 score',\n",
    "                                                                                                          'precision score','Recall score'])\n",
    "\n",
    "result"
   ]
  },
  {
   "cell_type": "markdown",
   "id": "2e835c5f",
   "metadata": {},
   "source": [
    "The AUC on testing data is 0.859668. The Accuracy on testing data is 0.935336"
   ]
  },
  {
   "cell_type": "code",
   "execution_count": null,
   "id": "9570aa22",
   "metadata": {},
   "outputs": [],
   "source": []
  }
 ],
 "metadata": {
  "kernelspec": {
   "display_name": "Python 3",
   "language": "python",
   "name": "python3"
  },
  "language_info": {
   "codemirror_mode": {
    "name": "ipython",
    "version": 3
   },
   "file_extension": ".py",
   "mimetype": "text/x-python",
   "name": "python",
   "nbconvert_exporter": "python",
   "pygments_lexer": "ipython3",
   "version": "3.8.8"
  }
 },
 "nbformat": 4,
 "nbformat_minor": 5
}
