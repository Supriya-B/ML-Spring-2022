{
 "cells": [
  {
   "cell_type": "markdown",
   "id": "a3e6ed8c",
   "metadata": {},
   "source": [
    "   # Lab 5 - Template"
   ]
  },
  {
   "cell_type": "markdown",
   "id": "d8f753a7",
   "metadata": {},
   "source": [
    "The template is given as starting point to help you get up to speed with loading file and understanding data.  \n",
    "Use the template and answer each question in the appropriate cell.\n",
    "\n",
    "Submit:\n",
    "- eLearning\n",
    "- Github: create new folder Lab-5. Commit your work under the folder\n",
    "\n",
    "Naming: First-name_Last_name_ID_Lab_5.ipynb"
   ]
  },
  {
   "cell_type": "markdown",
   "id": "fe8379f5",
   "metadata": {},
   "source": [
    "## Dataset description\n",
    "\n",
    "The dataset for Lab-5 is sample of the SBA dataset posted on Kaggle. \n",
    "\n",
    "The dataset is from the U.S. Small Business Administration (SBA)\n",
    "The U.S. SBA was founded in 1953 on the principle of promoting and assisting small enterprises in the U.S. credit market \n",
    "(SBA Overview and History, US Small Business Administration (2015)). Small businesses have been a primary source of job creation in the United States; therefore, fostering small business formation and growth has social benefits by creating job opportunities and reducing unemployment.\n",
    "There have been many success stories of start-ups receiving SBA loan guarantees such as FedEx and Apple Computer. \n",
    "However, there have also been stories of small businesses and/or start-ups that have defaulted on their SBA-guaranteed loans.\n",
    "\n",
    "More info on the original dataset: https://www.kaggle.com/mirbektoktogaraev/should-this-loan-be-approved-or-denied\n"
   ]
  },
  {
   "cell_type": "markdown",
   "id": "54cf3bbd",
   "metadata": {},
   "source": [
    "## Preparation\n",
    "\n",
    "Load same data into H2O-3 dataframe.  \n",
    "Describe imported dataframe."
   ]
  },
  {
   "cell_type": "code",
   "execution_count": 1,
   "id": "d1164d44",
   "metadata": {},
   "outputs": [
    {
     "name": "stdout",
     "output_type": "stream",
     "text": [
      "Checking whether there is an H2O instance running at http://localhost:54321 . connected.\n"
     ]
    },
    {
     "data": {
      "text/html": [
       "<div style=\"overflow:auto\"><table style=\"width:50%\"><tr><td>H2O_cluster_uptime:</td>\n",
       "<td>50 mins 58 secs</td></tr>\n",
       "<tr><td>H2O_cluster_timezone:</td>\n",
       "<td>America/Los_Angeles</td></tr>\n",
       "<tr><td>H2O_data_parsing_timezone:</td>\n",
       "<td>UTC</td></tr>\n",
       "<tr><td>H2O_cluster_version:</td>\n",
       "<td>3.34.0.7</td></tr>\n",
       "<tr><td>H2O_cluster_version_age:</td>\n",
       "<td>2 months and 12 days </td></tr>\n",
       "<tr><td>H2O_cluster_name:</td>\n",
       "<td>H2O_from_python_srbuj_eqc0x6</td></tr>\n",
       "<tr><td>H2O_cluster_total_nodes:</td>\n",
       "<td>1</td></tr>\n",
       "<tr><td>H2O_cluster_free_memory:</td>\n",
       "<td>7.832 Gb</td></tr>\n",
       "<tr><td>H2O_cluster_total_cores:</td>\n",
       "<td>8</td></tr>\n",
       "<tr><td>H2O_cluster_allowed_cores:</td>\n",
       "<td>3</td></tr>\n",
       "<tr><td>H2O_cluster_status:</td>\n",
       "<td>locked, healthy</td></tr>\n",
       "<tr><td>H2O_connection_url:</td>\n",
       "<td>http://localhost:54321</td></tr>\n",
       "<tr><td>H2O_connection_proxy:</td>\n",
       "<td>{\"http\": null, \"https\": null}</td></tr>\n",
       "<tr><td>H2O_internal_security:</td>\n",
       "<td>False</td></tr>\n",
       "<tr><td>H2O_API_Extensions:</td>\n",
       "<td>Amazon S3, Algos, AutoML, Core V3, TargetEncoder, Core V4</td></tr>\n",
       "<tr><td>Python_version:</td>\n",
       "<td>3.8.8 final</td></tr></table></div>"
      ],
      "text/plain": [
       "--------------------------  ---------------------------------------------------------\n",
       "H2O_cluster_uptime:         50 mins 58 secs\n",
       "H2O_cluster_timezone:       America/Los_Angeles\n",
       "H2O_data_parsing_timezone:  UTC\n",
       "H2O_cluster_version:        3.34.0.7\n",
       "H2O_cluster_version_age:    2 months and 12 days\n",
       "H2O_cluster_name:           H2O_from_python_srbuj_eqc0x6\n",
       "H2O_cluster_total_nodes:    1\n",
       "H2O_cluster_free_memory:    7.832 Gb\n",
       "H2O_cluster_total_cores:    8\n",
       "H2O_cluster_allowed_cores:  3\n",
       "H2O_cluster_status:         locked, healthy\n",
       "H2O_connection_url:         http://localhost:54321\n",
       "H2O_connection_proxy:       {\"http\": null, \"https\": null}\n",
       "H2O_internal_security:      False\n",
       "H2O_API_Extensions:         Amazon S3, Algos, AutoML, Core V3, TargetEncoder, Core V4\n",
       "Python_version:             3.8.8 final\n",
       "--------------------------  ---------------------------------------------------------"
      ]
     },
     "metadata": {},
     "output_type": "display_data"
    }
   ],
   "source": [
    "import h2o\n",
    "try:\n",
    "    h2o.cluster().shutdown()\n",
    "except:\n",
    "    pass \n",
    "#Limit to 3 threads and 4GB memory\n",
    "h2o.init(nthreads=3, max_mem_size=8)"
   ]
  },
  {
   "cell_type": "code",
   "execution_count": 2,
   "id": "6dac19ef",
   "metadata": {},
   "outputs": [
    {
     "name": "stdout",
     "output_type": "stream",
     "text": [
      "Parse progress: |████████████████████████████████████████████████████████████████| (done) 100%\n"
     ]
    }
   ],
   "source": [
    "df_h = h2o.import_file('SBA_loans_lab_5.csv')"
   ]
  },
  {
   "cell_type": "code",
   "execution_count": 3,
   "id": "5acd65e7",
   "metadata": {
    "scrolled": true
   },
   "outputs": [
    {
     "name": "stdout",
     "output_type": "stream",
     "text": [
      "Rows:449582\n",
      "Cols:20\n",
      "\n",
      "\n"
     ]
    },
    {
     "data": {
      "text/html": [
       "<table>\n",
       "<thead>\n",
       "<tr><th>       </th><th>City       </th><th>State  </th><th>Zip               </th><th>Bank                          </th><th>BankState  </th><th>NAICS             </th><th>Term              </th><th>NoEmp            </th><th>NewExist          </th><th>CreateJob         </th><th>RetainedJob       </th><th>FranchiseCode     </th><th>UrbanRural        </th><th>RevLineCr  </th><th>LowDoc  </th><th>DisbursementGross  </th><th>BalanceGross      </th><th>GrAppv            </th><th>SBA_Appv          </th><th>Defaulted          </th></tr>\n",
       "</thead>\n",
       "<tbody>\n",
       "<tr><td>type   </td><td>enum       </td><td>enum   </td><td>int               </td><td>enum                          </td><td>enum       </td><td>int               </td><td>int               </td><td>int              </td><td>int               </td><td>int               </td><td>int               </td><td>int               </td><td>int               </td><td>enum       </td><td>enum    </td><td>int                </td><td>int               </td><td>int               </td><td>int               </td><td>int                </td></tr>\n",
       "<tr><td>mins   </td><td>           </td><td>       </td><td>0.0               </td><td>                              </td><td>           </td><td>0.0               </td><td>0.0               </td><td>0.0              </td><td>0.0               </td><td>0.0               </td><td>0.0               </td><td>0.0               </td><td>0.0               </td><td>           </td><td>        </td><td>0.0                </td><td>0.0               </td><td>300.0             </td><td>150.0             </td><td>0.0                </td></tr>\n",
       "<tr><td>mean   </td><td>           </td><td>       </td><td>53875.82003505474 </td><td>                              </td><td>           </td><td>398750.95628383727</td><td>110.75986138235076</td><td>11.41085497195172</td><td>1.2805620317143922</td><td>8.247082845843474 </td><td>10.620207214701658</td><td>2756.757912905769 </td><td>0.7577371869870237</td><td>           </td><td>        </td><td>201167.64481896523 </td><td>5.320433202396894 </td><td>192663.99781130048</td><td>149487.48882072678</td><td>0.17522721105382333</td></tr>\n",
       "<tr><td>maxs   </td><td>           </td><td>       </td><td>99999.0           </td><td>                              </td><td>           </td><td>928120.0          </td><td>569.0             </td><td>9999.0           </td><td>2.0               </td><td>8800.0            </td><td>8800.0            </td><td>99999.0           </td><td>2.0               </td><td>           </td><td>        </td><td>11000000.0         </td><td>996262.0          </td><td>5472000.0         </td><td>5472000.0         </td><td>1.0                </td></tr>\n",
       "<tr><td>sigma  </td><td>           </td><td>       </td><td>31171.887960162298</td><td>                              </td><td>           </td><td>263245.11754311237</td><td>78.85231288246004 </td><td>76.16156831435656</td><td>0.4518319973213189</td><td>233.03559054729334</td><td>233.5331077010709 </td><td>12775.155879795077</td><td>0.6463702363252026</td><td>           </td><td>        </td><td>287792.7934812003  </td><td>2026.2605531281793</td><td>283645.0333100022 </td><td>228998.74605927625</td><td>0.3801617511281878 </td></tr>\n",
       "<tr><td>zeros  </td><td>           </td><td>       </td><td>151               </td><td>                              </td><td>           </td><td>100802            </td><td>392               </td><td>3297             </td><td>518               </td><td>314923            </td><td>220341            </td><td>104829            </td><td>161568            </td><td>           </td><td>        </td><td>100                </td><td>449574            </td><td>0                 </td><td>0                 </td><td>370803             </td></tr>\n",
       "<tr><td>missing</td><td>16         </td><td>8      </td><td>0                 </td><td>762                           </td><td>763        </td><td>0                 </td><td>0                 </td><td>0                </td><td>70                </td><td>0                 </td><td>0                 </td><td>0                 </td><td>0                 </td><td>2297       </td><td>2044    </td><td>0                  </td><td>0                 </td><td>0                 </td><td>0                 </td><td>0                  </td></tr>\n",
       "<tr><td>0      </td><td>BETHESDA   </td><td>MD     </td><td>20814.0           </td><td>WACHOVIA SBA LENDING, INC.    </td><td>CA         </td><td>621111.0          </td><td>300.0             </td><td>9.0              </td><td>1.0               </td><td>0.0               </td><td>9.0               </td><td>1.0               </td><td>1.0               </td><td>0          </td><td>N       </td><td>740400.0           </td><td>0.0               </td><td>740400.0          </td><td>555300.0          </td><td>0.0                </td></tr>\n",
       "<tr><td>1      </td><td>FRANKFORT  </td><td>IL     </td><td>60423.0           </td><td>CENTRUE BANK                  </td><td>IL         </td><td>561730.0          </td><td>48.0              </td><td>6.0              </td><td>1.0               </td><td>5.0               </td><td>6.0               </td><td>0.0               </td><td>1.0               </td><td>N          </td><td>N       </td><td>30000.0            </td><td>0.0               </td><td>30000.0           </td><td>15000.0           </td><td>0.0                </td></tr>\n",
       "<tr><td>2      </td><td>MARBLEHEAD </td><td>MA     </td><td>1945.0            </td><td>WELLS FARGO BANK NATL ASSOC   </td><td>SD         </td><td>421690.0          </td><td>60.0              </td><td>1.0              </td><td>1.0               </td><td>0.0               </td><td>0.0               </td><td>1.0               </td><td>0.0               </td><td>T          </td><td>N       </td><td>25000.0            </td><td>0.0               </td><td>25000.0           </td><td>12500.0           </td><td>0.0                </td></tr>\n",
       "<tr><td>3      </td><td>LAS VEGAS  </td><td>NV     </td><td>89104.0           </td><td>NEW VENTURES CAP. DEVEL CO    </td><td>NV         </td><td>0.0               </td><td>240.0             </td><td>1.0              </td><td>2.0               </td><td>17.0              </td><td>1.0               </td><td>1.0               </td><td>0.0               </td><td>N          </td><td>N       </td><td>327000.0           </td><td>0.0               </td><td>327000.0          </td><td>327000.0          </td><td>0.0                </td></tr>\n",
       "<tr><td>4      </td><td>OAKLAND    </td><td>CA     </td><td>94608.0           </td><td>CITICAPITAL SMALL BUS. FINANCE</td><td>TX         </td><td>0.0               </td><td>29.0              </td><td>10.0             </td><td>1.0               </td><td>0.0               </td><td>0.0               </td><td>0.0               </td><td>0.0               </td><td>N          </td><td>N       </td><td>75000.0            </td><td>0.0               </td><td>75000.0           </td><td>67500.0           </td><td>0.0                </td></tr>\n",
       "<tr><td>5      </td><td>WHEATRIDGE </td><td>CO     </td><td>80033.0           </td><td>VECTRA BK COLORADO NATL ASSOC </td><td>NM         </td><td>531110.0          </td><td>120.0             </td><td>2.0              </td><td>1.0               </td><td>0.0               </td><td>2.0               </td><td>0.0               </td><td>1.0               </td><td>T          </td><td>N       </td><td>70520.0            </td><td>0.0               </td><td>50000.0           </td><td>25000.0           </td><td>0.0                </td></tr>\n",
       "<tr><td>6      </td><td>BOISE      </td><td>ID     </td><td>83705.0           </td><td>BANK OF AMERICA NATL ASSOC    </td><td>OR         </td><td>326191.0          </td><td>84.0              </td><td>80.0             </td><td>1.0               </td><td>0.0               </td><td>0.0               </td><td>1.0               </td><td>0.0               </td><td>N          </td><td>N       </td><td>700000.0           </td><td>0.0               </td><td>700000.0          </td><td>525000.0          </td><td>0.0                </td></tr>\n",
       "<tr><td>7      </td><td>BELLEVUE   </td><td>WA     </td><td>98006.0           </td><td>U.S. BANK NATIONAL ASSOCIATION</td><td>OH         </td><td>422410.0          </td><td>36.0              </td><td>11.0             </td><td>1.0               </td><td>0.0               </td><td>0.0               </td><td>1.0               </td><td>0.0               </td><td>N          </td><td>N       </td><td>25000.0            </td><td>0.0               </td><td>25000.0           </td><td>18750.0           </td><td>0.0                </td></tr>\n",
       "<tr><td>8      </td><td>NEWARK     </td><td>DE     </td><td>19713.0           </td><td>WILMINGTON TRUST COMPANY      </td><td>DE         </td><td>0.0               </td><td>12.0              </td><td>24.0             </td><td>1.0               </td><td>0.0               </td><td>0.0               </td><td>1.0               </td><td>0.0               </td><td>N          </td><td>N       </td><td>357156.0           </td><td>0.0               </td><td>357156.0          </td><td>303583.0          </td><td>0.0                </td></tr>\n",
       "<tr><td>9      </td><td>SOUTHINGTON</td><td>CT     </td><td>6489.0            </td><td>BANK OF AMERICA NATL ASSOC    </td><td>RI         </td><td>621112.0          </td><td>48.0              </td><td>2.0              </td><td>1.0               </td><td>1.0               </td><td>3.0               </td><td>1.0               </td><td>1.0               </td><td>Y          </td><td>N       </td><td>42417.0            </td><td>0.0               </td><td>25000.0           </td><td>12500.0           </td><td>0.0                </td></tr>\n",
       "</tbody>\n",
       "</table>"
      ]
     },
     "metadata": {},
     "output_type": "display_data"
    }
   ],
   "source": [
    "df_h.describe()"
   ]
  },
  {
   "cell_type": "markdown",
   "id": "6937e0bb",
   "metadata": {},
   "source": [
    "Use `fillna` method to fill missing values for the following columns:\n",
    "- City\n",
    "- State\n",
    "- Bank\n",
    "- BankState\n",
    "- NewExist\n",
    "- RevLineCr\n",
    "- LowDoc\n",
    "\n",
    "https://docs.h2o.ai/h2o/latest-stable/h2o-docs/data-munging/fillnas.html"
   ]
  },
  {
   "cell_type": "code",
   "execution_count": 4,
   "id": "9eeb22af",
   "metadata": {},
   "outputs": [
    {
     "name": "stdout",
     "output_type": "stream",
     "text": [
      "Fillna for categorical column:... City\n",
      "Fillna for categorical column:... State\n",
      "Fillna for categorical column:... Bank\n",
      "Fillna for categorical column:... BankState\n",
      "Fillna for numerical column:... NewExist\n",
      "Fillna for categorical column:... RevLineCr\n",
      "Fillna for categorical column:... LowDoc\n"
     ]
    }
   ],
   "source": [
    "columns = [\"City\",\"State\",\"Bank\",\"BankState\",\n",
    "           \"NewExist\", \"RevLineCr\",\"LowDoc\"]\n",
    "num_col_ind = df_h.columns_by_type(coltype=\"numeric\")\n",
    "str_col_ind = df_h.columns_by_type(coltype=\"string\")\n",
    "enum_col_ind = df_h.columns_by_type(coltype=\"categorical\")\n",
    "all_columns = df_h.columns\n",
    "num_col = []\n",
    "str_col = []\n",
    "enum_col = []\n",
    "\n",
    "for col in columns:\n",
    "    if all_columns.index(col) in num_col_ind:\n",
    "        print(\"Fillna for numerical column:...\", col)\n",
    "        num_col.append(col)\n",
    "        \n",
    "        filled = df_h[col].fillna(method=\"forward\",axis=1,maxlen=1)\n",
    "        df_h[col] = filled\n",
    "        '''Alternative way '''\n",
    "        #df_h[df_h[col].isna(), col] = 0\n",
    "    elif all_columns.index(col) in enum_col_ind:\n",
    "        print(\"Fillna for categorical column:...\", col)\n",
    "        enum_col.append(col)\n",
    "        df_h[col] = df_h[col].ascharacter()\n",
    "        df_h[df_h[col].isna(), col] = \"Missing\"\n",
    "        df_h[col] = df_h[col].asfactor()\n",
    "    elif all_columns.index(col) in str_col_ind:\n",
    "        print(\"Fillna for string column:...\", col)\n",
    "        str_col.append(col)\n",
    "        df_h[df_h[col].isna(), col] = \"Missing\""
   ]
  },
  {
   "cell_type": "markdown",
   "id": "e0cc15c7",
   "metadata": {},
   "source": [
    "### Correct variables types - make non-numerical columns \"factor\" (categorical)"
   ]
  },
  {
   "cell_type": "code",
   "execution_count": 5,
   "id": "9326b2a1",
   "metadata": {},
   "outputs": [],
   "source": [
    "# Choose which columns to encode\n",
    "encoded_columns = enum_col + str_col + ['Zip']\n",
    "response = \"Defaulted\"\n",
    "\n",
    "df_h[encoded_columns+[response]] = df_h[encoded_columns+[response]].asfactor()"
   ]
  },
  {
   "cell_type": "markdown",
   "id": "3f3ea686",
   "metadata": {},
   "source": [
    "## Split to train/test/validation"
   ]
  },
  {
   "cell_type": "code",
   "execution_count": 6,
   "id": "075319ca",
   "metadata": {},
   "outputs": [],
   "source": [
    "train,test,valid = df_h.split_frame(ratios=[.7, .15], seed=123)"
   ]
  },
  {
   "cell_type": "markdown",
   "id": "c106057e",
   "metadata": {},
   "source": [
    "### Perform target encoding on the following columns\n",
    "\n",
    "https://docs.h2o.ai/h2o/latest-stable/h2o-docs/data-science/target-encoding.html"
   ]
  },
  {
   "cell_type": "code",
   "execution_count": 7,
   "id": "3f043e7c",
   "metadata": {},
   "outputs": [
    {
     "data": {
      "text/plain": [
       "['City', 'State', 'Bank', 'BankState', 'RevLineCr', 'LowDoc', 'Zip']"
      ]
     },
     "execution_count": 7,
     "metadata": {},
     "output_type": "execute_result"
    }
   ],
   "source": [
    "encoded_columns"
   ]
  },
  {
   "cell_type": "code",
   "execution_count": 8,
   "id": "df9c3de5",
   "metadata": {},
   "outputs": [
    {
     "name": "stdout",
     "output_type": "stream",
     "text": [
      "targetencoder Model Build progress: |████████████████████████████████████████████| (done) 100%\n"
     ]
    }
   ],
   "source": [
    "from h2o.estimators import H2OTargetEncoderEstimator\n",
    "\n",
    "# Choose which columns to encode\n",
    "encoded_columns = enum_col + str_col + ['Zip']\n",
    "response = \"Defaulted\"\n",
    "\n",
    "# Train a Target Encoder model\n",
    "data_te = H2OTargetEncoderEstimator(#fold_column=fold_column,\n",
    "                                    data_leakage_handling=None,\n",
    "                                    blending=True,\n",
    "                                    inflection_point=3,\n",
    "                                    smoothing=10,\n",
    "                                    noise=0.15,     # In general, the less data you have the more regularization you need\n",
    "                                    seed=1234)\n",
    "\n",
    "data_te.train(x=encoded_columns,\n",
    "              y=response,\n",
    "              training_frame=train)\n",
    "\n",
    "# New target encoded dataset\n",
    "train_te = data_te.transform(frame=train, as_training=True)\n",
    "valid_te = data_te.transform(frame=test, as_training=False)\n",
    "test_te = data_te.transform(frame=valid, as_training=False)"
   ]
  },
  {
   "cell_type": "code",
   "execution_count": 9,
   "id": "3f6c4549",
   "metadata": {
    "scrolled": false
   },
   "outputs": [
    {
     "name": "stdout",
     "output_type": "stream",
     "text": [
      "Rows:314835\n",
      "Cols:27\n",
      "\n",
      "\n"
     ]
    },
    {
     "data": {
      "text/html": [
       "<table>\n",
       "<thead>\n",
       "<tr><th>       </th><th>City_te              </th><th>State_te            </th><th>Zip_te              </th><th>Bank_te             </th><th>BankState_te        </th><th>RevLineCr_te        </th><th>LowDoc_te           </th><th>City      </th><th>State  </th><th>Zip  </th><th>Bank                          </th><th>BankState  </th><th>RevLineCr  </th><th>LowDoc  </th><th>NAICS             </th><th>Term              </th><th>NoEmp            </th><th>NewExist           </th><th>CreateJob        </th><th>RetainedJob       </th><th>FranchiseCode     </th><th>UrbanRural        </th><th>DisbursementGross  </th><th>BalanceGross     </th><th>GrAppv            </th><th>SBA_Appv          </th><th>Defaulted  </th></tr>\n",
       "</thead>\n",
       "<tbody>\n",
       "<tr><td>type   </td><td>real                 </td><td>real                </td><td>real                </td><td>real                </td><td>real                </td><td>real                </td><td>real                </td><td>enum      </td><td>enum   </td><td>enum </td><td>enum                          </td><td>enum       </td><td>enum       </td><td>enum    </td><td>int               </td><td>int               </td><td>int              </td><td>int                </td><td>int              </td><td>int               </td><td>int               </td><td>int               </td><td>int                </td><td>int              </td><td>int               </td><td>int               </td><td>enum       </td></tr>\n",
       "<tr><td>mins   </td><td>-0.1437745976786964  </td><td>-0.08558249324118866</td><td>-0.14695214828591374</td><td>-0.149949216841022  </td><td>-0.12052854682017504</td><td>-0.1262983923818528 </td><td>-0.06091226164867272</td><td>          </td><td>       </td><td>     </td><td>                              </td><td>           </td><td>           </td><td>        </td><td>0.0               </td><td>0.0               </td><td>0.0              </td><td>0.0                </td><td>0.0              </td><td>0.0               </td><td>0.0               </td><td>0.0               </td><td>0.0                </td><td>0.0              </td><td>300.0             </td><td>150.0             </td><td>           </td></tr>\n",
       "<tr><td>mean   </td><td>0.17525508998539055  </td><td>0.17497524104376358 </td><td>0.17539311916590636 </td><td>0.17580158570976595 </td><td>0.17497660895395067 </td><td>0.17498162751126486 </td><td>0.17497538860020093 </td><td>          </td><td>       </td><td>     </td><td>                              </td><td>           </td><td>           </td><td>        </td><td>398534.00202963455</td><td>110.91156319977131</td><td>11.50901265742372</td><td>1.280475872804092  </td><td>8.7104705639462  </td><td>11.076312989343625</td><td>2763.815452538633 </td><td>0.7575174297647976</td><td>200922.5274191243  </td><td>7.090580780408786</td><td>192443.64115171434</td><td>149375.50424190448</td><td>           </td></tr>\n",
       "<tr><td>maxs   </td><td>0.785893517993496    </td><td>0.42402727515770544 </td><td>0.9101779058715646  </td><td>1.0212540485116688  </td><td>0.5354784207521788  </td><td>0.5791866996958035  </td><td>0.6230070888487687  </td><td>          </td><td>       </td><td>     </td><td>                              </td><td>           </td><td>           </td><td>        </td><td>928120.0          </td><td>569.0             </td><td>9999.0           </td><td>2.0                </td><td>8800.0           </td><td>8800.0            </td><td>99999.0           </td><td>2.0               </td><td>8607858.0          </td><td>996262.0         </td><td>5472000.0         </td><td>5472000.0         </td><td>           </td></tr>\n",
       "<tr><td>sigma  </td><td>0.12083445325069324  </td><td>0.09662470010381317 </td><td>0.1303661007313     </td><td>0.1525802172495879  </td><td>0.11520221794600626 </td><td>0.10331538239634884 </td><td>0.09284922264533864 </td><td>          </td><td>       </td><td>     </td><td>                              </td><td>           </td><td>           </td><td>        </td><td>263440.35856445093</td><td>78.9169582391072  </td><td>80.76113270408644</td><td>0.45193271034493465</td><td>242.1143738096787</td><td>242.4640886451515 </td><td>12806.775538751626</td><td>0.646563052304528 </td><td>286626.03277888976 </td><td>2413.86881141197 </td><td>282903.1697860111 </td><td>228655.0463261251 </td><td>           </td></tr>\n",
       "<tr><td>zeros  </td><td>0                    </td><td>0                   </td><td>0                   </td><td>0                   </td><td>0                   </td><td>0                   </td><td>0                   </td><td>          </td><td>       </td><td>     </td><td>                              </td><td>           </td><td>           </td><td>        </td><td>70747             </td><td>278               </td><td>2252             </td><td>383                </td><td>220539           </td><td>154552            </td><td>72961             </td><td>113234            </td><td>75                 </td><td>314831           </td><td>0                 </td><td>0                 </td><td>           </td></tr>\n",
       "<tr><td>missing</td><td>0                    </td><td>0                   </td><td>0                   </td><td>0                   </td><td>0                   </td><td>0                   </td><td>0                   </td><td>0         </td><td>0      </td><td>0    </td><td>0                             </td><td>0          </td><td>0          </td><td>0       </td><td>0                 </td><td>0                 </td><td>0                </td><td>45                 </td><td>0                </td><td>0                 </td><td>0                 </td><td>0                 </td><td>0                  </td><td>0                </td><td>0                 </td><td>0                 </td><td>0          </td></tr>\n",
       "<tr><td>0      </td><td>0.1898125820812527   </td><td>0.26162576785935976 </td><td>0.19967623159904307 </td><td>0.08126578707804624 </td><td>0.28957351440250284 </td><td>0.21800813514866518 </td><td>0.25627868889315736 </td><td>BETHESDA  </td><td>MD     </td><td>20814</td><td>WACHOVIA SBA LENDING, INC.    </td><td>CA         </td><td>0          </td><td>N       </td><td>621111.0          </td><td>300.0             </td><td>9.0              </td><td>1.0                </td><td>0.0              </td><td>9.0               </td><td>1.0               </td><td>1.0               </td><td>740400.0           </td><td>0.0              </td><td>740400.0          </td><td>555300.0          </td><td>0          </td></tr>\n",
       "<tr><td>1      </td><td>0.12823702212714713  </td><td>0.15794599135403178 </td><td>0.024643811850561387</td><td>0.07418434584979167 </td><td>0.15061038648900382 </td><td>0.0778870932927953  </td><td>0.11781470893366947 </td><td>FRANKFORT </td><td>IL     </td><td>60423</td><td>CENTRUE BANK                  </td><td>IL         </td><td>N          </td><td>N       </td><td>561730.0          </td><td>48.0              </td><td>6.0              </td><td>1.0                </td><td>5.0              </td><td>6.0               </td><td>0.0               </td><td>1.0               </td><td>30000.0            </td><td>0.0              </td><td>30000.0           </td><td>15000.0           </td><td>0          </td></tr>\n",
       "<tr><td>2      </td><td>0.10543414006032795  </td><td>0.16625725781027384 </td><td>0.09736257617382421 </td><td>0.18066908833133621 </td><td>0.21766751452973976 </td><td>0.4686637559606808  </td><td>0.22590896604998723 </td><td>MARBLEHEAD</td><td>MA     </td><td>1945 </td><td>WELLS FARGO BANK NATL ASSOC   </td><td>SD         </td><td>T          </td><td>N       </td><td>421690.0          </td><td>60.0              </td><td>1.0              </td><td>1.0                </td><td>0.0              </td><td>0.0               </td><td>1.0               </td><td>0.0               </td><td>25000.0            </td><td>0.0              </td><td>25000.0           </td><td>12500.0           </td><td>0          </td></tr>\n",
       "<tr><td>3      </td><td>0.36526189536022124  </td><td>0.3317355073335949  </td><td>0.3081225694026883  </td><td>0.3568642778998853  </td><td>0.28654096565268095 </td><td>0.2929175011983739  </td><td>0.3328451168392481  </td><td>OAKLAND   </td><td>CA     </td><td>94608</td><td>CITICAPITAL SMALL BUS. FINANCE</td><td>TX         </td><td>N          </td><td>N       </td><td>0.0               </td><td>29.0              </td><td>10.0             </td><td>1.0                </td><td>0.0              </td><td>0.0               </td><td>0.0               </td><td>0.0               </td><td>75000.0            </td><td>0.0              </td><td>75000.0           </td><td>67500.0           </td><td>0          </td></tr>\n",
       "<tr><td>4      </td><td>-0.011164015256873827</td><td>0.060588946769396884</td><td>0.017535628648282897</td><td>-0.0352856704166932 </td><td>-0.04417537226414406</td><td>0.3082619884683865  </td><td>0.06550719855769291 </td><td>WHEATRIDGE</td><td>CO     </td><td>80033</td><td>VECTRA BK COLORADO NATL ASSOC </td><td>NM         </td><td>T          </td><td>N       </td><td>531110.0          </td><td>120.0             </td><td>2.0              </td><td>1.0                </td><td>0.0              </td><td>2.0               </td><td>0.0               </td><td>1.0               </td><td>70520.0            </td><td>0.0              </td><td>50000.0           </td><td>25000.0           </td><td>0          </td></tr>\n",
       "<tr><td>5      </td><td>0.10517521350895433  </td><td>0.11796561638853621 </td><td>0.06254585192152967 </td><td>0.2482636442564245  </td><td>0.15561797504510813 </td><td>0.11933466123255361 </td><td>0.15926227687342775 </td><td>BOISE     </td><td>ID     </td><td>83705</td><td>BANK OF AMERICA NATL ASSOC    </td><td>OR         </td><td>N          </td><td>N       </td><td>326191.0          </td><td>84.0              </td><td>80.0             </td><td>1.0                </td><td>0.0              </td><td>0.0               </td><td>1.0               </td><td>0.0               </td><td>700000.0           </td><td>0.0              </td><td>700000.0          </td><td>525000.0          </td><td>0          </td></tr>\n",
       "<tr><td>6      </td><td>0.02126720450645675  </td><td>0.021089701063744803</td><td>0.07548587997852918 </td><td>0.06253697420287582 </td><td>0.04241266583157735 </td><td>0.028311859833322656</td><td>0.06823947547419681 </td><td>BELLEVUE  </td><td>WA     </td><td>98006</td><td>U.S. BANK NATIONAL ASSOCIATION</td><td>OH         </td><td>N          </td><td>N       </td><td>422410.0          </td><td>36.0              </td><td>11.0             </td><td>1.0                </td><td>0.0              </td><td>0.0               </td><td>1.0               </td><td>0.0               </td><td>25000.0            </td><td>0.0              </td><td>25000.0           </td><td>18750.0           </td><td>0          </td></tr>\n",
       "<tr><td>7      </td><td>0.10521248245056936  </td><td>0.14775288471015133 </td><td>0.16235513236448004 </td><td>0.10362261649715346 </td><td>0.14062104269555703 </td><td>0.1105919404713123  </td><td>0.14886249421580447 </td><td>COSTA MESA</td><td>CA     </td><td>92626</td><td>WELLS FARGO BANK NATL ASSOC   </td><td>SD         </td><td>0          </td><td>N       </td><td>0.0               </td><td>120.0             </td><td>12.0             </td><td>1.0                </td><td>0.0              </td><td>0.0               </td><td>1.0               </td><td>0.0               </td><td>83000.0            </td><td>0.0              </td><td>83000.0           </td><td>66400.0           </td><td>0          </td></tr>\n",
       "<tr><td>8      </td><td>0.013823780192706386 </td><td>0.07340157043400786 </td><td>0.00945187691749226 </td><td>0.029907415522969244</td><td>0.04662634088132181 </td><td>0.06852049754770864 </td><td>0.1084481131885828  </td><td>JONESBURG </td><td>MO     </td><td>63351</td><td>FIRST BANK                    </td><td>MO         </td><td>N          </td><td>N       </td><td>332722.0          </td><td>60.0              </td><td>3.0              </td><td>2.0                </td><td>0.0              </td><td>0.0               </td><td>1.0               </td><td>0.0               </td><td>88900.0            </td><td>0.0              </td><td>88900.0           </td><td>80010.0           </td><td>0          </td></tr>\n",
       "<tr><td>9      </td><td>0.30211901142302267  </td><td>0.3122177518251721  </td><td>0.20494556774170955 </td><td>0.2680874836121742  </td><td>0.3050859098105778  </td><td>0.27505680758633305 </td><td>0.3133273613308252  </td><td>GARDENA   </td><td>CA     </td><td>90248</td><td>WELLS FARGO BANK NATL ASSOC   </td><td>SD         </td><td>0          </td><td>N       </td><td>421840.0          </td><td>120.0             </td><td>51.0             </td><td>1.0                </td><td>3.0              </td><td>54.0              </td><td>1.0               </td><td>1.0               </td><td>1105000.0          </td><td>0.0              </td><td>1105000.0         </td><td>828750.0          </td><td>0          </td></tr>\n",
       "</tbody>\n",
       "</table>"
      ]
     },
     "metadata": {},
     "output_type": "display_data"
    }
   ],
   "source": [
    "train_te.describe()"
   ]
  },
  {
   "cell_type": "markdown",
   "id": "289ae474",
   "metadata": {},
   "source": [
    "## Question 1 - solved for everyone to help with set up\n",
    "\n",
    "Use H2O-3 to train GLM with binomial classification (`family=binomial`)   \n",
    "\n",
    "https://docs.h2o.ai/h2o/latest-stable/h2o-docs/data-science/glm.html"
   ]
  },
  {
   "cell_type": "code",
   "execution_count": 10,
   "id": "b111e15b",
   "metadata": {
    "scrolled": true
   },
   "outputs": [
    {
     "name": "stdout",
     "output_type": "stream",
     "text": [
      "Predictor columns: ['City_te', 'State_te', 'Zip_te', 'Bank_te', 'BankState_te', 'RevLineCr_te', 'LowDoc_te', 'NAICS', 'Term', 'NoEmp', 'NewExist', 'CreateJob', 'RetainedJob', 'FranchiseCode', 'UrbanRural', 'DisbursementGross', 'BalanceGross', 'GrAppv', 'SBA_Appv']\n",
      "glm Model Build progress: |██████████████████████████████████████████████████████| (done) 100%\n",
      "\n",
      "GLM Model: summary\n"
     ]
    },
    {
     "data": {
      "text/html": [
       "<div>\n",
       "<style scoped>\n",
       "    .dataframe tbody tr th:only-of-type {\n",
       "        vertical-align: middle;\n",
       "    }\n",
       "\n",
       "    .dataframe tbody tr th {\n",
       "        vertical-align: top;\n",
       "    }\n",
       "\n",
       "    .dataframe thead th {\n",
       "        text-align: right;\n",
       "    }\n",
       "</style>\n",
       "<table border=\"1\" class=\"dataframe\">\n",
       "  <thead>\n",
       "    <tr style=\"text-align: right;\">\n",
       "      <th></th>\n",
       "      <th></th>\n",
       "      <th>family</th>\n",
       "      <th>link</th>\n",
       "      <th>regularization</th>\n",
       "      <th>number_of_predictors_total</th>\n",
       "      <th>number_of_active_predictors</th>\n",
       "      <th>number_of_iterations</th>\n",
       "      <th>training_frame</th>\n",
       "    </tr>\n",
       "  </thead>\n",
       "  <tbody>\n",
       "    <tr>\n",
       "      <th>0</th>\n",
       "      <td></td>\n",
       "      <td>binomial</td>\n",
       "      <td>logit</td>\n",
       "      <td>Ridge ( lambda = 0.3 )</td>\n",
       "      <td>19</td>\n",
       "      <td>19</td>\n",
       "      <td>3</td>\n",
       "      <td>_b95e9bc09d038fdb60ea6c70c62d4851</td>\n",
       "    </tr>\n",
       "  </tbody>\n",
       "</table>\n",
       "</div>"
      ],
      "text/plain": [
       "       family   link          regularization  number_of_predictors_total  \\\n",
       "0    binomial  logit  Ridge ( lambda = 0.3 )                          19   \n",
       "\n",
       "  number_of_active_predictors  number_of_iterations  \\\n",
       "0                          19                     3   \n",
       "\n",
       "                      training_frame  \n",
       "0  _b95e9bc09d038fdb60ea6c70c62d4851  "
      ]
     },
     "metadata": {},
     "output_type": "display_data"
    },
    {
     "name": "stdout",
     "output_type": "stream",
     "text": [
      "\n"
     ]
    }
   ],
   "source": [
    "from h2o.estimators.glm import H2OGeneralizedLinearEstimator\n",
    "predictors = train_te.columns\n",
    "for col in encoded_columns+str_col:\n",
    "    predictors.remove(col)\n",
    "predictors.remove(\"Defaulted\")\n",
    "print(\"Predictor columns:\", predictors)    \n",
    "response_col = \"Defaulted\"\n",
    "glm_model = H2OGeneralizedLinearEstimator(family=\"binomial\",\n",
    "                                          nfolds=0, #No cross-validation (faster)\n",
    "                                          alpha=0,\n",
    "                                          lambda_=0.3,\n",
    "                                          compute_p_values=False,\n",
    "                                          seed=123)\n",
    "glm_model.train(predictors, response_col, training_frame= train_te)\n",
    "model_summary = glm_model.summary()\n",
    "print(model_summary)"
   ]
  },
  {
   "cell_type": "markdown",
   "id": "097c2755",
   "metadata": {},
   "source": [
    "### Evaluate model on testing dataset"
   ]
  },
  {
   "cell_type": "code",
   "execution_count": 11,
   "id": "6125b349",
   "metadata": {
    "scrolled": true
   },
   "outputs": [
    {
     "name": "stdout",
     "output_type": "stream",
     "text": [
      "\n",
      "ModelMetricsBinomialGLM: glm\n",
      "** Reported on test data. **\n",
      "\n",
      "MSE: 0.13011073602031084\n",
      "RMSE: 0.360708658088922\n",
      "LogLoss: 0.4158386941698601\n",
      "Null degrees of freedom: 67412\n",
      "Residual degrees of freedom: 67393\n",
      "Null deviance: 62844.02125549819\n",
      "Residual deviance: 56065.867780145556\n",
      "AIC: 56105.867780145556\n",
      "AUC: 0.7606094504030156\n",
      "AUCPR: 0.4263612141115434\n",
      "Gini: 0.5212189008060313\n",
      "\n",
      "Confusion Matrix (Act/Pred) for max f1 @ threshold = 0.22074562769885278: \n"
     ]
    },
    {
     "data": {
      "text/html": [
       "<div>\n",
       "<style scoped>\n",
       "    .dataframe tbody tr th:only-of-type {\n",
       "        vertical-align: middle;\n",
       "    }\n",
       "\n",
       "    .dataframe tbody tr th {\n",
       "        vertical-align: top;\n",
       "    }\n",
       "\n",
       "    .dataframe thead th {\n",
       "        text-align: right;\n",
       "    }\n",
       "</style>\n",
       "<table border=\"1\" class=\"dataframe\">\n",
       "  <thead>\n",
       "    <tr style=\"text-align: right;\">\n",
       "      <th></th>\n",
       "      <th></th>\n",
       "      <th>0</th>\n",
       "      <th>1</th>\n",
       "      <th>Error</th>\n",
       "      <th>Rate</th>\n",
       "    </tr>\n",
       "  </thead>\n",
       "  <tbody>\n",
       "    <tr>\n",
       "      <th>0</th>\n",
       "      <td>0</td>\n",
       "      <td>45537.0</td>\n",
       "      <td>9975.0</td>\n",
       "      <td>0.1797</td>\n",
       "      <td>(9975.0/55512.0)</td>\n",
       "    </tr>\n",
       "    <tr>\n",
       "      <th>1</th>\n",
       "      <td>1</td>\n",
       "      <td>5562.0</td>\n",
       "      <td>6339.0</td>\n",
       "      <td>0.4674</td>\n",
       "      <td>(5562.0/11901.0)</td>\n",
       "    </tr>\n",
       "    <tr>\n",
       "      <th>2</th>\n",
       "      <td>Total</td>\n",
       "      <td>51099.0</td>\n",
       "      <td>16314.0</td>\n",
       "      <td>0.2305</td>\n",
       "      <td>(15537.0/67413.0)</td>\n",
       "    </tr>\n",
       "  </tbody>\n",
       "</table>\n",
       "</div>"
      ],
      "text/plain": [
       "                0        1   Error                Rate\n",
       "0      0  45537.0   9975.0  0.1797    (9975.0/55512.0)\n",
       "1      1   5562.0   6339.0  0.4674    (5562.0/11901.0)\n",
       "2  Total  51099.0  16314.0  0.2305   (15537.0/67413.0)"
      ]
     },
     "metadata": {},
     "output_type": "display_data"
    },
    {
     "name": "stdout",
     "output_type": "stream",
     "text": [
      "\n",
      "Maximum Metrics: Maximum metrics at their respective thresholds\n"
     ]
    },
    {
     "data": {
      "text/html": [
       "<div>\n",
       "<style scoped>\n",
       "    .dataframe tbody tr th:only-of-type {\n",
       "        vertical-align: middle;\n",
       "    }\n",
       "\n",
       "    .dataframe tbody tr th {\n",
       "        vertical-align: top;\n",
       "    }\n",
       "\n",
       "    .dataframe thead th {\n",
       "        text-align: right;\n",
       "    }\n",
       "</style>\n",
       "<table border=\"1\" class=\"dataframe\">\n",
       "  <thead>\n",
       "    <tr style=\"text-align: right;\">\n",
       "      <th></th>\n",
       "      <th>metric</th>\n",
       "      <th>threshold</th>\n",
       "      <th>value</th>\n",
       "      <th>idx</th>\n",
       "    </tr>\n",
       "  </thead>\n",
       "  <tbody>\n",
       "    <tr>\n",
       "      <th>0</th>\n",
       "      <td>max f1</td>\n",
       "      <td>0.220746</td>\n",
       "      <td>0.449335</td>\n",
       "      <td>169.0</td>\n",
       "    </tr>\n",
       "    <tr>\n",
       "      <th>1</th>\n",
       "      <td>max f2</td>\n",
       "      <td>0.158310</td>\n",
       "      <td>0.589340</td>\n",
       "      <td>254.0</td>\n",
       "    </tr>\n",
       "    <tr>\n",
       "      <th>2</th>\n",
       "      <td>max f0point5</td>\n",
       "      <td>0.258700</td>\n",
       "      <td>0.444638</td>\n",
       "      <td>126.0</td>\n",
       "    </tr>\n",
       "    <tr>\n",
       "      <th>3</th>\n",
       "      <td>max accuracy</td>\n",
       "      <td>0.310534</td>\n",
       "      <td>0.832985</td>\n",
       "      <td>81.0</td>\n",
       "    </tr>\n",
       "    <tr>\n",
       "      <th>4</th>\n",
       "      <td>max precision</td>\n",
       "      <td>0.596815</td>\n",
       "      <td>1.000000</td>\n",
       "      <td>0.0</td>\n",
       "    </tr>\n",
       "    <tr>\n",
       "      <th>5</th>\n",
       "      <td>max recall</td>\n",
       "      <td>0.042332</td>\n",
       "      <td>1.000000</td>\n",
       "      <td>393.0</td>\n",
       "    </tr>\n",
       "    <tr>\n",
       "      <th>6</th>\n",
       "      <td>max specificity</td>\n",
       "      <td>0.596815</td>\n",
       "      <td>1.000000</td>\n",
       "      <td>0.0</td>\n",
       "    </tr>\n",
       "    <tr>\n",
       "      <th>7</th>\n",
       "      <td>max absolute_mcc</td>\n",
       "      <td>0.220746</td>\n",
       "      <td>0.314207</td>\n",
       "      <td>169.0</td>\n",
       "    </tr>\n",
       "    <tr>\n",
       "      <th>8</th>\n",
       "      <td>max min_per_class_accuracy</td>\n",
       "      <td>0.190939</td>\n",
       "      <td>0.688121</td>\n",
       "      <td>208.0</td>\n",
       "    </tr>\n",
       "    <tr>\n",
       "      <th>9</th>\n",
       "      <td>max mean_per_class_accuracy</td>\n",
       "      <td>0.200945</td>\n",
       "      <td>0.690015</td>\n",
       "      <td>195.0</td>\n",
       "    </tr>\n",
       "    <tr>\n",
       "      <th>10</th>\n",
       "      <td>max tns</td>\n",
       "      <td>0.596815</td>\n",
       "      <td>55512.000000</td>\n",
       "      <td>0.0</td>\n",
       "    </tr>\n",
       "    <tr>\n",
       "      <th>11</th>\n",
       "      <td>max fns</td>\n",
       "      <td>0.596815</td>\n",
       "      <td>11900.000000</td>\n",
       "      <td>0.0</td>\n",
       "    </tr>\n",
       "    <tr>\n",
       "      <th>12</th>\n",
       "      <td>max fps</td>\n",
       "      <td>0.016168</td>\n",
       "      <td>55512.000000</td>\n",
       "      <td>399.0</td>\n",
       "    </tr>\n",
       "    <tr>\n",
       "      <th>13</th>\n",
       "      <td>max tps</td>\n",
       "      <td>0.042332</td>\n",
       "      <td>11901.000000</td>\n",
       "      <td>393.0</td>\n",
       "    </tr>\n",
       "    <tr>\n",
       "      <th>14</th>\n",
       "      <td>max tnr</td>\n",
       "      <td>0.596815</td>\n",
       "      <td>1.000000</td>\n",
       "      <td>0.0</td>\n",
       "    </tr>\n",
       "    <tr>\n",
       "      <th>15</th>\n",
       "      <td>max fnr</td>\n",
       "      <td>0.596815</td>\n",
       "      <td>0.999916</td>\n",
       "      <td>0.0</td>\n",
       "    </tr>\n",
       "    <tr>\n",
       "      <th>16</th>\n",
       "      <td>max fpr</td>\n",
       "      <td>0.016168</td>\n",
       "      <td>1.000000</td>\n",
       "      <td>399.0</td>\n",
       "    </tr>\n",
       "    <tr>\n",
       "      <th>17</th>\n",
       "      <td>max tpr</td>\n",
       "      <td>0.042332</td>\n",
       "      <td>1.000000</td>\n",
       "      <td>393.0</td>\n",
       "    </tr>\n",
       "  </tbody>\n",
       "</table>\n",
       "</div>"
      ],
      "text/plain": [
       "                         metric  threshold         value    idx\n",
       "0                        max f1   0.220746      0.449335  169.0\n",
       "1                        max f2   0.158310      0.589340  254.0\n",
       "2                  max f0point5   0.258700      0.444638  126.0\n",
       "3                  max accuracy   0.310534      0.832985   81.0\n",
       "4                 max precision   0.596815      1.000000    0.0\n",
       "5                    max recall   0.042332      1.000000  393.0\n",
       "6               max specificity   0.596815      1.000000    0.0\n",
       "7              max absolute_mcc   0.220746      0.314207  169.0\n",
       "8    max min_per_class_accuracy   0.190939      0.688121  208.0\n",
       "9   max mean_per_class_accuracy   0.200945      0.690015  195.0\n",
       "10                      max tns   0.596815  55512.000000    0.0\n",
       "11                      max fns   0.596815  11900.000000    0.0\n",
       "12                      max fps   0.016168  55512.000000  399.0\n",
       "13                      max tps   0.042332  11901.000000  393.0\n",
       "14                      max tnr   0.596815      1.000000    0.0\n",
       "15                      max fnr   0.596815      0.999916    0.0\n",
       "16                      max fpr   0.016168      1.000000  399.0\n",
       "17                      max tpr   0.042332      1.000000  393.0"
      ]
     },
     "metadata": {},
     "output_type": "display_data"
    },
    {
     "name": "stdout",
     "output_type": "stream",
     "text": [
      "\n",
      "Gains/Lift Table: Avg response rate: 17.65 %, avg score: 17.46 %\n"
     ]
    },
    {
     "data": {
      "text/html": [
       "<div>\n",
       "<style scoped>\n",
       "    .dataframe tbody tr th:only-of-type {\n",
       "        vertical-align: middle;\n",
       "    }\n",
       "\n",
       "    .dataframe tbody tr th {\n",
       "        vertical-align: top;\n",
       "    }\n",
       "\n",
       "    .dataframe thead th {\n",
       "        text-align: right;\n",
       "    }\n",
       "</style>\n",
       "<table border=\"1\" class=\"dataframe\">\n",
       "  <thead>\n",
       "    <tr style=\"text-align: right;\">\n",
       "      <th></th>\n",
       "      <th>group</th>\n",
       "      <th>cumulative_data_fraction</th>\n",
       "      <th>lower_threshold</th>\n",
       "      <th>lift</th>\n",
       "      <th>cumulative_lift</th>\n",
       "      <th>response_rate</th>\n",
       "      <th>score</th>\n",
       "      <th>cumulative_response_rate</th>\n",
       "      <th>cumulative_score</th>\n",
       "      <th>capture_rate</th>\n",
       "      <th>cumulative_capture_rate</th>\n",
       "      <th>gain</th>\n",
       "      <th>cumulative_gain</th>\n",
       "      <th>kolmogorov_smirnov</th>\n",
       "    </tr>\n",
       "  </thead>\n",
       "  <tbody>\n",
       "    <tr>\n",
       "      <th>0</th>\n",
       "      <td>1</td>\n",
       "      <td>0.010013</td>\n",
       "      <td>0.377481</td>\n",
       "      <td>4.103602</td>\n",
       "      <td>4.103602</td>\n",
       "      <td>0.724444</td>\n",
       "      <td>0.415096</td>\n",
       "      <td>0.724444</td>\n",
       "      <td>0.415096</td>\n",
       "      <td>0.041089</td>\n",
       "      <td>0.041089</td>\n",
       "      <td>310.360250</td>\n",
       "      <td>310.360250</td>\n",
       "      <td>0.037738</td>\n",
       "    </tr>\n",
       "    <tr>\n",
       "      <th>1</th>\n",
       "      <td>2</td>\n",
       "      <td>0.020011</td>\n",
       "      <td>0.349181</td>\n",
       "      <td>3.521392</td>\n",
       "      <td>3.812713</td>\n",
       "      <td>0.621662</td>\n",
       "      <td>0.362245</td>\n",
       "      <td>0.673091</td>\n",
       "      <td>0.388690</td>\n",
       "      <td>0.035207</td>\n",
       "      <td>0.076296</td>\n",
       "      <td>252.139161</td>\n",
       "      <td>281.271285</td>\n",
       "      <td>0.068352</td>\n",
       "    </tr>\n",
       "    <tr>\n",
       "      <th>2</th>\n",
       "      <td>3</td>\n",
       "      <td>0.030009</td>\n",
       "      <td>0.330251</td>\n",
       "      <td>3.344902</td>\n",
       "      <td>3.656853</td>\n",
       "      <td>0.590504</td>\n",
       "      <td>0.339146</td>\n",
       "      <td>0.645576</td>\n",
       "      <td>0.372184</td>\n",
       "      <td>0.033443</td>\n",
       "      <td>0.109739</td>\n",
       "      <td>234.490182</td>\n",
       "      <td>265.685292</td>\n",
       "      <td>0.096823</td>\n",
       "    </tr>\n",
       "    <tr>\n",
       "      <th>3</th>\n",
       "      <td>4</td>\n",
       "      <td>0.040007</td>\n",
       "      <td>0.316425</td>\n",
       "      <td>3.033944</td>\n",
       "      <td>3.501183</td>\n",
       "      <td>0.535608</td>\n",
       "      <td>0.322985</td>\n",
       "      <td>0.618094</td>\n",
       "      <td>0.359889</td>\n",
       "      <td>0.030334</td>\n",
       "      <td>0.140072</td>\n",
       "      <td>203.394361</td>\n",
       "      <td>250.118334</td>\n",
       "      <td>0.121518</td>\n",
       "    </tr>\n",
       "    <tr>\n",
       "      <th>4</th>\n",
       "      <td>5</td>\n",
       "      <td>0.050005</td>\n",
       "      <td>0.305620</td>\n",
       "      <td>2.807028</td>\n",
       "      <td>3.362393</td>\n",
       "      <td>0.495549</td>\n",
       "      <td>0.310859</td>\n",
       "      <td>0.593592</td>\n",
       "      <td>0.350085</td>\n",
       "      <td>0.028065</td>\n",
       "      <td>0.168137</td>\n",
       "      <td>180.702816</td>\n",
       "      <td>236.239348</td>\n",
       "      <td>0.143458</td>\n",
       "    </tr>\n",
       "    <tr>\n",
       "      <th>5</th>\n",
       "      <td>6</td>\n",
       "      <td>0.100010</td>\n",
       "      <td>0.270399</td>\n",
       "      <td>2.384426</td>\n",
       "      <td>2.873410</td>\n",
       "      <td>0.420943</td>\n",
       "      <td>0.286232</td>\n",
       "      <td>0.507268</td>\n",
       "      <td>0.318159</td>\n",
       "      <td>0.119234</td>\n",
       "      <td>0.287371</td>\n",
       "      <td>138.442596</td>\n",
       "      <td>187.340972</td>\n",
       "      <td>0.227528</td>\n",
       "    </tr>\n",
       "    <tr>\n",
       "      <th>6</th>\n",
       "      <td>7</td>\n",
       "      <td>0.150001</td>\n",
       "      <td>0.248578</td>\n",
       "      <td>1.971643</td>\n",
       "      <td>2.572880</td>\n",
       "      <td>0.348071</td>\n",
       "      <td>0.258933</td>\n",
       "      <td>0.454213</td>\n",
       "      <td>0.298421</td>\n",
       "      <td>0.098563</td>\n",
       "      <td>0.385934</td>\n",
       "      <td>97.164313</td>\n",
       "      <td>157.288031</td>\n",
       "      <td>0.286514</td>\n",
       "    </tr>\n",
       "    <tr>\n",
       "      <th>7</th>\n",
       "      <td>8</td>\n",
       "      <td>0.200006</td>\n",
       "      <td>0.232034</td>\n",
       "      <td>1.665233</td>\n",
       "      <td>2.345952</td>\n",
       "      <td>0.293978</td>\n",
       "      <td>0.239769</td>\n",
       "      <td>0.414151</td>\n",
       "      <td>0.283757</td>\n",
       "      <td>0.083270</td>\n",
       "      <td>0.469204</td>\n",
       "      <td>66.523335</td>\n",
       "      <td>134.595174</td>\n",
       "      <td>0.326911</td>\n",
       "    </tr>\n",
       "    <tr>\n",
       "      <th>8</th>\n",
       "      <td>9</td>\n",
       "      <td>0.300001</td>\n",
       "      <td>0.207156</td>\n",
       "      <td>1.361291</td>\n",
       "      <td>2.017748</td>\n",
       "      <td>0.240320</td>\n",
       "      <td>0.218935</td>\n",
       "      <td>0.356210</td>\n",
       "      <td>0.262151</td>\n",
       "      <td>0.136123</td>\n",
       "      <td>0.605327</td>\n",
       "      <td>36.129073</td>\n",
       "      <td>101.774763</td>\n",
       "      <td>0.370783</td>\n",
       "    </tr>\n",
       "    <tr>\n",
       "      <th>9</th>\n",
       "      <td>10</td>\n",
       "      <td>0.399997</td>\n",
       "      <td>0.186639</td>\n",
       "      <td>1.052059</td>\n",
       "      <td>1.776334</td>\n",
       "      <td>0.185729</td>\n",
       "      <td>0.196531</td>\n",
       "      <td>0.313592</td>\n",
       "      <td>0.245746</td>\n",
       "      <td>0.105201</td>\n",
       "      <td>0.710529</td>\n",
       "      <td>5.205925</td>\n",
       "      <td>77.633449</td>\n",
       "      <td>0.377105</td>\n",
       "    </tr>\n",
       "    <tr>\n",
       "      <th>10</th>\n",
       "      <td>11</td>\n",
       "      <td>0.500007</td>\n",
       "      <td>0.168391</td>\n",
       "      <td>0.883868</td>\n",
       "      <td>1.597825</td>\n",
       "      <td>0.156037</td>\n",
       "      <td>0.177407</td>\n",
       "      <td>0.282078</td>\n",
       "      <td>0.232077</td>\n",
       "      <td>0.088396</td>\n",
       "      <td>0.798924</td>\n",
       "      <td>-11.613245</td>\n",
       "      <td>59.782522</td>\n",
       "      <td>0.363001</td>\n",
       "    </tr>\n",
       "    <tr>\n",
       "      <th>11</th>\n",
       "      <td>12</td>\n",
       "      <td>0.600003</td>\n",
       "      <td>0.150490</td>\n",
       "      <td>0.698292</td>\n",
       "      <td>1.447910</td>\n",
       "      <td>0.123275</td>\n",
       "      <td>0.159454</td>\n",
       "      <td>0.255612</td>\n",
       "      <td>0.219974</td>\n",
       "      <td>0.069826</td>\n",
       "      <td>0.868751</td>\n",
       "      <td>-30.170827</td>\n",
       "      <td>44.791038</td>\n",
       "      <td>0.326363</td>\n",
       "    </tr>\n",
       "    <tr>\n",
       "      <th>12</th>\n",
       "      <td>13</td>\n",
       "      <td>0.699999</td>\n",
       "      <td>0.131386</td>\n",
       "      <td>0.532752</td>\n",
       "      <td>1.317179</td>\n",
       "      <td>0.094051</td>\n",
       "      <td>0.141118</td>\n",
       "      <td>0.232533</td>\n",
       "      <td>0.208709</td>\n",
       "      <td>0.053273</td>\n",
       "      <td>0.922023</td>\n",
       "      <td>-46.724795</td>\n",
       "      <td>31.717902</td>\n",
       "      <td>0.269624</td>\n",
       "    </tr>\n",
       "    <tr>\n",
       "      <th>13</th>\n",
       "      <td>14</td>\n",
       "      <td>0.799994</td>\n",
       "      <td>0.109270</td>\n",
       "      <td>0.378136</td>\n",
       "      <td>1.199803</td>\n",
       "      <td>0.066756</td>\n",
       "      <td>0.120657</td>\n",
       "      <td>0.211812</td>\n",
       "      <td>0.197703</td>\n",
       "      <td>0.037812</td>\n",
       "      <td>0.959835</td>\n",
       "      <td>-62.186369</td>\n",
       "      <td>19.980303</td>\n",
       "      <td>0.194109</td>\n",
       "    </tr>\n",
       "    <tr>\n",
       "      <th>14</th>\n",
       "      <td>15</td>\n",
       "      <td>0.899990</td>\n",
       "      <td>0.084111</td>\n",
       "      <td>0.270578</td>\n",
       "      <td>1.096559</td>\n",
       "      <td>0.047767</td>\n",
       "      <td>0.097021</td>\n",
       "      <td>0.193585</td>\n",
       "      <td>0.186517</td>\n",
       "      <td>0.027057</td>\n",
       "      <td>0.986892</td>\n",
       "      <td>-72.942246</td>\n",
       "      <td>9.655916</td>\n",
       "      <td>0.105533</td>\n",
       "    </tr>\n",
       "    <tr>\n",
       "      <th>15</th>\n",
       "      <td>16</td>\n",
       "      <td>1.000000</td>\n",
       "      <td>0.016071</td>\n",
       "      <td>0.131068</td>\n",
       "      <td>1.000000</td>\n",
       "      <td>0.023139</td>\n",
       "      <td>0.067611</td>\n",
       "      <td>0.176539</td>\n",
       "      <td>0.174625</td>\n",
       "      <td>0.013108</td>\n",
       "      <td>1.000000</td>\n",
       "      <td>-86.893219</td>\n",
       "      <td>0.000000</td>\n",
       "      <td>0.000000</td>\n",
       "    </tr>\n",
       "  </tbody>\n",
       "</table>\n",
       "</div>"
      ],
      "text/plain": [
       "    group  cumulative_data_fraction  lower_threshold      lift  \\\n",
       "0       1                  0.010013         0.377481  4.103602   \n",
       "1       2                  0.020011         0.349181  3.521392   \n",
       "2       3                  0.030009         0.330251  3.344902   \n",
       "3       4                  0.040007         0.316425  3.033944   \n",
       "4       5                  0.050005         0.305620  2.807028   \n",
       "5       6                  0.100010         0.270399  2.384426   \n",
       "6       7                  0.150001         0.248578  1.971643   \n",
       "7       8                  0.200006         0.232034  1.665233   \n",
       "8       9                  0.300001         0.207156  1.361291   \n",
       "9      10                  0.399997         0.186639  1.052059   \n",
       "10     11                  0.500007         0.168391  0.883868   \n",
       "11     12                  0.600003         0.150490  0.698292   \n",
       "12     13                  0.699999         0.131386  0.532752   \n",
       "13     14                  0.799994         0.109270  0.378136   \n",
       "14     15                  0.899990         0.084111  0.270578   \n",
       "15     16                  1.000000         0.016071  0.131068   \n",
       "\n",
       "    cumulative_lift  response_rate     score  cumulative_response_rate  \\\n",
       "0          4.103602       0.724444  0.415096                  0.724444   \n",
       "1          3.812713       0.621662  0.362245                  0.673091   \n",
       "2          3.656853       0.590504  0.339146                  0.645576   \n",
       "3          3.501183       0.535608  0.322985                  0.618094   \n",
       "4          3.362393       0.495549  0.310859                  0.593592   \n",
       "5          2.873410       0.420943  0.286232                  0.507268   \n",
       "6          2.572880       0.348071  0.258933                  0.454213   \n",
       "7          2.345952       0.293978  0.239769                  0.414151   \n",
       "8          2.017748       0.240320  0.218935                  0.356210   \n",
       "9          1.776334       0.185729  0.196531                  0.313592   \n",
       "10         1.597825       0.156037  0.177407                  0.282078   \n",
       "11         1.447910       0.123275  0.159454                  0.255612   \n",
       "12         1.317179       0.094051  0.141118                  0.232533   \n",
       "13         1.199803       0.066756  0.120657                  0.211812   \n",
       "14         1.096559       0.047767  0.097021                  0.193585   \n",
       "15         1.000000       0.023139  0.067611                  0.176539   \n",
       "\n",
       "    cumulative_score  capture_rate  cumulative_capture_rate        gain  \\\n",
       "0           0.415096      0.041089                 0.041089  310.360250   \n",
       "1           0.388690      0.035207                 0.076296  252.139161   \n",
       "2           0.372184      0.033443                 0.109739  234.490182   \n",
       "3           0.359889      0.030334                 0.140072  203.394361   \n",
       "4           0.350085      0.028065                 0.168137  180.702816   \n",
       "5           0.318159      0.119234                 0.287371  138.442596   \n",
       "6           0.298421      0.098563                 0.385934   97.164313   \n",
       "7           0.283757      0.083270                 0.469204   66.523335   \n",
       "8           0.262151      0.136123                 0.605327   36.129073   \n",
       "9           0.245746      0.105201                 0.710529    5.205925   \n",
       "10          0.232077      0.088396                 0.798924  -11.613245   \n",
       "11          0.219974      0.069826                 0.868751  -30.170827   \n",
       "12          0.208709      0.053273                 0.922023  -46.724795   \n",
       "13          0.197703      0.037812                 0.959835  -62.186369   \n",
       "14          0.186517      0.027057                 0.986892  -72.942246   \n",
       "15          0.174625      0.013108                 1.000000  -86.893219   \n",
       "\n",
       "    cumulative_gain  kolmogorov_smirnov  \n",
       "0        310.360250            0.037738  \n",
       "1        281.271285            0.068352  \n",
       "2        265.685292            0.096823  \n",
       "3        250.118334            0.121518  \n",
       "4        236.239348            0.143458  \n",
       "5        187.340972            0.227528  \n",
       "6        157.288031            0.286514  \n",
       "7        134.595174            0.326911  \n",
       "8        101.774763            0.370783  \n",
       "9         77.633449            0.377105  \n",
       "10        59.782522            0.363001  \n",
       "11        44.791038            0.326363  \n",
       "12        31.717902            0.269624  \n",
       "13        19.980303            0.194109  \n",
       "14         9.655916            0.105533  \n",
       "15         0.000000            0.000000  "
      ]
     },
     "metadata": {},
     "output_type": "display_data"
    },
    {
     "name": "stdout",
     "output_type": "stream",
     "text": [
      "\n"
     ]
    },
    {
     "data": {
      "text/plain": []
     },
     "execution_count": 11,
     "metadata": {},
     "output_type": "execute_result"
    }
   ],
   "source": [
    "glm_model.model_performance(test_te)"
   ]
  },
  {
   "cell_type": "markdown",
   "id": "21680553",
   "metadata": {},
   "source": [
    "### Example of extracting model performance metrics from the \"model_performance\" method output"
   ]
  },
  {
   "cell_type": "code",
   "execution_count": 12,
   "id": "2b381f47",
   "metadata": {},
   "outputs": [
    {
     "name": "stdout",
     "output_type": "stream",
     "text": [
      "Best accuracy threshold: 0.31053354335311995  Accuracy: 0.8329847358818032\n",
      "Best F1 threshold: 0.22074562769885278  F1: 0.44933545986177564\n",
      "Model AUC: 0.7606094504030156\n"
     ]
    }
   ],
   "source": [
    "print(\"Best accuracy threshold:\",glm_model.model_performance(test_te).accuracy()[0][0],\n",
    "      \" Accuracy:\",\n",
    "      glm_model.model_performance(test_te).accuracy()[0][1])\n",
    "print(\"Best F1 threshold:\",glm_model.model_performance(test_te).F1()[0][0],\n",
    "      \" F1:\",\n",
    "      glm_model.model_performance(test_te).F1()[0][1])\n",
    "print(\"Model AUC:\", glm_model.model_performance(test_te).auc())"
   ]
  },
  {
   "cell_type": "markdown",
   "id": "d2482545",
   "metadata": {},
   "source": [
    "### Print Coefficients"
   ]
  },
  {
   "cell_type": "code",
   "execution_count": 13,
   "id": "41490647",
   "metadata": {},
   "outputs": [
    {
     "name": "stdout",
     "output_type": "stream",
     "text": [
      "\n",
      "Coefficients: glm coefficients\n"
     ]
    },
    {
     "data": {
      "text/html": [
       "<div>\n",
       "<style scoped>\n",
       "    .dataframe tbody tr th:only-of-type {\n",
       "        vertical-align: middle;\n",
       "    }\n",
       "\n",
       "    .dataframe tbody tr th {\n",
       "        vertical-align: top;\n",
       "    }\n",
       "\n",
       "    .dataframe thead th {\n",
       "        text-align: right;\n",
       "    }\n",
       "</style>\n",
       "<table border=\"1\" class=\"dataframe\">\n",
       "  <thead>\n",
       "    <tr style=\"text-align: right;\">\n",
       "      <th></th>\n",
       "      <th>names</th>\n",
       "      <th>coefficients</th>\n",
       "      <th>standardized_coefficients</th>\n",
       "    </tr>\n",
       "  </thead>\n",
       "  <tbody>\n",
       "    <tr>\n",
       "      <th>0</th>\n",
       "      <td>Intercept</td>\n",
       "      <td>-1.885570e+00</td>\n",
       "      <td>-1.643094</td>\n",
       "    </tr>\n",
       "    <tr>\n",
       "      <th>1</th>\n",
       "      <td>City_te</td>\n",
       "      <td>9.622130e-01</td>\n",
       "      <td>0.116268</td>\n",
       "    </tr>\n",
       "    <tr>\n",
       "      <th>2</th>\n",
       "      <td>State_te</td>\n",
       "      <td>-4.327879e-01</td>\n",
       "      <td>-0.041818</td>\n",
       "    </tr>\n",
       "    <tr>\n",
       "      <th>3</th>\n",
       "      <td>Zip_te</td>\n",
       "      <td>1.209352e+00</td>\n",
       "      <td>0.157659</td>\n",
       "    </tr>\n",
       "    <tr>\n",
       "      <th>4</th>\n",
       "      <td>Bank_te</td>\n",
       "      <td>1.156602e+00</td>\n",
       "      <td>0.176475</td>\n",
       "    </tr>\n",
       "    <tr>\n",
       "      <th>5</th>\n",
       "      <td>BankState_te</td>\n",
       "      <td>2.894366e-01</td>\n",
       "      <td>0.033344</td>\n",
       "    </tr>\n",
       "    <tr>\n",
       "      <th>6</th>\n",
       "      <td>RevLineCr_te</td>\n",
       "      <td>-1.893636e-01</td>\n",
       "      <td>-0.019564</td>\n",
       "    </tr>\n",
       "    <tr>\n",
       "      <th>7</th>\n",
       "      <td>LowDoc_te</td>\n",
       "      <td>-5.470972e-01</td>\n",
       "      <td>-0.050798</td>\n",
       "    </tr>\n",
       "    <tr>\n",
       "      <th>8</th>\n",
       "      <td>NAICS</td>\n",
       "      <td>2.163698e-07</td>\n",
       "      <td>0.057001</td>\n",
       "    </tr>\n",
       "    <tr>\n",
       "      <th>9</th>\n",
       "      <td>Term</td>\n",
       "      <td>-3.006346e-03</td>\n",
       "      <td>-0.237252</td>\n",
       "    </tr>\n",
       "    <tr>\n",
       "      <th>10</th>\n",
       "      <td>NoEmp</td>\n",
       "      <td>-1.434826e-04</td>\n",
       "      <td>-0.011588</td>\n",
       "    </tr>\n",
       "    <tr>\n",
       "      <th>11</th>\n",
       "      <td>NewExist</td>\n",
       "      <td>1.477712e-02</td>\n",
       "      <td>0.006678</td>\n",
       "    </tr>\n",
       "    <tr>\n",
       "      <th>12</th>\n",
       "      <td>CreateJob</td>\n",
       "      <td>4.791825e-05</td>\n",
       "      <td>0.011602</td>\n",
       "    </tr>\n",
       "    <tr>\n",
       "      <th>13</th>\n",
       "      <td>RetainedJob</td>\n",
       "      <td>4.849534e-05</td>\n",
       "      <td>0.011758</td>\n",
       "    </tr>\n",
       "    <tr>\n",
       "      <th>14</th>\n",
       "      <td>FranchiseCode</td>\n",
       "      <td>-4.822575e-07</td>\n",
       "      <td>-0.006176</td>\n",
       "    </tr>\n",
       "    <tr>\n",
       "      <th>15</th>\n",
       "      <td>UrbanRural</td>\n",
       "      <td>1.599907e-01</td>\n",
       "      <td>0.103444</td>\n",
       "    </tr>\n",
       "    <tr>\n",
       "      <th>16</th>\n",
       "      <td>DisbursementGross</td>\n",
       "      <td>-1.096023e-07</td>\n",
       "      <td>-0.031415</td>\n",
       "    </tr>\n",
       "    <tr>\n",
       "      <th>17</th>\n",
       "      <td>BalanceGross</td>\n",
       "      <td>-3.371845e-07</td>\n",
       "      <td>-0.000814</td>\n",
       "    </tr>\n",
       "    <tr>\n",
       "      <th>18</th>\n",
       "      <td>GrAppv</td>\n",
       "      <td>-1.323202e-07</td>\n",
       "      <td>-0.037434</td>\n",
       "    </tr>\n",
       "    <tr>\n",
       "      <th>19</th>\n",
       "      <td>SBA_Appv</td>\n",
       "      <td>-2.078421e-07</td>\n",
       "      <td>-0.047524</td>\n",
       "    </tr>\n",
       "  </tbody>\n",
       "</table>\n",
       "</div>"
      ],
      "text/plain": [
       "                names  coefficients  standardized_coefficients\n",
       "0           Intercept -1.885570e+00                  -1.643094\n",
       "1             City_te  9.622130e-01                   0.116268\n",
       "2            State_te -4.327879e-01                  -0.041818\n",
       "3              Zip_te  1.209352e+00                   0.157659\n",
       "4             Bank_te  1.156602e+00                   0.176475\n",
       "5        BankState_te  2.894366e-01                   0.033344\n",
       "6        RevLineCr_te -1.893636e-01                  -0.019564\n",
       "7           LowDoc_te -5.470972e-01                  -0.050798\n",
       "8               NAICS  2.163698e-07                   0.057001\n",
       "9                Term -3.006346e-03                  -0.237252\n",
       "10              NoEmp -1.434826e-04                  -0.011588\n",
       "11           NewExist  1.477712e-02                   0.006678\n",
       "12          CreateJob  4.791825e-05                   0.011602\n",
       "13        RetainedJob  4.849534e-05                   0.011758\n",
       "14      FranchiseCode -4.822575e-07                  -0.006176\n",
       "15         UrbanRural  1.599907e-01                   0.103444\n",
       "16  DisbursementGross -1.096023e-07                  -0.031415\n",
       "17       BalanceGross -3.371845e-07                  -0.000814\n",
       "18             GrAppv -1.323202e-07                  -0.037434\n",
       "19           SBA_Appv -2.078421e-07                  -0.047524"
      ]
     },
     "metadata": {},
     "output_type": "display_data"
    },
    {
     "data": {
      "text/plain": []
     },
     "execution_count": 13,
     "metadata": {},
     "output_type": "execute_result"
    }
   ],
   "source": [
    "# Print the Coefficients table\n",
    "glm_model._model_json['output']['coefficients_table']"
   ]
  },
  {
   "cell_type": "markdown",
   "id": "4d63de5f",
   "metadata": {},
   "source": [
    "## Question 2\n",
    "\n",
    "Alpha setting explanation: https://docs.h2o.ai/h2o/latest-stable/h2o-docs/data-science/algo-params/alpha.html  \n",
    "- `alpha=1` - Lasso regression\n",
    "- `alpha=0` - Ridge regression  \n",
    "\n",
    "In order for GLM to use regularization, `lambda_` parameter must be set to be greater than `0`.  \n",
    "\n",
    "Find best parameters using H2O GridSearch for the following search space. Modify code as needed to make it work:\n",
    "```\n",
    "# GLM hyperparameters\n",
    "glm_params  = {'alpha': [0, 0.1, 0.2, 0.3,0.5,0.7,0.8,0.9,1],\n",
    "               'lambda': [0.01, 0.05, 0.1, 0.2, 0.3, 0.4]}\n",
    "\n",
    "# Train and validate a cartesian grid of GLMs\n",
    "glm_grid  = H2OGridSearch(model=H2OGeneralizedLinearEstimator,\n",
    "                          grid_id='glm_grid1',\n",
    "                          hyper_params=glm_params)\n",
    "\n",
    "glm_grid.train(x=x, y=y,\n",
    "               family='binomial',\n",
    "               training_frame=train,\n",
    "               validation_frame=valid,\n",
    "               seed=123)\n",
    "```\n",
    "Answer following questions: \n",
    "- What is the best set of parameters for the GLM function?\n",
    "- What is the best model performance (AUC) on validation dataset?\n",
    "- What is the best model performance (AUC) on test dataset?"
   ]
  },
  {
   "cell_type": "code",
   "execution_count": 15,
   "id": "0a6e33fe",
   "metadata": {
    "scrolled": true
   },
   "outputs": [
    {
     "name": "stdout",
     "output_type": "stream",
     "text": [
      "glm Grid Build progress: |███████████████████████████████████████████████████████| (done) 100%\n"
     ]
    },
    {
     "name": "stderr",
     "output_type": "stream",
     "text": [
      "C:\\Users\\srbuj\\anaconda3\\lib\\site-packages\\h2o\\grid\\grid_search.py:423: UserWarning: Adding alpha array to hyperparameter runs slower with gridsearch.  This is due to the fact that the algo has to run initialization for every alpha value.  Setting the alpha array as a model parameter will skip the initialization and run faster overall.\n",
      "  warnings.warn(w_message);\n"
     ]
    },
    {
     "name": "stdout",
     "output_type": "stream",
     "text": [
      "      alpha  lambda          model_ids   logloss\n",
      "0       1.0    0.01   glm_grid_model_9  0.366330\n",
      "1       0.9    0.01   glm_grid_model_8  0.366366\n",
      "2       0.8    0.01   glm_grid_model_7  0.366442\n",
      "3       0.7    0.01   glm_grid_model_6  0.366558\n",
      "4       0.5    0.01   glm_grid_model_5  0.366932\n",
      "5       0.3    0.01   glm_grid_model_4  0.367567\n",
      "6       0.2    0.01   glm_grid_model_3  0.367864\n",
      "7       0.1    0.01   glm_grid_model_2  0.368206\n",
      "8       0.0    0.01   glm_grid_model_1  0.368421\n",
      "9       0.0    0.05  glm_grid_model_10  0.380401\n",
      "10      0.1    0.05  glm_grid_model_11  0.381439\n",
      "11      0.2    0.05  glm_grid_model_12  0.382847\n",
      "12      0.3    0.05  glm_grid_model_13  0.384804\n",
      "13      0.5    0.05  glm_grid_model_14  0.390213\n",
      "14      0.0    0.10  glm_grid_model_19  0.391423\n",
      "15      0.7    0.05  glm_grid_model_15  0.394385\n",
      "16      0.1    0.10  glm_grid_model_20  0.395115\n",
      "17      0.8    0.05  glm_grid_model_16  0.396532\n",
      "18      0.9    0.05  glm_grid_model_17  0.398214\n",
      "19      1.0    0.05  glm_grid_model_18  0.399973\n",
      "20      0.2    0.10  glm_grid_model_21  0.400279\n",
      "21      0.3    0.10  glm_grid_model_22  0.404805\n",
      "22      0.0    0.20  glm_grid_model_28  0.404988\n",
      "23      0.5    0.10  glm_grid_model_23  0.413273\n",
      "24      0.0    0.30  glm_grid_model_37  0.413376\n",
      "25      0.1    0.20  glm_grid_model_29  0.414229\n",
      "26      0.0    0.40  glm_grid_model_46  0.419268\n",
      "27      0.2    0.20  glm_grid_model_30  0.421869\n",
      "28      0.7    0.10  glm_grid_model_24  0.423259\n",
      "29      0.1    0.30  glm_grid_model_38  0.425719\n",
      "30      0.8    0.10  glm_grid_model_25  0.429867\n",
      "31      0.3    0.20  glm_grid_model_31  0.430503\n",
      "32      0.1    0.40  glm_grid_model_47  0.434405\n",
      "33      0.2    0.30  glm_grid_model_39  0.437356\n",
      "34      0.9    0.10  glm_grid_model_26  0.437718\n",
      "35      1.0    0.10  glm_grid_model_27  0.447170\n",
      "36      0.2    0.40  glm_grid_model_48  0.449127\n",
      "37      0.3    0.30  glm_grid_model_40  0.450787\n",
      "38      0.5    0.20  glm_grid_model_32  0.453086\n",
      "39      0.7    0.20  glm_grid_model_33  0.463532\n",
      "40      0.8    0.20  glm_grid_model_34  0.463532\n",
      "41      0.9    0.20  glm_grid_model_35  0.463532\n",
      "42      1.0    0.20  glm_grid_model_36  0.463532\n",
      "43      0.5    0.30  glm_grid_model_41  0.463532\n",
      "44      0.7    0.30  glm_grid_model_42  0.463532\n",
      "45      0.8    0.30  glm_grid_model_43  0.463532\n",
      "46      0.9    0.30  glm_grid_model_44  0.463532\n",
      "47      1.0    0.30  glm_grid_model_45  0.463532\n",
      "48      0.3    0.40  glm_grid_model_49  0.463532\n",
      "49      0.5    0.40  glm_grid_model_50  0.463532\n",
      "50      0.7    0.40  glm_grid_model_51  0.463532\n",
      "51      0.8    0.40  glm_grid_model_52  0.463532\n",
      "52      0.9    0.40  glm_grid_model_53  0.463532\n",
      "53      1.0    0.40  glm_grid_model_54  0.463532\n"
     ]
    },
    {
     "data": {
      "text/plain": []
     },
     "execution_count": 15,
     "metadata": {},
     "output_type": "execute_result"
    }
   ],
   "source": [
    "from h2o.grid.grid_search import H2OGridSearch\n",
    "glm_params  = {'alpha': [0, 0.1, 0.2, 0.3,0.5,0.7,0.8,0.9,1],\n",
    "               'lambda': [0.01, 0.05, 0.1, 0.2, 0.3, 0.4]}\n",
    "glm_grid  = H2OGridSearch(model=H2OGeneralizedLinearEstimator,\n",
    "                          grid_id='glm_grid',\n",
    "                          hyper_params=glm_params)\n",
    "glm_grid.train(x=predictors, y=response_col,\n",
    "               family='binomial',\n",
    "               training_frame=train_te,\n",
    "               validation_frame=valid_te,\n",
    "               seed=123)\n",
    "\n"
   ]
  },
  {
   "cell_type": "markdown",
   "id": "bdc76e4e",
   "metadata": {},
   "source": [
    "### The best set of parameters for GLM function are alpha=1.0 and lambda=0.01"
   ]
  },
  {
   "cell_type": "code",
   "execution_count": 16,
   "id": "3413b84a",
   "metadata": {
    "scrolled": true
   },
   "outputs": [
    {
     "name": "stdout",
     "output_type": "stream",
     "text": [
      "      alpha  lambda          model_ids       auc\n",
      "0       1.0    0.10  glm_grid_model_27  0.829596\n",
      "1       0.5    0.20  glm_grid_model_32  0.827546\n",
      "2       1.0    0.01   glm_grid_model_9  0.818343\n",
      "3       0.9    0.10  glm_grid_model_26  0.818110\n",
      "4       0.9    0.01   glm_grid_model_8  0.817943\n",
      "5       0.8    0.01   glm_grid_model_7  0.817369\n",
      "6       0.7    0.01   glm_grid_model_6  0.816756\n",
      "7       0.5    0.01   glm_grid_model_5  0.815695\n",
      "8       0.3    0.01   glm_grid_model_4  0.814274\n",
      "9       0.2    0.01   glm_grid_model_3  0.813854\n",
      "10      0.1    0.01   glm_grid_model_2  0.813137\n",
      "11      0.0    0.01   glm_grid_model_1  0.812897\n",
      "12      0.8    0.10  glm_grid_model_25  0.807139\n",
      "13      0.3    0.30  glm_grid_model_40  0.805974\n",
      "14      0.2    0.05  glm_grid_model_12  0.799410\n",
      "15      0.1    0.05  glm_grid_model_11  0.798964\n",
      "16      0.3    0.05  glm_grid_model_13  0.798757\n",
      "17      0.0    0.05  glm_grid_model_10  0.798079\n",
      "18      1.0    0.05  glm_grid_model_18  0.797071\n",
      "19      0.7    0.10  glm_grid_model_24  0.795937\n",
      "20      0.9    0.05  glm_grid_model_17  0.794096\n",
      "21      0.5    0.05  glm_grid_model_14  0.793039\n",
      "22      0.8    0.05  glm_grid_model_16  0.791977\n",
      "23      0.7    0.05  glm_grid_model_15  0.791809\n",
      "24      0.1    0.10  glm_grid_model_20  0.787060\n",
      "25      0.0    0.10  glm_grid_model_19  0.787048\n",
      "26      0.2    0.40  glm_grid_model_48  0.785016\n",
      "27      0.5    0.10  glm_grid_model_23  0.781635\n",
      "28      0.2    0.10  glm_grid_model_21  0.780588\n",
      "29      0.3    0.10  glm_grid_model_22  0.777388\n",
      "30      0.3    0.20  glm_grid_model_31  0.775474\n",
      "31      0.0    0.20  glm_grid_model_28  0.772486\n",
      "32      0.2    0.30  glm_grid_model_39  0.768228\n",
      "33      0.2    0.20  glm_grid_model_30  0.766347\n",
      "34      0.1    0.20  glm_grid_model_29  0.762829\n",
      "35      0.0    0.30  glm_grid_model_37  0.762750\n",
      "36      0.1    0.30  glm_grid_model_38  0.756874\n",
      "37      0.0    0.40  glm_grid_model_46  0.755754\n",
      "38      0.1    0.40  glm_grid_model_47  0.755139\n",
      "39      0.7    0.20  glm_grid_model_33  0.500000\n",
      "40      0.8    0.20  glm_grid_model_34  0.500000\n",
      "41      0.9    0.20  glm_grid_model_35  0.500000\n",
      "42      1.0    0.20  glm_grid_model_36  0.500000\n",
      "43      0.5    0.30  glm_grid_model_41  0.500000\n",
      "44      0.7    0.30  glm_grid_model_42  0.500000\n",
      "45      0.8    0.30  glm_grid_model_43  0.500000\n",
      "46      0.9    0.30  glm_grid_model_44  0.500000\n",
      "47      1.0    0.30  glm_grid_model_45  0.500000\n",
      "48      0.3    0.40  glm_grid_model_49  0.500000\n",
      "49      0.5    0.40  glm_grid_model_50  0.500000\n",
      "50      0.7    0.40  glm_grid_model_51  0.500000\n",
      "51      0.8    0.40  glm_grid_model_52  0.500000\n",
      "52      0.9    0.40  glm_grid_model_53  0.500000\n",
      "53      1.0    0.40  glm_grid_model_54  0.500000\n",
      "\n"
     ]
    },
    {
     "data": {
      "text/plain": [
       "0.8060719522013838"
      ]
     },
     "execution_count": 16,
     "metadata": {},
     "output_type": "execute_result"
    }
   ],
   "source": [
    "gbm_gridperf1 = glm_grid.get_grid(sort_by='auc', decreasing=True)\n",
    "print(gbm_gridperf1)\n",
    "\n",
    "# Grab the top GBM model, chosen by validation AUC\n",
    "best_gbm1 = gbm_gridperf1.models[0]\n",
    "\n",
    "# Now let's evaluate the model performance on a test set\n",
    "# so we get an honest estimate of top model performance\n",
    "best_gbm_perf1 = best_gbm1.model_performance(test)\n",
    "\n",
    "best_gbm_perf1.auc()"
   ]
  },
  {
   "cell_type": "markdown",
   "id": "48597ec4",
   "metadata": {},
   "source": [
    "### The best model performance(based on auc) on test data is 0.806"
   ]
  },
  {
   "cell_type": "code",
   "execution_count": 17,
   "id": "d69ad0df",
   "metadata": {},
   "outputs": [
    {
     "data": {
      "text/plain": [
       "0.804584497296044"
      ]
     },
     "execution_count": 17,
     "metadata": {},
     "output_type": "execute_result"
    }
   ],
   "source": [
    "best_gbm_perf1 = best_gbm1.model_performance(valid)\n",
    "\n",
    "best_gbm_perf1.auc()"
   ]
  },
  {
   "cell_type": "markdown",
   "id": "6007a9d9",
   "metadata": {},
   "source": [
    "### The best model performance(based on auc) on valid data is 0.804"
   ]
  },
  {
   "cell_type": "markdown",
   "id": "d4b5b6eb",
   "metadata": {},
   "source": [
    "## Question 3\n",
    "\n",
    "Use parameters from the GridSearch in question #2. Train new model as following:\n",
    "- Train model on a combined dataset: train+validation\n",
    "- Don't use cross-validation - `nfolds=0`\n",
    "- Evaluate trained model on test dataset\n",
    "- Compare AUC (test dataset) metrics from the question #2 and #3"
   ]
  },
  {
   "cell_type": "code",
   "execution_count": 18,
   "id": "2df8f88e",
   "metadata": {},
   "outputs": [],
   "source": [
    "newtrain_te=train_te.rbind(valid_te)  # combining train and validation data"
   ]
  },
  {
   "cell_type": "code",
   "execution_count": 19,
   "id": "45cdb725",
   "metadata": {
    "scrolled": true
   },
   "outputs": [
    {
     "name": "stdout",
     "output_type": "stream",
     "text": [
      "Rows:382169\n",
      "Cols:27\n",
      "\n",
      "\n"
     ]
    },
    {
     "data": {
      "text/html": [
       "<table>\n",
       "<thead>\n",
       "<tr><th>       </th><th>City_te              </th><th>State_te            </th><th>Zip_te              </th><th>Bank_te             </th><th>BankState_te        </th><th>RevLineCr_te        </th><th>LowDoc_te           </th><th>City      </th><th>State  </th><th>Zip  </th><th>Bank                          </th><th>BankState  </th><th>RevLineCr  </th><th>LowDoc  </th><th>NAICS            </th><th>Term              </th><th>NoEmp             </th><th>NewExist          </th><th>CreateJob         </th><th>RetainedJob       </th><th>FranchiseCode     </th><th>UrbanRural        </th><th>DisbursementGross  </th><th>BalanceGross     </th><th>GrAppv            </th><th>SBA_Appv          </th><th>Defaulted  </th></tr>\n",
       "</thead>\n",
       "<tbody>\n",
       "<tr><td>type   </td><td>real                 </td><td>real                </td><td>real                </td><td>real                </td><td>real                </td><td>real                </td><td>real                </td><td>enum      </td><td>enum   </td><td>enum </td><td>enum                          </td><td>enum       </td><td>enum       </td><td>enum    </td><td>int              </td><td>int               </td><td>int               </td><td>int               </td><td>int               </td><td>int               </td><td>int               </td><td>int               </td><td>int                </td><td>int              </td><td>int               </td><td>int               </td><td>enum       </td></tr>\n",
       "<tr><td>mins   </td><td>-0.14395347189905516 </td><td>-0.08558249324118866</td><td>-0.14695214828591374</td><td>-0.149949216841022  </td><td>-0.12052854682017504</td><td>-0.1262983923818528 </td><td>-0.06091226164867272</td><td>          </td><td>       </td><td>     </td><td>                              </td><td>           </td><td>           </td><td>        </td><td>0.0              </td><td>0.0               </td><td>0.0               </td><td>0.0               </td><td>0.0               </td><td>0.0               </td><td>0.0               </td><td>0.0               </td><td>0.0                </td><td>0.0              </td><td>300.0             </td><td>150.0             </td><td>           </td></tr>\n",
       "<tr><td>mean   </td><td>0.17526261864691367  </td><td>0.1750195025367032  </td><td>0.17551085827990504 </td><td>0.1760389210942565  </td><td>0.1751219641554052  </td><td>0.17506863692266122 </td><td>0.17502054941956843 </td><td>          </td><td>       </td><td>     </td><td>                              </td><td>           </td><td>           </td><td>        </td><td>398812.3474326803</td><td>110.76803194398289</td><td>11.507220627523417</td><td>1.2809224592982633</td><td>8.38337751099645  </td><td>10.760359945469153</td><td>2742.9209093359236</td><td>0.7579709500247275</td><td>201129.09234134638 </td><td>6.25893518312579 </td><td>192611.7557311032 </td><td>149471.83326224782</td><td>           </td></tr>\n",
       "<tr><td>maxs   </td><td>0.7869264188037377   </td><td>0.42402727515770544 </td><td>0.9107643440505807  </td><td>1.0212540485116688  </td><td>0.5354784207521788  </td><td>0.5792333522512692  </td><td>0.6230070888487687  </td><td>          </td><td>       </td><td>     </td><td>                              </td><td>           </td><td>           </td><td>        </td><td>928120.0         </td><td>569.0             </td><td>9999.0            </td><td>2.0               </td><td>8800.0            </td><td>8800.0            </td><td>99999.0           </td><td>2.0               </td><td>11000000.0         </td><td>996262.0         </td><td>5472000.0         </td><td>5472000.0         </td><td>           </td></tr>\n",
       "<tr><td>sigma  </td><td>0.1203302482171087   </td><td>0.09660007883084604 </td><td>0.13011985201969403 </td><td>0.15263948799962151 </td><td>0.11520851910219339 </td><td>0.10330218481343771 </td><td>0.09280301249248517 </td><td>          </td><td>       </td><td>     </td><td>                              </td><td>           </td><td>           </td><td>        </td><td>263274.284588425 </td><td>78.8805331616002  </td><td>80.43415011337257 </td><td>0.4520397973198286</td><td>235.85977752688396</td><td>236.28878161320034</td><td>12751.907645680438</td><td>0.6465515697026667</td><td>287827.195554478   </td><td>2197.717368329324</td><td>283671.52803138056</td><td>229161.3028274583 </td><td>           </td></tr>\n",
       "<tr><td>zeros  </td><td>0                    </td><td>0                   </td><td>0                   </td><td>0                   </td><td>0                   </td><td>0                   </td><td>0                   </td><td>          </td><td>       </td><td>     </td><td>                              </td><td>           </td><td>           </td><td>        </td><td>85668            </td><td>331               </td><td>2790              </td><td>446               </td><td>267803            </td><td>187401            </td><td>89008             </td><td>137320            </td><td>88                 </td><td>382161           </td><td>0                 </td><td>0                 </td><td>           </td></tr>\n",
       "<tr><td>missing</td><td>0                    </td><td>0                   </td><td>0                   </td><td>0                   </td><td>0                   </td><td>0                   </td><td>0                   </td><td>0         </td><td>0      </td><td>0    </td><td>0                             </td><td>0          </td><td>0          </td><td>0       </td><td>0                </td><td>0                 </td><td>0                 </td><td>60                </td><td>0                 </td><td>0                 </td><td>0                 </td><td>0                 </td><td>0                  </td><td>0                </td><td>0                 </td><td>0                 </td><td>0          </td></tr>\n",
       "<tr><td>0      </td><td>0.1898125820812527   </td><td>0.26162576785935976 </td><td>0.19967623159904307 </td><td>0.08126578707804624 </td><td>0.28957351440250284 </td><td>0.21800813514866518 </td><td>0.25627868889315736 </td><td>BETHESDA  </td><td>MD     </td><td>20814</td><td>WACHOVIA SBA LENDING, INC.    </td><td>CA         </td><td>0          </td><td>N       </td><td>621111.0         </td><td>300.0             </td><td>9.0               </td><td>1.0               </td><td>0.0               </td><td>9.0               </td><td>1.0               </td><td>1.0               </td><td>740400.0           </td><td>0.0              </td><td>740400.0          </td><td>555300.0          </td><td>0          </td></tr>\n",
       "<tr><td>1      </td><td>0.12823702212714713  </td><td>0.15794599135403178 </td><td>0.024643811850561387</td><td>0.07418434584979167 </td><td>0.15061038648900382 </td><td>0.0778870932927953  </td><td>0.11781470893366947 </td><td>FRANKFORT </td><td>IL     </td><td>60423</td><td>CENTRUE BANK                  </td><td>IL         </td><td>N          </td><td>N       </td><td>561730.0         </td><td>48.0              </td><td>6.0               </td><td>1.0               </td><td>5.0               </td><td>6.0               </td><td>0.0               </td><td>1.0               </td><td>30000.0            </td><td>0.0              </td><td>30000.0           </td><td>15000.0           </td><td>0          </td></tr>\n",
       "<tr><td>2      </td><td>0.10543414006032795  </td><td>0.16625725781027384 </td><td>0.09736257617382421 </td><td>0.18066908833133621 </td><td>0.21766751452973976 </td><td>0.4686637559606808  </td><td>0.22590896604998723 </td><td>MARBLEHEAD</td><td>MA     </td><td>1945 </td><td>WELLS FARGO BANK NATL ASSOC   </td><td>SD         </td><td>T          </td><td>N       </td><td>421690.0         </td><td>60.0              </td><td>1.0               </td><td>1.0               </td><td>0.0               </td><td>0.0               </td><td>1.0               </td><td>0.0               </td><td>25000.0            </td><td>0.0              </td><td>25000.0           </td><td>12500.0           </td><td>0          </td></tr>\n",
       "<tr><td>3      </td><td>0.36526189536022124  </td><td>0.3317355073335949  </td><td>0.3081225694026883  </td><td>0.3568642778998853  </td><td>0.28654096565268095 </td><td>0.2929175011983739  </td><td>0.3328451168392481  </td><td>OAKLAND   </td><td>CA     </td><td>94608</td><td>CITICAPITAL SMALL BUS. FINANCE</td><td>TX         </td><td>N          </td><td>N       </td><td>0.0              </td><td>29.0              </td><td>10.0              </td><td>1.0               </td><td>0.0               </td><td>0.0               </td><td>0.0               </td><td>0.0               </td><td>75000.0            </td><td>0.0              </td><td>75000.0           </td><td>67500.0           </td><td>0          </td></tr>\n",
       "<tr><td>4      </td><td>-0.011164015256873827</td><td>0.060588946769396884</td><td>0.017535628648282897</td><td>-0.0352856704166932 </td><td>-0.04417537226414406</td><td>0.3082619884683865  </td><td>0.06550719855769291 </td><td>WHEATRIDGE</td><td>CO     </td><td>80033</td><td>VECTRA BK COLORADO NATL ASSOC </td><td>NM         </td><td>T          </td><td>N       </td><td>531110.0         </td><td>120.0             </td><td>2.0               </td><td>1.0               </td><td>0.0               </td><td>2.0               </td><td>0.0               </td><td>1.0               </td><td>70520.0            </td><td>0.0              </td><td>50000.0           </td><td>25000.0           </td><td>0          </td></tr>\n",
       "<tr><td>5      </td><td>0.10517521350895433  </td><td>0.11796561638853621 </td><td>0.06254585192152967 </td><td>0.2482636442564245  </td><td>0.15561797504510813 </td><td>0.11933466123255361 </td><td>0.15926227687342775 </td><td>BOISE     </td><td>ID     </td><td>83705</td><td>BANK OF AMERICA NATL ASSOC    </td><td>OR         </td><td>N          </td><td>N       </td><td>326191.0         </td><td>84.0              </td><td>80.0              </td><td>1.0               </td><td>0.0               </td><td>0.0               </td><td>1.0               </td><td>0.0               </td><td>700000.0           </td><td>0.0              </td><td>700000.0          </td><td>525000.0          </td><td>0          </td></tr>\n",
       "<tr><td>6      </td><td>0.02126720450645675  </td><td>0.021089701063744803</td><td>0.07548587997852918 </td><td>0.06253697420287582 </td><td>0.04241266583157735 </td><td>0.028311859833322656</td><td>0.06823947547419681 </td><td>BELLEVUE  </td><td>WA     </td><td>98006</td><td>U.S. BANK NATIONAL ASSOCIATION</td><td>OH         </td><td>N          </td><td>N       </td><td>422410.0         </td><td>36.0              </td><td>11.0              </td><td>1.0               </td><td>0.0               </td><td>0.0               </td><td>1.0               </td><td>0.0               </td><td>25000.0            </td><td>0.0              </td><td>25000.0           </td><td>18750.0           </td><td>0          </td></tr>\n",
       "<tr><td>7      </td><td>0.10521248245056936  </td><td>0.14775288471015133 </td><td>0.16235513236448004 </td><td>0.10362261649715346 </td><td>0.14062104269555703 </td><td>0.1105919404713123  </td><td>0.14886249421580447 </td><td>COSTA MESA</td><td>CA     </td><td>92626</td><td>WELLS FARGO BANK NATL ASSOC   </td><td>SD         </td><td>0          </td><td>N       </td><td>0.0              </td><td>120.0             </td><td>12.0              </td><td>1.0               </td><td>0.0               </td><td>0.0               </td><td>1.0               </td><td>0.0               </td><td>83000.0            </td><td>0.0              </td><td>83000.0           </td><td>66400.0           </td><td>0          </td></tr>\n",
       "<tr><td>8      </td><td>0.013823780192706386 </td><td>0.07340157043400786 </td><td>0.00945187691749226 </td><td>0.029907415522969244</td><td>0.04662634088132181 </td><td>0.06852049754770864 </td><td>0.1084481131885828  </td><td>JONESBURG </td><td>MO     </td><td>63351</td><td>FIRST BANK                    </td><td>MO         </td><td>N          </td><td>N       </td><td>332722.0         </td><td>60.0              </td><td>3.0               </td><td>2.0               </td><td>0.0               </td><td>0.0               </td><td>1.0               </td><td>0.0               </td><td>88900.0            </td><td>0.0              </td><td>88900.0           </td><td>80010.0           </td><td>0          </td></tr>\n",
       "<tr><td>9      </td><td>0.30211901142302267  </td><td>0.3122177518251721  </td><td>0.20494556774170955 </td><td>0.2680874836121742  </td><td>0.3050859098105778  </td><td>0.27505680758633305 </td><td>0.3133273613308252  </td><td>GARDENA   </td><td>CA     </td><td>90248</td><td>WELLS FARGO BANK NATL ASSOC   </td><td>SD         </td><td>0          </td><td>N       </td><td>421840.0         </td><td>120.0             </td><td>51.0              </td><td>1.0               </td><td>3.0               </td><td>54.0              </td><td>1.0               </td><td>1.0               </td><td>1105000.0          </td><td>0.0              </td><td>1105000.0         </td><td>828750.0          </td><td>0          </td></tr>\n",
       "</tbody>\n",
       "</table>"
      ]
     },
     "metadata": {},
     "output_type": "display_data"
    }
   ],
   "source": [
    "newtrain_te.describe()"
   ]
  },
  {
   "cell_type": "code",
   "execution_count": 20,
   "id": "40f3df9b",
   "metadata": {
    "scrolled": true
   },
   "outputs": [
    {
     "name": "stdout",
     "output_type": "stream",
     "text": [
      "glm Grid Build progress: |███████████████████████████████████████████████████████| (done) 100%\n"
     ]
    },
    {
     "name": "stderr",
     "output_type": "stream",
     "text": [
      "C:\\Users\\srbuj\\anaconda3\\lib\\site-packages\\h2o\\grid\\grid_search.py:423: UserWarning: Adding alpha array to hyperparameter runs slower with gridsearch.  This is due to the fact that the algo has to run initialization for every alpha value.  Setting the alpha array as a model parameter will skip the initialization and run faster overall.\n",
      "  warnings.warn(w_message);\n"
     ]
    },
    {
     "name": "stdout",
     "output_type": "stream",
     "text": [
      "        alpha  lambda           model_ids   logloss\n",
      "0         0.0    0.01   glm_grid2_model_1  0.333851\n",
      "1         0.0    0.01  glm_grid2_model_55  0.333851\n",
      "2         0.1    0.01   glm_grid2_model_2  0.334217\n",
      "3         0.1    0.01  glm_grid2_model_56  0.334217\n",
      "4         0.2    0.01   glm_grid2_model_3  0.334639\n",
      "..  ..    ...     ...                 ...       ...\n",
      "103       0.5    0.30  glm_grid2_model_95  0.463720\n",
      "104       0.7    0.30  glm_grid2_model_96  0.463720\n",
      "105       0.8    0.30  glm_grid2_model_97  0.463720\n",
      "106       0.9    0.30  glm_grid2_model_98  0.463720\n",
      "107       1.0    0.30  glm_grid2_model_99  0.463720\n",
      "\n",
      "[108 rows x 5 columns]\n"
     ]
    },
    {
     "data": {
      "text/plain": []
     },
     "execution_count": 20,
     "metadata": {},
     "output_type": "execute_result"
    }
   ],
   "source": [
    "from h2o.grid.grid_search import H2OGridSearch\n",
    "glm_params1  = {'alpha': [0, 0.1, 0.2, 0.3,0.5,0.7,0.8,0.9,1],\n",
    "               'lambda': [0.01, 0.05, 0.1, 0.2, 0.3, 0.4]}\n",
    "glm_grid2  = H2OGridSearch(model=H2OGeneralizedLinearEstimator,\n",
    "                          grid_id='glm_grid2',\n",
    "                          hyper_params=glm_params1)\n",
    "glm_grid2.train(x=predictors, y=response_col,\n",
    "               family='binomial',training_frame=newtrain_te,\n",
    "               seed=123)"
   ]
  },
  {
   "cell_type": "code",
   "execution_count": 21,
   "id": "81a4f298",
   "metadata": {},
   "outputs": [
    {
     "data": {
      "text/plain": [
       "0.8060719522013838"
      ]
     },
     "execution_count": 21,
     "metadata": {},
     "output_type": "execute_result"
    }
   ],
   "source": [
    "# Get the grid results, sorted by validation AUC\n",
    "gbm_gridperf2 = glm_grid2.get_grid(sort_by='auc', decreasing=True)\n",
    "gbm_gridperf2\n",
    "\n",
    "# Grab the top GBM model, chosen by validation AUC\n",
    "best_gbm2 = gbm_gridperf2.models[0]\n",
    "\n",
    "# Now let's evaluate the model performance on a test set\n",
    "# so we get an honest estimate of top model performance\n",
    "best_gbm_perf2 = best_gbm1.model_performance(test)\n",
    "\n",
    "best_gbm_perf2.auc()"
   ]
  },
  {
   "cell_type": "markdown",
   "id": "4c0c12dd",
   "metadata": {},
   "source": [
    "### The best model performance(based on auc) for test data is 0.806"
   ]
  },
  {
   "cell_type": "markdown",
   "id": "bd8629f9",
   "metadata": {},
   "source": [
    "## Question 4\n",
    "\n",
    "Do you see improvement in AUC metric on testing dataset between best model of the grid search and model trained with the same hyper parameters but on train+validation?\n",
    "\n",
    "How do you explain the results?"
   ]
  },
  {
   "cell_type": "markdown",
   "id": "69b34dee",
   "metadata": {},
   "source": [
    "### The AUC metrics on test data for both the (train+validation) data and the best model of grid search is the same \n",
    "(0.806)"
   ]
  },
  {
   "cell_type": "code",
   "execution_count": null,
   "id": "3b70052b",
   "metadata": {},
   "outputs": [],
   "source": []
  }
 ],
 "metadata": {
  "kernelspec": {
   "display_name": "Python 3",
   "language": "python",
   "name": "python3"
  },
  "language_info": {
   "codemirror_mode": {
    "name": "ipython",
    "version": 3
   },
   "file_extension": ".py",
   "mimetype": "text/x-python",
   "name": "python",
   "nbconvert_exporter": "python",
   "pygments_lexer": "ipython3",
   "version": "3.8.8"
  }
 },
 "nbformat": 4,
 "nbformat_minor": 5
}
